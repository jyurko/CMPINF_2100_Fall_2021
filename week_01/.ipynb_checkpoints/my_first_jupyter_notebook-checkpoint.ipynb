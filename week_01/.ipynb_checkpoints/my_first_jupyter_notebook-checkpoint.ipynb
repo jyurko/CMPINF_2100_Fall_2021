{
 "cells": [
  {
   "cell_type": "code",
   "execution_count": 1,
   "id": "14ce2be4",
   "metadata": {},
   "outputs": [
    {
     "data": {
      "text/plain": [
       "9"
      ]
     },
     "execution_count": 1,
     "metadata": {},
     "output_type": "execute_result"
    }
   ],
   "source": [
    "# this is a comment in a code cell\n",
    "\n",
    "## this is another comment\n",
    "\n",
    "### another comment\n",
    "\n",
    "2 + 2\n",
    "\n",
    "3 * 3"
   ]
  },
  {
   "cell_type": "code",
   "execution_count": 2,
   "id": "f8b7fe1e",
   "metadata": {},
   "outputs": [
    {
     "name": "stdout",
     "output_type": "stream",
     "text": [
      "4\n",
      "9\n"
     ]
    }
   ],
   "source": [
    "# if we want to display or print multiple output\n",
    "# we need to use the print() function\n",
    "\n",
    "print( 2 + 2 )\n",
    "\n",
    "print( 3 * 3 )"
   ]
  },
  {
   "cell_type": "markdown",
   "id": "f7e7f1c8",
   "metadata": {},
   "source": [
    "This is a markdown cell. We type text like Word."
   ]
  },
  {
   "cell_type": "markdown",
   "id": "d1b39aa9",
   "metadata": {},
   "source": [
    "Another markdown cell.\n",
    "\n",
    "# This is a not comment\n",
    "\n",
    "## This is still not a comment\n",
    "\n",
    "### Yet again not a comment\n",
    "\n",
    "The hashtag, #, in a markdown cell is a section header."
   ]
  },
  {
   "cell_type": "markdown",
   "id": "5c230731",
   "metadata": {},
   "source": [
    "## Defining variables"
   ]
  },
  {
   "cell_type": "code",
   "execution_count": 3,
   "id": "258edb81",
   "metadata": {},
   "outputs": [],
   "source": [
    "x = 3\n",
    "\n",
    "y = 7"
   ]
  },
  {
   "cell_type": "markdown",
   "id": "0cfe4973",
   "metadata": {},
   "source": [
    "We can use magic commands to find out what variables we have."
   ]
  },
  {
   "cell_type": "code",
   "execution_count": 4,
   "id": "30dbf59e",
   "metadata": {},
   "outputs": [
    {
     "name": "stdout",
     "output_type": "stream",
     "text": [
      "Variable   Type    Data/Info\n",
      "----------------------------\n",
      "x          int     3\n",
      "y          int     7\n"
     ]
    }
   ],
   "source": [
    "# magic command starts with %\n",
    "%whos"
   ]
  },
  {
   "cell_type": "markdown",
   "id": "7e43d065",
   "metadata": {},
   "source": [
    "Let's define a new variable `z`."
   ]
  },
  {
   "cell_type": "code",
   "execution_count": 5,
   "id": "03a312ad",
   "metadata": {},
   "outputs": [],
   "source": [
    "z = x / y"
   ]
  },
  {
   "cell_type": "code",
   "execution_count": 6,
   "id": "59ade216",
   "metadata": {},
   "outputs": [
    {
     "name": "stdout",
     "output_type": "stream",
     "text": [
      "Variable   Type     Data/Info\n",
      "-----------------------------\n",
      "x          int      3\n",
      "y          int      7\n",
      "z          float    0.42857142857142855\n"
     ]
    }
   ],
   "source": [
    "%whos"
   ]
  },
  {
   "cell_type": "markdown",
   "id": "c1483c88",
   "metadata": {},
   "source": [
    "## Data types"
   ]
  },
  {
   "cell_type": "code",
   "execution_count": 7,
   "id": "bba96fc1",
   "metadata": {},
   "outputs": [
    {
     "data": {
      "text/plain": [
       "int"
      ]
     },
     "execution_count": 7,
     "metadata": {},
     "output_type": "execute_result"
    }
   ],
   "source": [
    "type( x )"
   ]
  },
  {
   "cell_type": "code",
   "execution_count": 8,
   "id": "8dbb6657",
   "metadata": {},
   "outputs": [
    {
     "name": "stdout",
     "output_type": "stream",
     "text": [
      "<class 'int'>\n"
     ]
    }
   ],
   "source": [
    "print( type(y) )"
   ]
  },
  {
   "cell_type": "code",
   "execution_count": 9,
   "id": "6a94c0b7",
   "metadata": {},
   "outputs": [
    {
     "name": "stdout",
     "output_type": "stream",
     "text": [
      "<class 'float'>\n"
     ]
    }
   ],
   "source": [
    "print( type(z) )"
   ]
  },
  {
   "cell_type": "markdown",
   "id": "aa72d6d5",
   "metadata": {},
   "source": [
    "## Strings"
   ]
  },
  {
   "cell_type": "code",
   "execution_count": 10,
   "id": "14c688e6",
   "metadata": {},
   "outputs": [],
   "source": [
    "my_string = 'abcde'"
   ]
  },
  {
   "cell_type": "code",
   "execution_count": 11,
   "id": "4627c2d0",
   "metadata": {},
   "outputs": [
    {
     "name": "stdout",
     "output_type": "stream",
     "text": [
      "Variable    Type     Data/Info\n",
      "------------------------------\n",
      "my_string   str      abcde\n",
      "x           int      3\n",
      "y           int      7\n",
      "z           float    0.42857142857142855\n"
     ]
    }
   ],
   "source": [
    "%whos"
   ]
  },
  {
   "cell_type": "markdown",
   "id": "66edb6f3",
   "metadata": {},
   "source": [
    "Strings have length in Python."
   ]
  },
  {
   "cell_type": "code",
   "execution_count": 12,
   "id": "72a73646",
   "metadata": {},
   "outputs": [
    {
     "data": {
      "text/plain": [
       "5"
      ]
     },
     "execution_count": 12,
     "metadata": {},
     "output_type": "execute_result"
    }
   ],
   "source": [
    "len(my_string)"
   ]
  },
  {
   "cell_type": "markdown",
   "id": "0c9c1cb7",
   "metadata": {},
   "source": [
    "We can subset or index via the `[]`."
   ]
  },
  {
   "cell_type": "code",
   "execution_count": 13,
   "id": "6a549413",
   "metadata": {},
   "outputs": [
    {
     "data": {
      "text/plain": [
       "'b'"
      ]
     },
     "execution_count": 13,
     "metadata": {},
     "output_type": "execute_result"
    }
   ],
   "source": [
    "my_string[1]"
   ]
  },
  {
   "cell_type": "markdown",
   "id": "f7b30b5b",
   "metadata": {},
   "source": [
    "Python is **ZERO BASED INDEXED**."
   ]
  },
  {
   "cell_type": "code",
   "execution_count": 14,
   "id": "23fd7019",
   "metadata": {},
   "outputs": [
    {
     "data": {
      "text/plain": [
       "'a'"
      ]
     },
     "execution_count": 14,
     "metadata": {},
     "output_type": "execute_result"
    }
   ],
   "source": [
    "my_string[0]"
   ]
  },
  {
   "cell_type": "markdown",
   "id": "229a5871",
   "metadata": {},
   "source": [
    "## Slicing\n",
    "\n",
    "Provide the \"beginning\" or starting index and the total number of extract."
   ]
  },
  {
   "cell_type": "code",
   "execution_count": 15,
   "id": "e3902c2f",
   "metadata": {},
   "outputs": [
    {
     "data": {
      "text/plain": [
       "'abc'"
      ]
     },
     "execution_count": 15,
     "metadata": {},
     "output_type": "execute_result"
    }
   ],
   "source": [
    "my_string[0:3]"
   ]
  },
  {
   "cell_type": "code",
   "execution_count": 16,
   "id": "8534a1ef",
   "metadata": {},
   "outputs": [
    {
     "data": {
      "text/plain": [
       "'d'"
      ]
     },
     "execution_count": 16,
     "metadata": {},
     "output_type": "execute_result"
    }
   ],
   "source": [
    "my_string[3]"
   ]
  },
  {
   "cell_type": "code",
   "execution_count": 17,
   "id": "9e8d87ad",
   "metadata": {},
   "outputs": [
    {
     "data": {
      "text/plain": [
       "3"
      ]
     },
     "execution_count": 17,
     "metadata": {},
     "output_type": "execute_result"
    }
   ],
   "source": [
    "len( my_string[0:3] )"
   ]
  },
  {
   "cell_type": "code",
   "execution_count": 18,
   "id": "8ffb027e",
   "metadata": {},
   "outputs": [
    {
     "data": {
      "text/plain": [
       "'abc'"
      ]
     },
     "execution_count": 18,
     "metadata": {},
     "output_type": "execute_result"
    }
   ],
   "source": [
    "my_string[:3]"
   ]
  },
  {
   "cell_type": "code",
   "execution_count": 19,
   "id": "e294ae87",
   "metadata": {},
   "outputs": [
    {
     "data": {
      "text/plain": [
       "'bcde'"
      ]
     },
     "execution_count": 19,
     "metadata": {},
     "output_type": "execute_result"
    }
   ],
   "source": [
    "my_string[1:]"
   ]
  },
  {
   "cell_type": "markdown",
   "id": "d2b8e05f",
   "metadata": {},
   "source": [
    "If we want to subset \"backwards\" from the end we need to use negatives."
   ]
  },
  {
   "cell_type": "code",
   "execution_count": 20,
   "id": "eeed766b",
   "metadata": {},
   "outputs": [
    {
     "data": {
      "text/plain": [
       "'e'"
      ]
     },
     "execution_count": 20,
     "metadata": {},
     "output_type": "execute_result"
    }
   ],
   "source": [
    "my_string[-1]"
   ]
  },
  {
   "cell_type": "code",
   "execution_count": 21,
   "id": "c2356214",
   "metadata": {},
   "outputs": [
    {
     "data": {
      "text/plain": [
       "'d'"
      ]
     },
     "execution_count": 21,
     "metadata": {},
     "output_type": "execute_result"
    }
   ],
   "source": [
    "my_string[-2]"
   ]
  },
  {
   "cell_type": "markdown",
   "id": "4efdb26b",
   "metadata": {},
   "source": [
    "## Lists"
   ]
  },
  {
   "cell_type": "markdown",
   "id": "6479aeaf",
   "metadata": {},
   "source": [
    "A structured data type that can contain multiple elements. It's sequential so we subset it through an index."
   ]
  },
  {
   "cell_type": "code",
   "execution_count": 22,
   "id": "cf055443",
   "metadata": {},
   "outputs": [],
   "source": [
    "an_empty_list = []"
   ]
  },
  {
   "cell_type": "code",
   "execution_count": 23,
   "id": "e4ae4c10",
   "metadata": {},
   "outputs": [
    {
     "name": "stdout",
     "output_type": "stream",
     "text": [
      "Variable        Type     Data/Info\n",
      "----------------------------------\n",
      "an_empty_list   list     n=0\n",
      "my_string       str      abcde\n",
      "x               int      3\n",
      "y               int      7\n",
      "z               float    0.42857142857142855\n"
     ]
    }
   ],
   "source": [
    "%whos"
   ]
  },
  {
   "cell_type": "code",
   "execution_count": 24,
   "id": "b9561fef",
   "metadata": {},
   "outputs": [
    {
     "name": "stdout",
     "output_type": "stream",
     "text": [
      "0\n"
     ]
    }
   ],
   "source": [
    "print(len(an_empty_list))"
   ]
  },
  {
   "cell_type": "code",
   "execution_count": 25,
   "id": "50f5c42f",
   "metadata": {},
   "outputs": [],
   "source": [
    "the_hobbits = ['frodo', 'sam', 'merry', 'pippin']"
   ]
  },
  {
   "cell_type": "code",
   "execution_count": 26,
   "id": "e5962d7b",
   "metadata": {},
   "outputs": [
    {
     "name": "stdout",
     "output_type": "stream",
     "text": [
      "['frodo', 'sam', 'merry', 'pippin']\n"
     ]
    }
   ],
   "source": [
    "print( the_hobbits )"
   ]
  },
  {
   "cell_type": "code",
   "execution_count": 27,
   "id": "31f151cf",
   "metadata": {},
   "outputs": [
    {
     "name": "stdout",
     "output_type": "stream",
     "text": [
      "<class 'list'>\n",
      "<class 'str'>\n"
     ]
    }
   ],
   "source": [
    "print(type(the_hobbits))\n",
    "\n",
    "print( type(the_hobbits[0]) )"
   ]
  },
  {
   "cell_type": "code",
   "execution_count": 28,
   "id": "775f4212",
   "metadata": {},
   "outputs": [
    {
     "name": "stdout",
     "output_type": "stream",
     "text": [
      "<class 'str'>\n"
     ]
    }
   ],
   "source": [
    "print(type(the_hobbits[1]) )"
   ]
  },
  {
   "cell_type": "code",
   "execution_count": 29,
   "id": "0d84cea8",
   "metadata": {},
   "outputs": [
    {
     "data": {
      "text/plain": [
       "'sam'"
      ]
     },
     "execution_count": 29,
     "metadata": {},
     "output_type": "execute_result"
    }
   ],
   "source": [
    "the_hobbits[1]"
   ]
  },
  {
   "cell_type": "markdown",
   "id": "3c4ff925",
   "metadata": {},
   "source": [
    "Lists are heterogenous so they can store different types in each element."
   ]
  },
  {
   "cell_type": "code",
   "execution_count": 30,
   "id": "cad66041",
   "metadata": {},
   "outputs": [],
   "source": [
    "another_list = [1, 1.0, 'one', \"1.1\"]"
   ]
  },
  {
   "cell_type": "code",
   "execution_count": 31,
   "id": "f7391796",
   "metadata": {},
   "outputs": [
    {
     "data": {
      "text/plain": [
       "list"
      ]
     },
     "execution_count": 31,
     "metadata": {},
     "output_type": "execute_result"
    }
   ],
   "source": [
    "type(another_list)"
   ]
  },
  {
   "cell_type": "code",
   "execution_count": 32,
   "id": "46af529c",
   "metadata": {},
   "outputs": [
    {
     "name": "stdout",
     "output_type": "stream",
     "text": [
      "<class 'int'> <class 'float'>\n"
     ]
    }
   ],
   "source": [
    "print( type(another_list[0]), type(another_list[1]) )"
   ]
  },
  {
   "cell_type": "markdown",
   "id": "39e96e0f",
   "metadata": {},
   "source": [
    "Lists can store other lists."
   ]
  },
  {
   "cell_type": "code",
   "execution_count": 33,
   "id": "77d3e3a2",
   "metadata": {},
   "outputs": [],
   "source": [
    "list_of_lists = [the_hobbits, another_list, 1.0]"
   ]
  },
  {
   "cell_type": "code",
   "execution_count": 34,
   "id": "c1f7edfd",
   "metadata": {},
   "outputs": [
    {
     "data": {
      "text/plain": [
       "list"
      ]
     },
     "execution_count": 34,
     "metadata": {},
     "output_type": "execute_result"
    }
   ],
   "source": [
    "type(list_of_lists)"
   ]
  },
  {
   "cell_type": "code",
   "execution_count": 35,
   "id": "30a1087c",
   "metadata": {},
   "outputs": [
    {
     "data": {
      "text/plain": [
       "list"
      ]
     },
     "execution_count": 35,
     "metadata": {},
     "output_type": "execute_result"
    }
   ],
   "source": [
    "type(list_of_lists[0])"
   ]
  },
  {
   "cell_type": "code",
   "execution_count": 36,
   "id": "94d3a14f",
   "metadata": {},
   "outputs": [
    {
     "data": {
      "text/plain": [
       "[['frodo', 'sam', 'merry', 'pippin'], [1, 1.0, 'one', '1.1'], 1.0]"
      ]
     },
     "execution_count": 36,
     "metadata": {},
     "output_type": "execute_result"
    }
   ],
   "source": [
    "list_of_lists"
   ]
  },
  {
   "cell_type": "markdown",
   "id": "a25b0b3f",
   "metadata": {},
   "source": [
    "## Iteration"
   ]
  },
  {
   "cell_type": "code",
   "execution_count": 37,
   "id": "94cae566",
   "metadata": {},
   "outputs": [
    {
     "name": "stdout",
     "output_type": "stream",
     "text": [
      "<class 'str'>\n"
     ]
    }
   ],
   "source": [
    "print(type(another_list[2]))"
   ]
  },
  {
   "cell_type": "code",
   "execution_count": 38,
   "id": "aee69b84",
   "metadata": {},
   "outputs": [
    {
     "name": "stdout",
     "output_type": "stream",
     "text": [
      "<class 'int'>\n",
      "<class 'float'>\n",
      "<class 'str'>\n",
      "<class 'str'>\n"
     ]
    }
   ],
   "source": [
    "print(type(another_list[0]))\n",
    "\n",
    "print(type(another_list[1]))\n",
    "\n",
    "print(type(another_list[2]))\n",
    "\n",
    "print(type(another_list[3]))"
   ]
  },
  {
   "cell_type": "markdown",
   "id": "7eba44b8",
   "metadata": {},
   "source": [
    "Use a for-loop to **iterate** over something.\n",
    "\n",
    "We can define a sequence to iterate over."
   ]
  },
  {
   "cell_type": "markdown",
   "id": "90035bf5",
   "metadata": {},
   "source": [
    "The `range()` function will create a **generator** of integers."
   ]
  },
  {
   "cell_type": "code",
   "execution_count": 39,
   "id": "f227f16d",
   "metadata": {},
   "outputs": [
    {
     "data": {
      "text/plain": [
       "range(0, 4)"
      ]
     },
     "execution_count": 39,
     "metadata": {},
     "output_type": "execute_result"
    }
   ],
   "source": [
    "range(4)"
   ]
  },
  {
   "cell_type": "code",
   "execution_count": 40,
   "id": "b491bd28",
   "metadata": {},
   "outputs": [
    {
     "data": {
      "text/plain": [
       "range"
      ]
     },
     "execution_count": 40,
     "metadata": {},
     "output_type": "execute_result"
    }
   ],
   "source": [
    "type(range(4))"
   ]
  },
  {
   "cell_type": "code",
   "execution_count": 41,
   "id": "2eb54e1c",
   "metadata": {},
   "outputs": [
    {
     "name": "stdout",
     "output_type": "stream",
     "text": [
      "0\n",
      "1\n",
      "2\n",
      "3\n"
     ]
    }
   ],
   "source": [
    "for n in range(4):\n",
    "    # i'm in the forloop\n",
    "    print(n)"
   ]
  },
  {
   "cell_type": "code",
   "execution_count": 42,
   "id": "2767d92f",
   "metadata": {},
   "outputs": [
    {
     "name": "stdout",
     "output_type": "stream",
     "text": [
      "Variable        Type     Data/Info\n",
      "----------------------------------\n",
      "an_empty_list   list     n=0\n",
      "another_list    list     n=4\n",
      "list_of_lists   list     n=3\n",
      "my_string       str      abcde\n",
      "n               int      3\n",
      "the_hobbits     list     n=4\n",
      "x               int      3\n",
      "y               int      7\n",
      "z               float    0.42857142857142855\n"
     ]
    }
   ],
   "source": [
    "%whos"
   ]
  },
  {
   "cell_type": "markdown",
   "id": "f2eb27c6",
   "metadata": {},
   "source": [
    "Indentation is very important!"
   ]
  },
  {
   "cell_type": "code",
   "execution_count": 43,
   "id": "ea1d9e13",
   "metadata": {},
   "outputs": [
    {
     "name": "stdout",
     "output_type": "stream",
     "text": [
      "0 3\n",
      "1 3\n",
      "2 3\n",
      "3 3\n"
     ]
    }
   ],
   "source": [
    "for new_n in range(4):\n",
    "    print(new_n, n)"
   ]
  },
  {
   "cell_type": "code",
   "execution_count": 44,
   "id": "5638be77",
   "metadata": {},
   "outputs": [
    {
     "name": "stdout",
     "output_type": "stream",
     "text": [
      "0 3 3\n",
      "1 3 3\n",
      "2 3 3\n",
      "3 3 3\n",
      "3 3 3\n"
     ]
    }
   ],
   "source": [
    "for m in range(4):\n",
    "    print(m, new_n, n) # in the for-loop\n",
    "# out of the forloop\n",
    "print(m, new_n, n)"
   ]
  },
  {
   "cell_type": "markdown",
   "id": "6a980785",
   "metadata": {},
   "source": [
    "Iterate over a list with `range()`."
   ]
  },
  {
   "cell_type": "code",
   "execution_count": 45,
   "id": "f523ce58",
   "metadata": {},
   "outputs": [
    {
     "name": "stdout",
     "output_type": "stream",
     "text": [
      "frodo\n",
      "sam\n",
      "merry\n",
      "pippin\n"
     ]
    }
   ],
   "source": [
    "for n in range(len(the_hobbits)):\n",
    "    print( the_hobbits[n] )"
   ]
  },
  {
   "cell_type": "markdown",
   "id": "6be3f142",
   "metadata": {},
   "source": [
    "However, a for-loop can iterate over any sequence."
   ]
  },
  {
   "cell_type": "code",
   "execution_count": 46,
   "id": "3e07c412",
   "metadata": {},
   "outputs": [
    {
     "name": "stdout",
     "output_type": "stream",
     "text": [
      "frodo\n",
      "sam\n",
      "merry\n",
      "pippin\n"
     ]
    }
   ],
   "source": [
    "for a_hobbit in the_hobbits:\n",
    "    print( a_hobbit )"
   ]
  },
  {
   "cell_type": "code",
   "execution_count": 47,
   "id": "a5acb69b",
   "metadata": {},
   "outputs": [
    {
     "name": "stdout",
     "output_type": "stream",
     "text": [
      "<class 'str'>\n",
      "<class 'str'>\n",
      "<class 'str'>\n",
      "<class 'str'>\n"
     ]
    }
   ],
   "source": [
    "for a_hobbit in the_hobbits:\n",
    "    print( type(a_hobbit) )"
   ]
  },
  {
   "cell_type": "code",
   "execution_count": 48,
   "id": "a5390df1",
   "metadata": {},
   "outputs": [
    {
     "name": "stdout",
     "output_type": "stream",
     "text": [
      "<class 'int'>\n",
      "<class 'float'>\n",
      "<class 'str'>\n",
      "<class 'str'>\n"
     ]
    }
   ],
   "source": [
    "for element in another_list:\n",
    "    print( type(element) )"
   ]
  },
  {
   "cell_type": "markdown",
   "id": "6e9009ef",
   "metadata": {},
   "source": [
    "Let's iterate over the list of lists."
   ]
  },
  {
   "cell_type": "code",
   "execution_count": 49,
   "id": "0dac1c6f",
   "metadata": {},
   "outputs": [
    {
     "name": "stdout",
     "output_type": "stream",
     "text": [
      "['frodo', 'sam', 'merry', 'pippin']\n",
      "[1, 1.0, 'one', '1.1']\n",
      "1.0\n"
     ]
    }
   ],
   "source": [
    "for ll in list_of_lists:\n",
    "    print( ll )"
   ]
  },
  {
   "cell_type": "code",
   "execution_count": null,
   "id": "bddd78d0",
   "metadata": {},
   "outputs": [],
   "source": []
  }
 ],
 "metadata": {
  "kernelspec": {
   "display_name": "Python 3 (ipykernel)",
   "language": "python",
   "name": "python3"
  },
  "language_info": {
   "codemirror_mode": {
    "name": "ipython",
    "version": 3
   },
   "file_extension": ".py",
   "mimetype": "text/x-python",
   "name": "python",
   "nbconvert_exporter": "python",
   "pygments_lexer": "ipython3",
   "version": "3.8.11"
  }
 },
 "nbformat": 4,
 "nbformat_minor": 5
}
