{
 "cells": [
  {
   "cell_type": "markdown",
   "id": "1fa67218",
   "metadata": {},
   "source": [
    "## CMPINF 2100 Fall 2021 - Week 13\n",
    "\n",
    "### Classification with the Sonar data set."
   ]
  },
  {
   "cell_type": "code",
   "execution_count": 1,
   "id": "5ffb8356",
   "metadata": {},
   "outputs": [],
   "source": [
    "import numpy as np\n",
    "import pandas as pd\n",
    "import matplotlib.pyplot as plt\n",
    "\n",
    "import seaborn as sns"
   ]
  },
  {
   "cell_type": "markdown",
   "id": "8b98833e",
   "metadata": {},
   "source": [
    "## Read data"
   ]
  },
  {
   "cell_type": "code",
   "execution_count": 2,
   "id": "0c53ec4f",
   "metadata": {},
   "outputs": [],
   "source": [
    "sonar_url = 'https://archive.ics.uci.edu/ml/machine-learning-databases/undocumented/connectionist-bench/sonar/sonar.all-data'"
   ]
  },
  {
   "cell_type": "code",
   "execution_count": 4,
   "id": "1dc8944d",
   "metadata": {},
   "outputs": [],
   "source": [
    "sonar_df = pd.read_csv( sonar_url, header=None, prefix='X' )"
   ]
  },
  {
   "cell_type": "code",
   "execution_count": 5,
   "id": "a041d103",
   "metadata": {},
   "outputs": [
    {
     "data": {
      "text/plain": [
       "(208, 61)"
      ]
     },
     "execution_count": 5,
     "metadata": {},
     "output_type": "execute_result"
    }
   ],
   "source": [
    "sonar_df.shape"
   ]
  },
  {
   "cell_type": "code",
   "execution_count": 6,
   "id": "70bb8d16",
   "metadata": {},
   "outputs": [],
   "source": [
    "sonar_df.rename(columns={'X60': 'response'}, inplace=True)"
   ]
  },
  {
   "cell_type": "code",
   "execution_count": 7,
   "id": "22f9bf8e",
   "metadata": {},
   "outputs": [
    {
     "data": {
      "text/plain": [
       "M    111\n",
       "R     97\n",
       "Name: response, dtype: int64"
      ]
     },
     "execution_count": 7,
     "metadata": {},
     "output_type": "execute_result"
    }
   ],
   "source": [
    "sonar_df.response.value_counts()"
   ]
  },
  {
   "cell_type": "code",
   "execution_count": 8,
   "id": "2f3667e3",
   "metadata": {},
   "outputs": [
    {
     "data": {
      "text/html": [
       "<div>\n",
       "<style scoped>\n",
       "    .dataframe tbody tr th:only-of-type {\n",
       "        vertical-align: middle;\n",
       "    }\n",
       "\n",
       "    .dataframe tbody tr th {\n",
       "        vertical-align: top;\n",
       "    }\n",
       "\n",
       "    .dataframe thead th {\n",
       "        text-align: right;\n",
       "    }\n",
       "</style>\n",
       "<table border=\"1\" class=\"dataframe\">\n",
       "  <thead>\n",
       "    <tr style=\"text-align: right;\">\n",
       "      <th></th>\n",
       "      <th>X0</th>\n",
       "      <th>X1</th>\n",
       "      <th>X2</th>\n",
       "      <th>X3</th>\n",
       "      <th>X4</th>\n",
       "      <th>X5</th>\n",
       "      <th>X6</th>\n",
       "      <th>X7</th>\n",
       "      <th>X8</th>\n",
       "      <th>X9</th>\n",
       "      <th>...</th>\n",
       "      <th>X51</th>\n",
       "      <th>X52</th>\n",
       "      <th>X53</th>\n",
       "      <th>X54</th>\n",
       "      <th>X55</th>\n",
       "      <th>X56</th>\n",
       "      <th>X57</th>\n",
       "      <th>X58</th>\n",
       "      <th>X59</th>\n",
       "      <th>response</th>\n",
       "    </tr>\n",
       "  </thead>\n",
       "  <tbody>\n",
       "    <tr>\n",
       "      <th>0</th>\n",
       "      <td>0.0200</td>\n",
       "      <td>0.0371</td>\n",
       "      <td>0.0428</td>\n",
       "      <td>0.0207</td>\n",
       "      <td>0.0954</td>\n",
       "      <td>0.0986</td>\n",
       "      <td>0.1539</td>\n",
       "      <td>0.1601</td>\n",
       "      <td>0.3109</td>\n",
       "      <td>0.2111</td>\n",
       "      <td>...</td>\n",
       "      <td>0.0027</td>\n",
       "      <td>0.0065</td>\n",
       "      <td>0.0159</td>\n",
       "      <td>0.0072</td>\n",
       "      <td>0.0167</td>\n",
       "      <td>0.0180</td>\n",
       "      <td>0.0084</td>\n",
       "      <td>0.0090</td>\n",
       "      <td>0.0032</td>\n",
       "      <td>R</td>\n",
       "    </tr>\n",
       "    <tr>\n",
       "      <th>1</th>\n",
       "      <td>0.0453</td>\n",
       "      <td>0.0523</td>\n",
       "      <td>0.0843</td>\n",
       "      <td>0.0689</td>\n",
       "      <td>0.1183</td>\n",
       "      <td>0.2583</td>\n",
       "      <td>0.2156</td>\n",
       "      <td>0.3481</td>\n",
       "      <td>0.3337</td>\n",
       "      <td>0.2872</td>\n",
       "      <td>...</td>\n",
       "      <td>0.0084</td>\n",
       "      <td>0.0089</td>\n",
       "      <td>0.0048</td>\n",
       "      <td>0.0094</td>\n",
       "      <td>0.0191</td>\n",
       "      <td>0.0140</td>\n",
       "      <td>0.0049</td>\n",
       "      <td>0.0052</td>\n",
       "      <td>0.0044</td>\n",
       "      <td>R</td>\n",
       "    </tr>\n",
       "    <tr>\n",
       "      <th>2</th>\n",
       "      <td>0.0262</td>\n",
       "      <td>0.0582</td>\n",
       "      <td>0.1099</td>\n",
       "      <td>0.1083</td>\n",
       "      <td>0.0974</td>\n",
       "      <td>0.2280</td>\n",
       "      <td>0.2431</td>\n",
       "      <td>0.3771</td>\n",
       "      <td>0.5598</td>\n",
       "      <td>0.6194</td>\n",
       "      <td>...</td>\n",
       "      <td>0.0232</td>\n",
       "      <td>0.0166</td>\n",
       "      <td>0.0095</td>\n",
       "      <td>0.0180</td>\n",
       "      <td>0.0244</td>\n",
       "      <td>0.0316</td>\n",
       "      <td>0.0164</td>\n",
       "      <td>0.0095</td>\n",
       "      <td>0.0078</td>\n",
       "      <td>R</td>\n",
       "    </tr>\n",
       "    <tr>\n",
       "      <th>3</th>\n",
       "      <td>0.0100</td>\n",
       "      <td>0.0171</td>\n",
       "      <td>0.0623</td>\n",
       "      <td>0.0205</td>\n",
       "      <td>0.0205</td>\n",
       "      <td>0.0368</td>\n",
       "      <td>0.1098</td>\n",
       "      <td>0.1276</td>\n",
       "      <td>0.0598</td>\n",
       "      <td>0.1264</td>\n",
       "      <td>...</td>\n",
       "      <td>0.0121</td>\n",
       "      <td>0.0036</td>\n",
       "      <td>0.0150</td>\n",
       "      <td>0.0085</td>\n",
       "      <td>0.0073</td>\n",
       "      <td>0.0050</td>\n",
       "      <td>0.0044</td>\n",
       "      <td>0.0040</td>\n",
       "      <td>0.0117</td>\n",
       "      <td>R</td>\n",
       "    </tr>\n",
       "    <tr>\n",
       "      <th>4</th>\n",
       "      <td>0.0762</td>\n",
       "      <td>0.0666</td>\n",
       "      <td>0.0481</td>\n",
       "      <td>0.0394</td>\n",
       "      <td>0.0590</td>\n",
       "      <td>0.0649</td>\n",
       "      <td>0.1209</td>\n",
       "      <td>0.2467</td>\n",
       "      <td>0.3564</td>\n",
       "      <td>0.4459</td>\n",
       "      <td>...</td>\n",
       "      <td>0.0031</td>\n",
       "      <td>0.0054</td>\n",
       "      <td>0.0105</td>\n",
       "      <td>0.0110</td>\n",
       "      <td>0.0015</td>\n",
       "      <td>0.0072</td>\n",
       "      <td>0.0048</td>\n",
       "      <td>0.0107</td>\n",
       "      <td>0.0094</td>\n",
       "      <td>R</td>\n",
       "    </tr>\n",
       "  </tbody>\n",
       "</table>\n",
       "<p>5 rows × 61 columns</p>\n",
       "</div>"
      ],
      "text/plain": [
       "       X0      X1      X2      X3      X4      X5      X6      X7      X8  \\\n",
       "0  0.0200  0.0371  0.0428  0.0207  0.0954  0.0986  0.1539  0.1601  0.3109   \n",
       "1  0.0453  0.0523  0.0843  0.0689  0.1183  0.2583  0.2156  0.3481  0.3337   \n",
       "2  0.0262  0.0582  0.1099  0.1083  0.0974  0.2280  0.2431  0.3771  0.5598   \n",
       "3  0.0100  0.0171  0.0623  0.0205  0.0205  0.0368  0.1098  0.1276  0.0598   \n",
       "4  0.0762  0.0666  0.0481  0.0394  0.0590  0.0649  0.1209  0.2467  0.3564   \n",
       "\n",
       "       X9  ...     X51     X52     X53     X54     X55     X56     X57  \\\n",
       "0  0.2111  ...  0.0027  0.0065  0.0159  0.0072  0.0167  0.0180  0.0084   \n",
       "1  0.2872  ...  0.0084  0.0089  0.0048  0.0094  0.0191  0.0140  0.0049   \n",
       "2  0.6194  ...  0.0232  0.0166  0.0095  0.0180  0.0244  0.0316  0.0164   \n",
       "3  0.1264  ...  0.0121  0.0036  0.0150  0.0085  0.0073  0.0050  0.0044   \n",
       "4  0.4459  ...  0.0031  0.0054  0.0105  0.0110  0.0015  0.0072  0.0048   \n",
       "\n",
       "      X58     X59  response  \n",
       "0  0.0090  0.0032         R  \n",
       "1  0.0052  0.0044         R  \n",
       "2  0.0095  0.0078         R  \n",
       "3  0.0040  0.0117         R  \n",
       "4  0.0107  0.0094         R  \n",
       "\n",
       "[5 rows x 61 columns]"
      ]
     },
     "execution_count": 8,
     "metadata": {},
     "output_type": "execute_result"
    }
   ],
   "source": [
    "sonar_df.head()"
   ]
  },
  {
   "cell_type": "markdown",
   "id": "9a1742f2",
   "metadata": {},
   "source": [
    "## Elastic net\n",
    "\n",
    "Blend the ridge and lasso penalties with the elastic net penalty."
   ]
  },
  {
   "cell_type": "markdown",
   "id": "5fbff3e4",
   "metadata": {},
   "source": [
    "Load in modules to support training and assessing the elastic net penalty for logistic regression in Pipeline."
   ]
  },
  {
   "cell_type": "code",
   "execution_count": 9,
   "id": "bc5a86c4",
   "metadata": {},
   "outputs": [],
   "source": [
    "from sklearn.preprocessing import StandardScaler\n",
    "\n",
    "from sklearn.model_selection import RepeatedStratifiedKFold\n",
    "\n",
    "from sklearn.linear_model import LogisticRegression"
   ]
  },
  {
   "cell_type": "code",
   "execution_count": 10,
   "id": "e520c8b7",
   "metadata": {},
   "outputs": [],
   "source": [
    "from sklearn.pipeline import Pipeline"
   ]
  },
  {
   "cell_type": "code",
   "execution_count": 11,
   "id": "8133e834",
   "metadata": {},
   "outputs": [],
   "source": [
    "from sklearn.model_selection import cross_val_score"
   ]
  },
  {
   "cell_type": "markdown",
   "id": "53f32e8e",
   "metadata": {},
   "source": [
    "### Pipeline\n",
    "\n",
    "Setup the inputs and output. Then create the pipeline for the elastic net model with default parameters."
   ]
  },
  {
   "cell_type": "code",
   "execution_count": 12,
   "id": "3cb38c88",
   "metadata": {},
   "outputs": [],
   "source": [
    "xinputs = sonar_df.select_dtypes('number').copy()\n",
    "youtput = sonar_df.loc[:, ['response']].copy()"
   ]
  },
  {
   "cell_type": "code",
   "execution_count": 13,
   "id": "9529d0fc",
   "metadata": {},
   "outputs": [],
   "source": [
    "X_train = xinputs.to_numpy()\n",
    "y_train = youtput.response.to_numpy().ravel()"
   ]
  },
  {
   "cell_type": "code",
   "execution_count": 14,
   "id": "dfcfae61",
   "metadata": {},
   "outputs": [
    {
     "data": {
      "text/plain": [
       "(208,)"
      ]
     },
     "execution_count": 14,
     "metadata": {},
     "output_type": "execute_result"
    }
   ],
   "source": [
    "y_train.shape"
   ]
  },
  {
   "cell_type": "code",
   "execution_count": 15,
   "id": "f89a0cad",
   "metadata": {},
   "outputs": [
    {
     "data": {
      "text/plain": [
       "(208, 60)"
      ]
     },
     "execution_count": 15,
     "metadata": {},
     "output_type": "execute_result"
    }
   ],
   "source": [
    "X_train.shape"
   ]
  },
  {
   "cell_type": "markdown",
   "id": "60273d74",
   "metadata": {},
   "source": [
    "Define the model object for the elastic net model."
   ]
  },
  {
   "cell_type": "code",
   "execution_count": 16,
   "id": "c6163598",
   "metadata": {},
   "outputs": [],
   "source": [
    "enet_default = LogisticRegression(penalty='elasticnet', solver='saga', random_state=101, max_iter=10001,\n",
    "                                  C=1.0, l1_ratio=0.5)"
   ]
  },
  {
   "cell_type": "markdown",
   "id": "b3e42e65",
   "metadata": {},
   "source": [
    "Define the pipeline."
   ]
  },
  {
   "cell_type": "code",
   "execution_count": 17,
   "id": "72fced20",
   "metadata": {},
   "outputs": [],
   "source": [
    "default_enet_wflow = Pipeline( steps=[('std_inputs', StandardScaler()), \n",
    "                                      ('enet', enet_default)] )"
   ]
  },
  {
   "cell_type": "code",
   "execution_count": 18,
   "id": "32ac8091",
   "metadata": {},
   "outputs": [
    {
     "data": {
      "text/plain": [
       "[('std_inputs', StandardScaler()),\n",
       " ('enet',\n",
       "  LogisticRegression(l1_ratio=0.5, max_iter=10001, penalty='elasticnet',\n",
       "                     random_state=101, solver='saga'))]"
      ]
     },
     "execution_count": 18,
     "metadata": {},
     "output_type": "execute_result"
    }
   ],
   "source": [
    "default_enet_wflow.steps"
   ]
  },
  {
   "cell_type": "markdown",
   "id": "18088aee",
   "metadata": {},
   "source": [
    "### Apply cross-validation"
   ]
  },
  {
   "cell_type": "code",
   "execution_count": 19,
   "id": "7774cddb",
   "metadata": {},
   "outputs": [],
   "source": [
    "my_cv = RepeatedStratifiedKFold(n_splits=5, n_repeats=2, random_state=101)"
   ]
  },
  {
   "cell_type": "code",
   "execution_count": 20,
   "id": "b09860e3",
   "metadata": {},
   "outputs": [],
   "source": [
    "enet_default_cv = cross_val_score(default_enet_wflow, X_train, y_train, cv=my_cv)"
   ]
  },
  {
   "cell_type": "code",
   "execution_count": 21,
   "id": "393fa243",
   "metadata": {},
   "outputs": [
    {
     "data": {
      "text/plain": [
       "array([0.80952381, 0.78571429, 0.66666667, 0.82926829, 0.80487805,\n",
       "       0.73809524, 0.80952381, 0.64285714, 0.87804878, 0.85365854])"
      ]
     },
     "execution_count": 21,
     "metadata": {},
     "output_type": "execute_result"
    }
   ],
   "source": [
    "enet_default_cv"
   ]
  },
  {
   "cell_type": "code",
   "execution_count": 22,
   "id": "b30fe714",
   "metadata": {},
   "outputs": [
    {
     "data": {
      "text/plain": [
       "0.7818234610917537"
      ]
     },
     "execution_count": 22,
     "metadata": {},
     "output_type": "execute_result"
    }
   ],
   "source": [
    "enet_default_cv.mean()"
   ]
  },
  {
   "cell_type": "code",
   "execution_count": 23,
   "id": "7428b8cd",
   "metadata": {},
   "outputs": [
    {
     "data": {
      "text/plain": [
       "M    0.533654\n",
       "R    0.466346\n",
       "Name: response, dtype: float64"
      ]
     },
     "execution_count": 23,
     "metadata": {},
     "output_type": "execute_result"
    }
   ],
   "source": [
    "sonar_df.response.value_counts(normalize=True)"
   ]
  },
  {
   "cell_type": "markdown",
   "id": "9aaf7b81",
   "metadata": {},
   "source": [
    "### Tune elastic net with grid search"
   ]
  },
  {
   "cell_type": "code",
   "execution_count": 24,
   "id": "96fca6ab",
   "metadata": {},
   "outputs": [],
   "source": [
    "from sklearn.model_selection import GridSearchCV"
   ]
  },
  {
   "cell_type": "code",
   "execution_count": 25,
   "id": "03e164b4",
   "metadata": {},
   "outputs": [],
   "source": [
    "enet_to_fit = LogisticRegression(penalty='elasticnet', solver='saga', random_state=101, max_iter=10001)"
   ]
  },
  {
   "cell_type": "code",
   "execution_count": 26,
   "id": "40c3225f",
   "metadata": {},
   "outputs": [],
   "source": [
    "enet_cv_wflow = Pipeline( steps = [('std_inputs', StandardScaler()), \n",
    "                                   ('enet', enet_to_fit)] )"
   ]
  },
  {
   "cell_type": "code",
   "execution_count": 27,
   "id": "2cbd7cee",
   "metadata": {},
   "outputs": [],
   "source": [
    "enet_grid = {'enet__C': np.exp(np.linspace(-6, 6, num=11)),\n",
    "             'enet__l1_ratio': np.linspace(0, 1, num=5)}"
   ]
  },
  {
   "cell_type": "code",
   "execution_count": 28,
   "id": "c7eab591",
   "metadata": {},
   "outputs": [
    {
     "data": {
      "text/plain": [
       "55"
      ]
     },
     "execution_count": 28,
     "metadata": {},
     "output_type": "execute_result"
    }
   ],
   "source": [
    "11 * 5"
   ]
  },
  {
   "cell_type": "code",
   "execution_count": 29,
   "id": "3823347b",
   "metadata": {},
   "outputs": [
    {
     "data": {
      "text/plain": [
       "550"
      ]
     },
     "execution_count": 29,
     "metadata": {},
     "output_type": "execute_result"
    }
   ],
   "source": [
    "11 * 5 * 5 * 2"
   ]
  },
  {
   "cell_type": "code",
   "execution_count": 30,
   "id": "846871d0",
   "metadata": {},
   "outputs": [],
   "source": [
    "enet_search = GridSearchCV(enet_cv_wflow, param_grid=enet_grid, cv=my_cv)"
   ]
  },
  {
   "cell_type": "code",
   "execution_count": 31,
   "id": "64065477",
   "metadata": {},
   "outputs": [],
   "source": [
    "enet_search_results = enet_search.fit(X_train, y_train)"
   ]
  },
  {
   "cell_type": "code",
   "execution_count": 32,
   "id": "7d4128b3",
   "metadata": {},
   "outputs": [
    {
     "data": {
      "text/plain": [
       "{'enet__C': 0.09071795328941247, 'enet__l1_ratio': 0.0}"
      ]
     },
     "execution_count": 32,
     "metadata": {},
     "output_type": "execute_result"
    }
   ],
   "source": [
    "enet_search_results.best_params_"
   ]
  },
  {
   "cell_type": "code",
   "execution_count": 33,
   "id": "98bd6581",
   "metadata": {},
   "outputs": [
    {
     "data": {
      "text/plain": [
       "0.8007549361207899"
      ]
     },
     "execution_count": 33,
     "metadata": {},
     "output_type": "execute_result"
    }
   ],
   "source": [
    "enet_search_results.best_score_"
   ]
  },
  {
   "cell_type": "code",
   "execution_count": 34,
   "id": "0d21a274",
   "metadata": {},
   "outputs": [],
   "source": [
    "enet_cv_summary = pd.DataFrame({'C': enet_search_results.cv_results_['param_enet__C'].data.astype('float64'),\n",
    "                                'l1_ratio': enet_search_results.cv_results_['param_enet__l1_ratio'].data.astype('float64'),\n",
    "                                'mean_test_score': enet_search_results.cv_results_['mean_test_score'],\n",
    "                                'std_test_score': enet_search_results.cv_results_['std_test_score']})"
   ]
  },
  {
   "cell_type": "code",
   "execution_count": 35,
   "id": "4859a469",
   "metadata": {},
   "outputs": [
    {
     "data": {
      "text/html": [
       "<div>\n",
       "<style scoped>\n",
       "    .dataframe tbody tr th:only-of-type {\n",
       "        vertical-align: middle;\n",
       "    }\n",
       "\n",
       "    .dataframe tbody tr th {\n",
       "        vertical-align: top;\n",
       "    }\n",
       "\n",
       "    .dataframe thead th {\n",
       "        text-align: right;\n",
       "    }\n",
       "</style>\n",
       "<table border=\"1\" class=\"dataframe\">\n",
       "  <thead>\n",
       "    <tr style=\"text-align: right;\">\n",
       "      <th></th>\n",
       "      <th>C</th>\n",
       "      <th>l1_ratio</th>\n",
       "      <th>mean_test_score</th>\n",
       "      <th>std_test_score</th>\n",
       "    </tr>\n",
       "  </thead>\n",
       "  <tbody>\n",
       "    <tr>\n",
       "      <th>0</th>\n",
       "      <td>0.002479</td>\n",
       "      <td>0.00</td>\n",
       "      <td>0.759582</td>\n",
       "      <td>0.081452</td>\n",
       "    </tr>\n",
       "    <tr>\n",
       "      <th>1</th>\n",
       "      <td>0.002479</td>\n",
       "      <td>0.25</td>\n",
       "      <td>0.533682</td>\n",
       "      <td>0.009011</td>\n",
       "    </tr>\n",
       "    <tr>\n",
       "      <th>2</th>\n",
       "      <td>0.002479</td>\n",
       "      <td>0.50</td>\n",
       "      <td>0.533682</td>\n",
       "      <td>0.009011</td>\n",
       "    </tr>\n",
       "    <tr>\n",
       "      <th>3</th>\n",
       "      <td>0.002479</td>\n",
       "      <td>0.75</td>\n",
       "      <td>0.533682</td>\n",
       "      <td>0.009011</td>\n",
       "    </tr>\n",
       "    <tr>\n",
       "      <th>4</th>\n",
       "      <td>0.002479</td>\n",
       "      <td>1.00</td>\n",
       "      <td>0.533682</td>\n",
       "      <td>0.009011</td>\n",
       "    </tr>\n",
       "  </tbody>\n",
       "</table>\n",
       "</div>"
      ],
      "text/plain": [
       "          C  l1_ratio  mean_test_score  std_test_score\n",
       "0  0.002479      0.00         0.759582        0.081452\n",
       "1  0.002479      0.25         0.533682        0.009011\n",
       "2  0.002479      0.50         0.533682        0.009011\n",
       "3  0.002479      0.75         0.533682        0.009011\n",
       "4  0.002479      1.00         0.533682        0.009011"
      ]
     },
     "execution_count": 35,
     "metadata": {},
     "output_type": "execute_result"
    }
   ],
   "source": [
    "enet_cv_summary.head()"
   ]
  },
  {
   "cell_type": "code",
   "execution_count": 36,
   "id": "8d9e2326",
   "metadata": {},
   "outputs": [
    {
     "data": {
      "text/plain": [
       "(55, 4)"
      ]
     },
     "execution_count": 36,
     "metadata": {},
     "output_type": "execute_result"
    }
   ],
   "source": [
    "enet_cv_summary.shape"
   ]
  },
  {
   "cell_type": "code",
   "execution_count": 37,
   "id": "bca30f93",
   "metadata": {},
   "outputs": [],
   "source": [
    "enet_cv_summary['log_C'] = np.log( enet_cv_summary.C )"
   ]
  },
  {
   "cell_type": "code",
   "execution_count": 38,
   "id": "6579f17c",
   "metadata": {},
   "outputs": [
    {
     "data": {
      "text/plain": [
       "10"
      ]
     },
     "execution_count": 38,
     "metadata": {},
     "output_type": "execute_result"
    }
   ],
   "source": [
    "my_cv.get_n_splits()"
   ]
  },
  {
   "cell_type": "code",
   "execution_count": 39,
   "id": "5169eb75",
   "metadata": {},
   "outputs": [],
   "source": [
    "enet_cv_summary['mean_se'] = enet_cv_summary.std_test_score / np.sqrt( my_cv.get_n_splits() )"
   ]
  },
  {
   "cell_type": "code",
   "execution_count": 40,
   "id": "ae427a17",
   "metadata": {},
   "outputs": [
    {
     "data": {
      "text/html": [
       "<div>\n",
       "<style scoped>\n",
       "    .dataframe tbody tr th:only-of-type {\n",
       "        vertical-align: middle;\n",
       "    }\n",
       "\n",
       "    .dataframe tbody tr th {\n",
       "        vertical-align: top;\n",
       "    }\n",
       "\n",
       "    .dataframe thead th {\n",
       "        text-align: right;\n",
       "    }\n",
       "</style>\n",
       "<table border=\"1\" class=\"dataframe\">\n",
       "  <thead>\n",
       "    <tr style=\"text-align: right;\">\n",
       "      <th></th>\n",
       "      <th>C</th>\n",
       "      <th>l1_ratio</th>\n",
       "      <th>mean_test_score</th>\n",
       "      <th>std_test_score</th>\n",
       "      <th>log_C</th>\n",
       "      <th>mean_se</th>\n",
       "    </tr>\n",
       "  </thead>\n",
       "  <tbody>\n",
       "    <tr>\n",
       "      <th>0</th>\n",
       "      <td>0.002479</td>\n",
       "      <td>0.00</td>\n",
       "      <td>0.759582</td>\n",
       "      <td>0.081452</td>\n",
       "      <td>-6.0</td>\n",
       "      <td>0.025757</td>\n",
       "    </tr>\n",
       "    <tr>\n",
       "      <th>1</th>\n",
       "      <td>0.002479</td>\n",
       "      <td>0.25</td>\n",
       "      <td>0.533682</td>\n",
       "      <td>0.009011</td>\n",
       "      <td>-6.0</td>\n",
       "      <td>0.002850</td>\n",
       "    </tr>\n",
       "    <tr>\n",
       "      <th>2</th>\n",
       "      <td>0.002479</td>\n",
       "      <td>0.50</td>\n",
       "      <td>0.533682</td>\n",
       "      <td>0.009011</td>\n",
       "      <td>-6.0</td>\n",
       "      <td>0.002850</td>\n",
       "    </tr>\n",
       "    <tr>\n",
       "      <th>3</th>\n",
       "      <td>0.002479</td>\n",
       "      <td>0.75</td>\n",
       "      <td>0.533682</td>\n",
       "      <td>0.009011</td>\n",
       "      <td>-6.0</td>\n",
       "      <td>0.002850</td>\n",
       "    </tr>\n",
       "    <tr>\n",
       "      <th>4</th>\n",
       "      <td>0.002479</td>\n",
       "      <td>1.00</td>\n",
       "      <td>0.533682</td>\n",
       "      <td>0.009011</td>\n",
       "      <td>-6.0</td>\n",
       "      <td>0.002850</td>\n",
       "    </tr>\n",
       "  </tbody>\n",
       "</table>\n",
       "</div>"
      ],
      "text/plain": [
       "          C  l1_ratio  mean_test_score  std_test_score  log_C   mean_se\n",
       "0  0.002479      0.00         0.759582        0.081452   -6.0  0.025757\n",
       "1  0.002479      0.25         0.533682        0.009011   -6.0  0.002850\n",
       "2  0.002479      0.50         0.533682        0.009011   -6.0  0.002850\n",
       "3  0.002479      0.75         0.533682        0.009011   -6.0  0.002850\n",
       "4  0.002479      1.00         0.533682        0.009011   -6.0  0.002850"
      ]
     },
     "execution_count": 40,
     "metadata": {},
     "output_type": "execute_result"
    }
   ],
   "source": [
    "enet_cv_summary.head()"
   ]
  },
  {
   "cell_type": "code",
   "execution_count": 41,
   "id": "ed7563eb",
   "metadata": {},
   "outputs": [
    {
     "data": {
      "image/png": "[encoded data removed]",
      "text/plain": [
       "<Figure size 778.375x360 with 1 Axes>"
      ]
     },
     "metadata": {
      "needs_background": "light"
     },
     "output_type": "display_data"
    }
   ],
   "source": [
    "sns.relplot(data = enet_cv_summary, x='log_C', y='mean_test_score', hue='l1_ratio',\n",
    "            palette='coolwarm', kind='line', aspect=2.)\n",
    "\n",
    "plt.show()"
   ]
  },
  {
   "cell_type": "code",
   "execution_count": 43,
   "id": "65242848",
   "metadata": {},
   "outputs": [
    {
     "data": {
      "text/plain": [
       "array([[-0.28609336, -0.06061669,  0.16357596, -0.25714474, -0.10616183,\n",
       "         0.07499945,  0.18316243,  0.17654805, -0.2287575 , -0.13543214,\n",
       "        -0.37952586, -0.40029926, -0.10101352,  0.08451596,  0.14451916,\n",
       "         0.20414276,  0.14059689,  0.01219912, -0.09988011, -0.18697193,\n",
       "        -0.17836818, -0.14045837, -0.17232238, -0.17284356,  0.01069734,\n",
       "         0.03232004, -0.04321948, -0.09828755, -0.13985225, -0.13832641,\n",
       "         0.36764614, -0.03164969, -0.0789439 ,  0.06096334,  0.12122931,\n",
       "         0.33398753,  0.32538838, -0.06419431, -0.13746417,  0.25278338,\n",
       "         0.06593862, -0.03817179, -0.13954807, -0.25464379, -0.31193891,\n",
       "        -0.19590565, -0.11079258, -0.2603715 , -0.35740918,  0.26326908,\n",
       "        -0.21606456, -0.29515321, -0.03386587, -0.19941394,  0.10823228,\n",
       "        -0.02753169,  0.21550603, -0.14797231, -0.16396319, -0.03897375]])"
      ]
     },
     "execution_count": 43,
     "metadata": {},
     "output_type": "execute_result"
    }
   ],
   "source": [
    "enet_search_results.best_estimator_.named_steps['enet'].coef_"
   ]
  },
  {
   "cell_type": "markdown",
   "id": "97b70e95",
   "metadata": {},
   "source": [
    "### PCA as a preprocessing step"
   ]
  },
  {
   "cell_type": "code",
   "execution_count": 44,
   "id": "bbcc037e",
   "metadata": {},
   "outputs": [],
   "source": [
    "from sklearn.preprocessing import PolynomialFeatures"
   ]
  },
  {
   "cell_type": "code",
   "execution_count": 46,
   "id": "a90946b1",
   "metadata": {},
   "outputs": [
    {
     "data": {
      "text/plain": [
       "(208, 1830)"
      ]
     },
     "execution_count": 46,
     "metadata": {},
     "output_type": "execute_result"
    }
   ],
   "source": [
    "pd.DataFrame(PolynomialFeatures(degree=2, interaction_only=True, include_bias=False).fit_transform(X_train)).shape"
   ]
  },
  {
   "cell_type": "code",
   "execution_count": 47,
   "id": "f1cd05ae",
   "metadata": {},
   "outputs": [
    {
     "data": {
      "text/plain": [
       "(208, 120)"
      ]
     },
     "execution_count": 47,
     "metadata": {},
     "output_type": "execute_result"
    }
   ],
   "source": [
    "pd.DataFrame(PolynomialFeatures(degree=2, interaction_only=True, include_bias=False).fit_transform(X_train[:, :15])).shape"
   ]
  },
  {
   "cell_type": "markdown",
   "id": "c556c7fb",
   "metadata": {},
   "source": [
    "Use PCA to create 15 new **uncorrelated** features for us."
   ]
  },
  {
   "cell_type": "code",
   "execution_count": 48,
   "id": "863af560",
   "metadata": {},
   "outputs": [],
   "source": [
    "from sklearn.decomposition import PCA"
   ]
  },
  {
   "cell_type": "code",
   "execution_count": 49,
   "id": "a1c55f3b",
   "metadata": {},
   "outputs": [],
   "source": [
    "lasso_to_fit = LogisticRegression(penalty='l1', solver='saga', random_state=101, max_iter=10001)"
   ]
  },
  {
   "cell_type": "code",
   "execution_count": 50,
   "id": "44c723d7",
   "metadata": {},
   "outputs": [],
   "source": [
    "pca_interact_wflow = Pipeline( steps=[('std_inputs', StandardScaler()), \n",
    "                                      ('pca', PCA()), \n",
    "                                      ('make_pairs', PolynomialFeatures(degree=2, interaction_only=True, include_bias=False)), \n",
    "                                      ('lasso', lasso_to_fit)] )"
   ]
  },
  {
   "cell_type": "code",
   "execution_count": 51,
   "id": "5787f331",
   "metadata": {},
   "outputs": [],
   "source": [
    "pca_interact_grid = {'pca__n_components': [3, 5, 9, 15],\n",
    "                     'lasso__C': np.exp(np.linspace(-6, 6, num=7))}"
   ]
  },
  {
   "cell_type": "code",
   "execution_count": 52,
   "id": "134191ea",
   "metadata": {},
   "outputs": [
    {
     "data": {
      "text/plain": [
       "280"
      ]
     },
     "execution_count": 52,
     "metadata": {},
     "output_type": "execute_result"
    }
   ],
   "source": [
    "4 * 7 * 5 * 2"
   ]
  },
  {
   "cell_type": "code",
   "execution_count": 53,
   "id": "e5269268",
   "metadata": {},
   "outputs": [],
   "source": [
    "pca_interact_search = GridSearchCV( pca_interact_wflow, pca_interact_grid, cv=my_cv )"
   ]
  },
  {
   "cell_type": "code",
   "execution_count": 54,
   "id": "b0510d72",
   "metadata": {},
   "outputs": [],
   "source": [
    "pca_interact_search_results = pca_interact_search.fit(X_train, y_train)"
   ]
  },
  {
   "cell_type": "code",
   "execution_count": 55,
   "id": "dae3ab07",
   "metadata": {},
   "outputs": [
    {
     "data": {
      "text/plain": [
       "{'lasso__C': 7.38905609893065, 'pca__n_components': 5}"
      ]
     },
     "execution_count": 55,
     "metadata": {},
     "output_type": "execute_result"
    }
   ],
   "source": [
    "pca_interact_search_results.best_params_"
   ]
  },
  {
   "cell_type": "code",
   "execution_count": 56,
   "id": "74957261",
   "metadata": {},
   "outputs": [
    {
     "data": {
      "text/plain": [
       "0.8342044134727061"
      ]
     },
     "execution_count": 56,
     "metadata": {},
     "output_type": "execute_result"
    }
   ],
   "source": [
    "pca_interact_search_results.best_score_"
   ]
  },
  {
   "cell_type": "markdown",
   "id": "1694772d",
   "metadata": {},
   "source": [
    "Visualize the cross-validation results with respect to the log of the `C` parameter for each number of PCs retained."
   ]
  },
  {
   "cell_type": "code",
   "execution_count": 61,
   "id": "5c3c83b9",
   "metadata": {},
   "outputs": [],
   "source": [
    "pca_interact_cv_summary = pd.DataFrame({'n_components': pca_interact_search_results.cv_results_['param_pca__n_components'].data.astype('str'),\n",
    "                                        'C': pca_interact_search_results.cv_results_['param_lasso__C'].data.astype('float64'),\n",
    "                                        'mean_test_score': pca_interact_search_results.cv_results_['mean_test_score'],\n",
    "                                        'std_test_score': pca_interact_search_results.cv_results_['std_test_score']})"
   ]
  },
  {
   "cell_type": "code",
   "execution_count": 62,
   "id": "16393072",
   "metadata": {},
   "outputs": [],
   "source": [
    "pca_interact_cv_summary['mean_se'] = pca_interact_cv_summary.std_test_score / np.sqrt( my_cv.get_n_splits())\n",
    "\n",
    "pca_interact_cv_summary['log_C'] = np.log(pca_interact_cv_summary.C)"
   ]
  },
  {
   "cell_type": "code",
   "execution_count": 63,
   "id": "2be00f90",
   "metadata": {},
   "outputs": [
    {
     "data": {
      "image/png": "[encoded data removed]",
      "text/plain": [
       "<Figure size 800.75x360 with 1 Axes>"
      ]
     },
     "metadata": {
      "needs_background": "light"
     },
     "output_type": "display_data"
    }
   ],
   "source": [
    "sns.relplot(data = pca_interact_cv_summary, x='log_C', y='mean_test_score', hue='n_components',\n",
    "            kind='line', aspect=2)\n",
    "\n",
    "plt.show()"
   ]
  },
  {
   "cell_type": "markdown",
   "id": "7d72d595",
   "metadata": {},
   "source": [
    "The finalized or \"best estimator\" is a complete model!"
   ]
  },
  {
   "cell_type": "code",
   "execution_count": 57,
   "id": "e531cba3",
   "metadata": {},
   "outputs": [
    {
     "data": {
      "text/plain": [
       "Pipeline(steps=[('std_inputs', StandardScaler()), ('pca', PCA(n_components=5)),\n",
       "                ('make_pairs',\n",
       "                 PolynomialFeatures(include_bias=False, interaction_only=True)),\n",
       "                ('lasso',\n",
       "                 LogisticRegression(C=7.38905609893065, max_iter=10001,\n",
       "                                    penalty='l1', random_state=101,\n",
       "                                    solver='saga'))])"
      ]
     },
     "execution_count": 57,
     "metadata": {},
     "output_type": "execute_result"
    }
   ],
   "source": [
    "pca_interact_search_results.best_estimator_"
   ]
  },
  {
   "cell_type": "markdown",
   "id": "f212cb85",
   "metadata": {},
   "source": [
    "It even has a predict method! The `.predict_proba()` method predicts the probability for each class!"
   ]
  },
  {
   "cell_type": "code",
   "execution_count": 59,
   "id": "37396f5e",
   "metadata": {},
   "outputs": [
    {
     "data": {
      "text/html": [
       "<div>\n",
       "<style scoped>\n",
       "    .dataframe tbody tr th:only-of-type {\n",
       "        vertical-align: middle;\n",
       "    }\n",
       "\n",
       "    .dataframe tbody tr th {\n",
       "        vertical-align: top;\n",
       "    }\n",
       "\n",
       "    .dataframe thead th {\n",
       "        text-align: right;\n",
       "    }\n",
       "</style>\n",
       "<table border=\"1\" class=\"dataframe\">\n",
       "  <thead>\n",
       "    <tr style=\"text-align: right;\">\n",
       "      <th></th>\n",
       "      <th>0</th>\n",
       "      <th>1</th>\n",
       "    </tr>\n",
       "  </thead>\n",
       "  <tbody>\n",
       "    <tr>\n",
       "      <th>0</th>\n",
       "      <td>0.216998</td>\n",
       "      <td>0.783002</td>\n",
       "    </tr>\n",
       "    <tr>\n",
       "      <th>1</th>\n",
       "      <td>0.065238</td>\n",
       "      <td>0.934762</td>\n",
       "    </tr>\n",
       "    <tr>\n",
       "      <th>2</th>\n",
       "      <td>0.358556</td>\n",
       "      <td>0.641444</td>\n",
       "    </tr>\n",
       "    <tr>\n",
       "      <th>3</th>\n",
       "      <td>0.022980</td>\n",
       "      <td>0.977020</td>\n",
       "    </tr>\n",
       "    <tr>\n",
       "      <th>4</th>\n",
       "      <td>0.052238</td>\n",
       "      <td>0.947762</td>\n",
       "    </tr>\n",
       "  </tbody>\n",
       "</table>\n",
       "</div>"
      ],
      "text/plain": [
       "          0         1\n",
       "0  0.216998  0.783002\n",
       "1  0.065238  0.934762\n",
       "2  0.358556  0.641444\n",
       "3  0.022980  0.977020\n",
       "4  0.052238  0.947762"
      ]
     },
     "execution_count": 59,
     "metadata": {},
     "output_type": "execute_result"
    }
   ],
   "source": [
    "pd.DataFrame(pca_interact_search_results.predict_proba(X_train)).head()"
   ]
  },
  {
   "cell_type": "markdown",
   "id": "dda7260d",
   "metadata": {},
   "source": [
    "The `.predict()` method returns the class value assuming a default threshold of 50%."
   ]
  },
  {
   "cell_type": "code",
   "execution_count": 60,
   "id": "91e1e7e5",
   "metadata": {},
   "outputs": [
    {
     "data": {
      "text/html": [
       "<div>\n",
       "<style scoped>\n",
       "    .dataframe tbody tr th:only-of-type {\n",
       "        vertical-align: middle;\n",
       "    }\n",
       "\n",
       "    .dataframe tbody tr th {\n",
       "        vertical-align: top;\n",
       "    }\n",
       "\n",
       "    .dataframe thead th {\n",
       "        text-align: right;\n",
       "    }\n",
       "</style>\n",
       "<table border=\"1\" class=\"dataframe\">\n",
       "  <thead>\n",
       "    <tr style=\"text-align: right;\">\n",
       "      <th></th>\n",
       "      <th>0</th>\n",
       "    </tr>\n",
       "  </thead>\n",
       "  <tbody>\n",
       "    <tr>\n",
       "      <th>0</th>\n",
       "      <td>R</td>\n",
       "    </tr>\n",
       "    <tr>\n",
       "      <th>1</th>\n",
       "      <td>R</td>\n",
       "    </tr>\n",
       "    <tr>\n",
       "      <th>2</th>\n",
       "      <td>R</td>\n",
       "    </tr>\n",
       "    <tr>\n",
       "      <th>3</th>\n",
       "      <td>R</td>\n",
       "    </tr>\n",
       "    <tr>\n",
       "      <th>4</th>\n",
       "      <td>R</td>\n",
       "    </tr>\n",
       "  </tbody>\n",
       "</table>\n",
       "</div>"
      ],
      "text/plain": [
       "   0\n",
       "0  R\n",
       "1  R\n",
       "2  R\n",
       "3  R\n",
       "4  R"
      ]
     },
     "execution_count": 60,
     "metadata": {},
     "output_type": "execute_result"
    }
   ],
   "source": [
    "pd.DataFrame(pca_interact_search_results.predict(X_train)).head()"
   ]
  },
  {
   "cell_type": "code",
   "execution_count": null,
   "id": "cb850c4b",
   "metadata": {},
   "outputs": [],
   "source": []
  }
 ],
 "metadata": {
  "kernelspec": {
   "display_name": "Python 3 (ipykernel)",
   "language": "python",
   "name": "python3"
  },
  "language_info": {
   "codemirror_mode": {
    "name": "ipython",
    "version": 3
   },
   "file_extension": ".py",
   "mimetype": "text/x-python",
   "name": "python",
   "nbconvert_exporter": "python",
   "pygments_lexer": "ipython3",
   "version": "3.8.11"
  }
 },
 "nbformat": 4,
 "nbformat_minor": 5
}
