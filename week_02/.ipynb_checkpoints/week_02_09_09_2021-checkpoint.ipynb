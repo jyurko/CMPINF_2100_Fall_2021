{
 "cells": [
  {
   "cell_type": "markdown",
   "id": "f2398782",
   "metadata": {},
   "source": [
    "## CMPINF 2100 Fall 2021 - Week 02\n",
    "\n",
    "### Example builds on Week 02 readings"
   ]
  },
  {
   "cell_type": "markdown",
   "id": "d776db91",
   "metadata": {},
   "source": [
    "Let's first check the environment."
   ]
  },
  {
   "cell_type": "code",
   "execution_count": 1,
   "id": "8a617465",
   "metadata": {},
   "outputs": [
    {
     "name": "stdout",
     "output_type": "stream",
     "text": [
      "Interactive namespace is empty.\n"
     ]
    }
   ],
   "source": [
    "%whos"
   ]
  },
  {
   "cell_type": "markdown",
   "id": "12a2f4e3",
   "metadata": {},
   "source": [
    "## Random numbers\n",
    "\n",
    "We will create random numbers using the `random` module."
   ]
  },
  {
   "cell_type": "code",
   "execution_count": 2,
   "id": "747bec1d",
   "metadata": {},
   "outputs": [],
   "source": [
    "import random"
   ]
  },
  {
   "cell_type": "code",
   "execution_count": 3,
   "id": "915beeae",
   "metadata": {},
   "outputs": [
    {
     "name": "stdout",
     "output_type": "stream",
     "text": [
      "Variable   Type      Data/Info\n",
      "------------------------------\n",
      "random     module    <module 'random' from 'C:<...>inf2100\\\\lib\\\\random.py'>\n"
     ]
    }
   ],
   "source": [
    "%whos"
   ]
  },
  {
   "cell_type": "markdown",
   "id": "2918b862",
   "metadata": {},
   "source": [
    "We need to use the \"DOT NOTATION\" to call a function from the module."
   ]
  },
  {
   "cell_type": "code",
   "execution_count": 4,
   "id": "53c98263",
   "metadata": {},
   "outputs": [
    {
     "data": {
      "text/plain": [
       "['BPF',\n",
       " 'LOG4',\n",
       " 'NV_MAGICCONST',\n",
       " 'RECIP_BPF',\n",
       " 'Random',\n",
       " 'SG_MAGICCONST',\n",
       " 'SystemRandom',\n",
       " 'TWOPI',\n",
       " '_Sequence',\n",
       " '_Set',\n",
       " '__all__',\n",
       " '__builtins__',\n",
       " '__cached__',\n",
       " '__doc__',\n",
       " '__file__',\n",
       " '__loader__',\n",
       " '__name__',\n",
       " '__package__',\n",
       " '__spec__',\n",
       " '_accumulate',\n",
       " '_acos',\n",
       " '_bisect',\n",
       " '_ceil',\n",
       " '_cos',\n",
       " '_e',\n",
       " '_exp',\n",
       " '_inst',\n",
       " '_log',\n",
       " '_os',\n",
       " '_pi',\n",
       " '_random',\n",
       " '_repeat',\n",
       " '_sha512',\n",
       " '_sin',\n",
       " '_sqrt',\n",
       " '_test',\n",
       " '_test_generator',\n",
       " '_urandom',\n",
       " '_warn',\n",
       " 'betavariate',\n",
       " 'choice',\n",
       " 'choices',\n",
       " 'expovariate',\n",
       " 'gammavariate',\n",
       " 'gauss',\n",
       " 'getrandbits',\n",
       " 'getstate',\n",
       " 'lognormvariate',\n",
       " 'normalvariate',\n",
       " 'paretovariate',\n",
       " 'randint',\n",
       " 'random',\n",
       " 'randrange',\n",
       " 'sample',\n",
       " 'seed',\n",
       " 'setstate',\n",
       " 'shuffle',\n",
       " 'triangular',\n",
       " 'uniform',\n",
       " 'vonmisesvariate',\n",
       " 'weibullvariate']"
      ]
     },
     "execution_count": 4,
     "metadata": {},
     "output_type": "execute_result"
    }
   ],
   "source": [
    "dir(random)"
   ]
  },
  {
   "cell_type": "markdown",
   "id": "d3bea261",
   "metadata": {},
   "source": [
    "Setting the random seed."
   ]
  },
  {
   "cell_type": "code",
   "execution_count": 5,
   "id": "54cde3e4",
   "metadata": {},
   "outputs": [],
   "source": [
    "random.seed(2100)"
   ]
  },
  {
   "cell_type": "markdown",
   "id": "74cdb4e2",
   "metadata": {},
   "source": [
    "Let's generate a random number. This random number will be between 0 and 1."
   ]
  },
  {
   "cell_type": "code",
   "execution_count": 6,
   "id": "5ca246c3",
   "metadata": {},
   "outputs": [
    {
     "data": {
      "text/plain": [
       "0.764021138054951"
      ]
     },
     "execution_count": 6,
     "metadata": {},
     "output_type": "execute_result"
    }
   ],
   "source": [
    "random.random()"
   ]
  },
  {
   "cell_type": "code",
   "execution_count": 7,
   "id": "18072b0d",
   "metadata": {},
   "outputs": [
    {
     "data": {
      "text/plain": [
       "0.4692037101382426"
      ]
     },
     "execution_count": 7,
     "metadata": {},
     "output_type": "execute_result"
    }
   ],
   "source": [
    "random.random()"
   ]
  },
  {
   "cell_type": "markdown",
   "id": "227514eb",
   "metadata": {},
   "source": [
    "Let's reset the seed back to the original number that we used."
   ]
  },
  {
   "cell_type": "code",
   "execution_count": 8,
   "id": "01eedaad",
   "metadata": {},
   "outputs": [
    {
     "name": "stdout",
     "output_type": "stream",
     "text": [
      "0.764021138054951\n",
      "0.4692037101382426\n"
     ]
    }
   ],
   "source": [
    "random.seed(2100)\n",
    "\n",
    "print( random.random() )\n",
    "\n",
    "print( random.random() )"
   ]
  },
  {
   "cell_type": "markdown",
   "id": "7967f183",
   "metadata": {},
   "source": [
    "Let's store random numbers in a list."
   ]
  },
  {
   "cell_type": "code",
   "execution_count": 9,
   "id": "3095e9bf",
   "metadata": {},
   "outputs": [],
   "source": [
    "random.seed(20)\n",
    "\n",
    "x_a = [ random.random(), random.random() ]\n",
    "\n",
    "random.seed(20)\n",
    "\n",
    "x_b = [ random.random(), random.random() ]"
   ]
  },
  {
   "cell_type": "code",
   "execution_count": 10,
   "id": "96ca8c3c",
   "metadata": {},
   "outputs": [
    {
     "name": "stdout",
     "output_type": "stream",
     "text": [
      "Variable   Type      Data/Info\n",
      "------------------------------\n",
      "random     module    <module 'random' from 'C:<...>inf2100\\\\lib\\\\random.py'>\n",
      "x_a        list      n=2\n",
      "x_b        list      n=2\n"
     ]
    }
   ],
   "source": [
    "%whos"
   ]
  },
  {
   "cell_type": "code",
   "execution_count": 11,
   "id": "565d8b23",
   "metadata": {},
   "outputs": [
    {
     "name": "stdout",
     "output_type": "stream",
     "text": [
      "[0.9056396761745207, 0.6862541570267026]\n",
      "[0.9056396761745207, 0.6862541570267026]\n"
     ]
    }
   ],
   "source": [
    "print( x_a )\n",
    "\n",
    "print( x_b )"
   ]
  },
  {
   "cell_type": "code",
   "execution_count": 12,
   "id": "54812e60",
   "metadata": {},
   "outputs": [
    {
     "data": {
      "text/plain": [
       "True"
      ]
     },
     "execution_count": 12,
     "metadata": {},
     "output_type": "execute_result"
    }
   ],
   "source": [
    "x_a == x_b"
   ]
  },
  {
   "cell_type": "code",
   "execution_count": 13,
   "id": "3aabdf23",
   "metadata": {},
   "outputs": [
    {
     "data": {
      "text/plain": [
       "False"
      ]
     },
     "execution_count": 13,
     "metadata": {},
     "output_type": "execute_result"
    }
   ],
   "source": [
    "x_a is x_b"
   ]
  },
  {
   "cell_type": "markdown",
   "id": "091a038e",
   "metadata": {},
   "source": [
    "## Multiple random numbers\n",
    "\n",
    "If we're using `random.random()` we need to **iterate** to create a sequence of multiple random numbers.\n",
    "\n",
    "First review basic structure of the for-loop:"
   ]
  },
  {
   "cell_type": "code",
   "execution_count": 14,
   "id": "feea9317",
   "metadata": {},
   "outputs": [
    {
     "name": "stdout",
     "output_type": "stream",
     "text": [
      "0\n",
      "1\n",
      "2\n",
      "3\n",
      "4\n",
      "5\n",
      "6\n"
     ]
    }
   ],
   "source": [
    "for n in range(7):\n",
    "    print(n)"
   ]
  },
  {
   "cell_type": "code",
   "execution_count": 15,
   "id": "e85cabdc",
   "metadata": {},
   "outputs": [
    {
     "name": "stdout",
     "output_type": "stream",
     "text": [
      "Variable   Type      Data/Info\n",
      "------------------------------\n",
      "n          int       6\n",
      "random     module    <module 'random' from 'C:<...>inf2100\\\\lib\\\\random.py'>\n",
      "x_a        list      n=2\n",
      "x_b        list      n=2\n"
     ]
    }
   ],
   "source": [
    "%whos"
   ]
  },
  {
   "cell_type": "code",
   "execution_count": 16,
   "id": "aa242f70",
   "metadata": {},
   "outputs": [
    {
     "name": "stdout",
     "output_type": "stream",
     "text": [
      "6\n",
      "7\n",
      "8\n",
      "9\n",
      "10\n",
      "11\n",
      "12\n"
     ]
    }
   ],
   "source": [
    "for nn in range(7):\n",
    "    print( n + nn )"
   ]
  },
  {
   "cell_type": "code",
   "execution_count": 17,
   "id": "78696b3a",
   "metadata": {},
   "outputs": [
    {
     "name": "stdout",
     "output_type": "stream",
     "text": [
      "6 + 0 = 6\n",
      "6 + 1 = 7\n",
      "6 + 2 = 8\n",
      "6 + 3 = 9\n",
      "6 + 4 = 10\n",
      "6 + 5 = 11\n",
      "6 + 6 = 12\n"
     ]
    }
   ],
   "source": [
    "for mm in range(7):\n",
    "    print( \"%d + %d = %d\" % (nn, mm, nn+mm))"
   ]
  },
  {
   "cell_type": "markdown",
   "id": "8fe4cb2b",
   "metadata": {},
   "source": [
    "Now use a for-loop for our random number generator."
   ]
  },
  {
   "cell_type": "code",
   "execution_count": 18,
   "id": "f4ae7839",
   "metadata": {},
   "outputs": [
    {
     "name": "stdout",
     "output_type": "stream",
     "text": [
      "0.4523795535098186\n",
      "0.559772386080496\n",
      "0.9242105840237294\n",
      "0.4656500700997733\n",
      "0.5078412730622711\n",
      "0.587384828849897\n",
      "0.18466034385487662\n"
     ]
    }
   ],
   "source": [
    "random.seed(11)\n",
    "\n",
    "for n in range(7):\n",
    "    print( random.random() )"
   ]
  },
  {
   "cell_type": "markdown",
   "id": "ba5f2f44",
   "metadata": {},
   "source": [
    "To store the random numbers in a list we must **initialize** the list.\n",
    "\n",
    "Then each iteration we can add to the list."
   ]
  },
  {
   "cell_type": "code",
   "execution_count": 30,
   "id": "38a04ec3",
   "metadata": {},
   "outputs": [
    {
     "name": "stdout",
     "output_type": "stream",
     "text": [
      "0\n"
     ]
    }
   ],
   "source": [
    "xu = []\n",
    "\n",
    "print( len(xu) )"
   ]
  },
  {
   "cell_type": "markdown",
   "id": "3829879b",
   "metadata": {},
   "source": [
    "Check the methods for the list object data type."
   ]
  },
  {
   "cell_type": "code",
   "execution_count": 21,
   "id": "4dce1d19",
   "metadata": {},
   "outputs": [
    {
     "name": "stdout",
     "output_type": "stream",
     "text": [
      "Variable   Type      Data/Info\n",
      "------------------------------\n",
      "mm         int       6\n",
      "n          int       6\n",
      "nn         int       6\n",
      "random     module    <module 'random' from 'C:<...>inf2100\\\\lib\\\\random.py'>\n",
      "x_a        list      n=2\n",
      "x_b        list      n=2\n",
      "xu         list      n=0\n"
     ]
    }
   ],
   "source": [
    "%whos"
   ]
  },
  {
   "cell_type": "code",
   "execution_count": 20,
   "id": "17e7b772",
   "metadata": {},
   "outputs": [
    {
     "data": {
      "text/plain": [
       "['__add__',\n",
       " '__class__',\n",
       " '__contains__',\n",
       " '__delattr__',\n",
       " '__delitem__',\n",
       " '__dir__',\n",
       " '__doc__',\n",
       " '__eq__',\n",
       " '__format__',\n",
       " '__ge__',\n",
       " '__getattribute__',\n",
       " '__getitem__',\n",
       " '__gt__',\n",
       " '__hash__',\n",
       " '__iadd__',\n",
       " '__imul__',\n",
       " '__init__',\n",
       " '__init_subclass__',\n",
       " '__iter__',\n",
       " '__le__',\n",
       " '__len__',\n",
       " '__lt__',\n",
       " '__mul__',\n",
       " '__ne__',\n",
       " '__new__',\n",
       " '__reduce__',\n",
       " '__reduce_ex__',\n",
       " '__repr__',\n",
       " '__reversed__',\n",
       " '__rmul__',\n",
       " '__setattr__',\n",
       " '__setitem__',\n",
       " '__sizeof__',\n",
       " '__str__',\n",
       " '__subclasshook__',\n",
       " 'append',\n",
       " 'clear',\n",
       " 'copy',\n",
       " 'count',\n",
       " 'extend',\n",
       " 'index',\n",
       " 'insert',\n",
       " 'pop',\n",
       " 'remove',\n",
       " 'reverse',\n",
       " 'sort']"
      ]
     },
     "execution_count": 20,
     "metadata": {},
     "output_type": "execute_result"
    }
   ],
   "source": [
    "dir(xu)"
   ]
  },
  {
   "cell_type": "code",
   "execution_count": 31,
   "id": "b65027cb",
   "metadata": {},
   "outputs": [
    {
     "name": "stdout",
     "output_type": "stream",
     "text": [
      "the list has length: 1\n",
      "the list has length: 2\n",
      "the list has length: 3\n",
      "the list has length: 4\n",
      "the list has length: 5\n",
      "the list has length: 6\n",
      "the list has length: 7\n"
     ]
    }
   ],
   "source": [
    "random.seed(11)\n",
    "\n",
    "for ix in range(7):\n",
    "    xu.append( random.random() )\n",
    "    print( \"the list has length: \" + str(len(xu)) )"
   ]
  },
  {
   "cell_type": "code",
   "execution_count": 32,
   "id": "a002bee9",
   "metadata": {},
   "outputs": [
    {
     "ename": "TypeError",
     "evalue": "can only concatenate str (not \"int\") to str",
     "output_type": "error",
     "traceback": [
      "\u001b[1;31m---------------------------------------------------------------------------\u001b[0m",
      "\u001b[1;31mTypeError\u001b[0m                                 Traceback (most recent call last)",
      "\u001b[1;32m~\\AppData\\Local\\Temp/ipykernel_23224/3998419058.py\u001b[0m in \u001b[0;36m<module>\u001b[1;34m\u001b[0m\n\u001b[1;32m----> 1\u001b[1;33m \u001b[1;34m\"the list has length: \"\u001b[0m \u001b[1;33m+\u001b[0m \u001b[0mlen\u001b[0m\u001b[1;33m(\u001b[0m\u001b[0mxu\u001b[0m\u001b[1;33m)\u001b[0m\u001b[1;33m\u001b[0m\u001b[1;33m\u001b[0m\u001b[0m\n\u001b[0m",
      "\u001b[1;31mTypeError\u001b[0m: can only concatenate str (not \"int\") to str"
     ]
    }
   ],
   "source": [
    "\"the list has length: \" + len(xu)"
   ]
  },
  {
   "cell_type": "code",
   "execution_count": 34,
   "id": "afe64d9d",
   "metadata": {},
   "outputs": [
    {
     "data": {
      "text/plain": [
       "'the list has length: 7'"
      ]
     },
     "execution_count": 34,
     "metadata": {},
     "output_type": "execute_result"
    }
   ],
   "source": [
    "\"the list has length: \" + str( len(xu) )"
   ]
  },
  {
   "cell_type": "code",
   "execution_count": 35,
   "id": "800cb140",
   "metadata": {},
   "outputs": [
    {
     "name": "stdout",
     "output_type": "stream",
     "text": [
      "[0.4523795535098186, 0.559772386080496, 0.9242105840237294, 0.4656500700997733, 0.5078412730622711, 0.587384828849897, 0.18466034385487662]\n"
     ]
    }
   ],
   "source": [
    "print( xu )"
   ]
  },
  {
   "cell_type": "markdown",
   "id": "d84b3d7f",
   "metadata": {},
   "source": [
    "What happens if we forget to initialize the list?"
   ]
  },
  {
   "cell_type": "code",
   "execution_count": 36,
   "id": "09b0deb5",
   "metadata": {},
   "outputs": [
    {
     "ename": "NameError",
     "evalue": "name 'xu_b' is not defined",
     "output_type": "error",
     "traceback": [
      "\u001b[1;31m---------------------------------------------------------------------------\u001b[0m",
      "\u001b[1;31mNameError\u001b[0m                                 Traceback (most recent call last)",
      "\u001b[1;32m~\\AppData\\Local\\Temp/ipykernel_23224/1127568094.py\u001b[0m in \u001b[0;36m<module>\u001b[1;34m\u001b[0m\n\u001b[0;32m      2\u001b[0m \u001b[1;33m\u001b[0m\u001b[0m\n\u001b[0;32m      3\u001b[0m \u001b[1;32mfor\u001b[0m \u001b[0mix\u001b[0m \u001b[1;32min\u001b[0m \u001b[0mrange\u001b[0m\u001b[1;33m(\u001b[0m\u001b[1;36m7\u001b[0m\u001b[1;33m)\u001b[0m\u001b[1;33m:\u001b[0m\u001b[1;33m\u001b[0m\u001b[1;33m\u001b[0m\u001b[0m\n\u001b[1;32m----> 4\u001b[1;33m     \u001b[0mxu_b\u001b[0m\u001b[1;33m.\u001b[0m\u001b[0mappend\u001b[0m\u001b[1;33m(\u001b[0m \u001b[0mrandom\u001b[0m\u001b[1;33m.\u001b[0m\u001b[0mrandom\u001b[0m\u001b[1;33m(\u001b[0m\u001b[1;33m)\u001b[0m \u001b[1;33m)\u001b[0m\u001b[1;33m\u001b[0m\u001b[1;33m\u001b[0m\u001b[0m\n\u001b[0m",
      "\u001b[1;31mNameError\u001b[0m: name 'xu_b' is not defined"
     ]
    }
   ],
   "source": [
    "random.seed(11)\n",
    "\n",
    "for ix in range(7):\n",
    "    xu_b.append( random.random() )"
   ]
  },
  {
   "cell_type": "markdown",
   "id": "9645d1c8",
   "metadata": {},
   "source": [
    "## List comprehension\n",
    "\n",
    "The basic steps in the iteration are:\n",
    "\n",
    "* The action\n",
    "\n",
    "* The iterating variable\n",
    "\n",
    "* the sequence to iterate over\n",
    "\n",
    "The structure of a list comprehensions:\n",
    "\n",
    "`<output list> = [ <action per value of iterating variable> for <variable> in <sequence to iterate over> ]` \n",
    "\n",
    "Let's now use the list comprehension to generate 7 random numbers and store them in a list."
   ]
  },
  {
   "cell_type": "code",
   "execution_count": 37,
   "id": "445af80e",
   "metadata": {},
   "outputs": [],
   "source": [
    "random.seed(11)\n",
    "\n",
    "xu_c = [random.random() for iterating_variable in range(7)]"
   ]
  },
  {
   "cell_type": "code",
   "execution_count": 38,
   "id": "577f1dc9",
   "metadata": {},
   "outputs": [
    {
     "name": "stdout",
     "output_type": "stream",
     "text": [
      "Variable   Type      Data/Info\n",
      "------------------------------\n",
      "ix         int       0\n",
      "mm         int       6\n",
      "n          int       6\n",
      "nn         int       6\n",
      "random     module    <module 'random' from 'C:<...>inf2100\\\\lib\\\\random.py'>\n",
      "x_a        list      n=2\n",
      "x_b        list      n=2\n",
      "xu         list      n=7\n",
      "xu_c       list      n=7\n"
     ]
    }
   ],
   "source": [
    "%whos"
   ]
  },
  {
   "cell_type": "code",
   "execution_count": 39,
   "id": "38014690",
   "metadata": {},
   "outputs": [
    {
     "name": "stdout",
     "output_type": "stream",
     "text": [
      "[0.4523795535098186, 0.559772386080496, 0.9242105840237294, 0.4656500700997733, 0.5078412730622711, 0.587384828849897, 0.18466034385487662]\n",
      "[0.4523795535098186, 0.559772386080496, 0.9242105840237294, 0.4656500700997733, 0.5078412730622711, 0.587384828849897, 0.18466034385487662]\n"
     ]
    }
   ],
   "source": [
    "print( xu )\n",
    "\n",
    "print( xu_c )"
   ]
  },
  {
   "cell_type": "code",
   "execution_count": 40,
   "id": "25bc18eb",
   "metadata": {},
   "outputs": [
    {
     "name": "stdout",
     "output_type": "stream",
     "text": [
      "True\n"
     ]
    }
   ],
   "source": [
    "print( xu == xu_c )"
   ]
  },
  {
   "cell_type": "markdown",
   "id": "9142221f",
   "metadata": {},
   "source": [
    "Convention in list comprehensions is to set the iterating variable to an underscore when we don't need it."
   ]
  },
  {
   "cell_type": "code",
   "execution_count": 41,
   "id": "9bec5bca",
   "metadata": {},
   "outputs": [],
   "source": [
    "random.seed(11)\n",
    "\n",
    "xu_d = [random.random() for _ in range(7)]"
   ]
  },
  {
   "cell_type": "code",
   "execution_count": 42,
   "id": "b22cbb16",
   "metadata": {},
   "outputs": [
    {
     "name": "stdout",
     "output_type": "stream",
     "text": [
      "Variable   Type      Data/Info\n",
      "------------------------------\n",
      "ix         int       0\n",
      "mm         int       6\n",
      "n          int       6\n",
      "nn         int       6\n",
      "random     module    <module 'random' from 'C:<...>inf2100\\\\lib\\\\random.py'>\n",
      "x_a        list      n=2\n",
      "x_b        list      n=2\n",
      "xu         list      n=7\n",
      "xu_c       list      n=7\n",
      "xu_d       list      n=7\n"
     ]
    }
   ],
   "source": [
    "%whos"
   ]
  },
  {
   "cell_type": "code",
   "execution_count": 43,
   "id": "ad26b0e2",
   "metadata": {},
   "outputs": [
    {
     "name": "stdout",
     "output_type": "stream",
     "text": [
      "True\n"
     ]
    }
   ],
   "source": [
    "print(xu == xu_d)"
   ]
  },
  {
   "cell_type": "markdown",
   "id": "3925f3f0",
   "metadata": {},
   "source": [
    "## Calculating the average\n",
    "\n",
    "How do we calculate the average of $N$ numbers? Specifically, how do we calculate the average of $N$ numbers, $x_n$ where $n=1,...,N$?\n",
    "\n",
    "$$\\bar{x} = \\frac{1}{N} \\sum_{n=1}^{N} \\left( x_n \\right)$$\n",
    "\n",
    "Let's try this out manually first."
   ]
  },
  {
   "cell_type": "code",
   "execution_count": 44,
   "id": "11015eea",
   "metadata": {},
   "outputs": [
    {
     "data": {
      "text/plain": [
       "6"
      ]
     },
     "execution_count": 44,
     "metadata": {},
     "output_type": "execute_result"
    }
   ],
   "source": [
    "1 + 2 + 3"
   ]
  },
  {
   "cell_type": "code",
   "execution_count": 45,
   "id": "24213021",
   "metadata": {},
   "outputs": [
    {
     "name": "stdout",
     "output_type": "stream",
     "text": [
      "6\n"
     ]
    }
   ],
   "source": [
    "print( sum([1, 2, 3]) )"
   ]
  },
  {
   "cell_type": "code",
   "execution_count": 46,
   "id": "725124dd",
   "metadata": {},
   "outputs": [
    {
     "data": {
      "text/plain": [
       "3"
      ]
     },
     "execution_count": 46,
     "metadata": {},
     "output_type": "execute_result"
    }
   ],
   "source": [
    "len([1, 2, 3])"
   ]
  },
  {
   "cell_type": "code",
   "execution_count": 47,
   "id": "035adb3b",
   "metadata": {},
   "outputs": [
    {
     "data": {
      "text/plain": [
       "2.0"
      ]
     },
     "execution_count": 47,
     "metadata": {},
     "output_type": "execute_result"
    }
   ],
   "source": [
    "(1 + 2 + 3) / 3"
   ]
  },
  {
   "cell_type": "code",
   "execution_count": 48,
   "id": "a68038ef",
   "metadata": {},
   "outputs": [
    {
     "name": "stdout",
     "output_type": "stream",
     "text": [
      "2.0\n"
     ]
    }
   ],
   "source": [
    "print( sum([1, 2, 3]) / len([1, 2, 3]) )"
   ]
  },
  {
   "cell_type": "markdown",
   "id": "d1f8ef01",
   "metadata": {},
   "source": [
    "Let's create our own function to calculate the average for us."
   ]
  },
  {
   "cell_type": "code",
   "execution_count": 49,
   "id": "21cbbda1",
   "metadata": {},
   "outputs": [],
   "source": [
    "def my_avg(x):\n",
    "    \"\"\"\n",
    "    calculate the average of a list of integers or floats\n",
    "    \"\"\"\n",
    "    return sum(x) / len(x)"
   ]
  },
  {
   "cell_type": "code",
   "execution_count": 50,
   "id": "0c2f371a",
   "metadata": {},
   "outputs": [
    {
     "name": "stdout",
     "output_type": "stream",
     "text": [
      "Variable   Type        Data/Info\n",
      "--------------------------------\n",
      "ix         int         0\n",
      "mm         int         6\n",
      "my_avg     function    <function my_avg at 0x00000125FE27EA60>\n",
      "n          int         6\n",
      "nn         int         6\n",
      "random     module      <module 'random' from 'C:<...>inf2100\\\\lib\\\\random.py'>\n",
      "x_a        list        n=2\n",
      "x_b        list        n=2\n",
      "xu         list        n=7\n",
      "xu_c       list        n=7\n",
      "xu_d       list        n=7\n"
     ]
    }
   ],
   "source": [
    "%whos"
   ]
  },
  {
   "cell_type": "code",
   "execution_count": 51,
   "id": "42b0c0d8",
   "metadata": {},
   "outputs": [
    {
     "data": {
      "text/plain": [
       "<function __main__.my_avg(x)>"
      ]
     },
     "execution_count": 51,
     "metadata": {},
     "output_type": "execute_result"
    }
   ],
   "source": [
    "my_avg"
   ]
  },
  {
   "cell_type": "code",
   "execution_count": 52,
   "id": "927d567b",
   "metadata": {},
   "outputs": [
    {
     "ename": "TypeError",
     "evalue": "my_avg() missing 1 required positional argument: 'x'",
     "output_type": "error",
     "traceback": [
      "\u001b[1;31m---------------------------------------------------------------------------\u001b[0m",
      "\u001b[1;31mTypeError\u001b[0m                                 Traceback (most recent call last)",
      "\u001b[1;32m~\\AppData\\Local\\Temp/ipykernel_23224/3633098130.py\u001b[0m in \u001b[0;36m<module>\u001b[1;34m\u001b[0m\n\u001b[1;32m----> 1\u001b[1;33m \u001b[0mmy_avg\u001b[0m\u001b[1;33m(\u001b[0m\u001b[1;33m)\u001b[0m\u001b[1;33m\u001b[0m\u001b[1;33m\u001b[0m\u001b[0m\n\u001b[0m",
      "\u001b[1;31mTypeError\u001b[0m: my_avg() missing 1 required positional argument: 'x'"
     ]
    }
   ],
   "source": [
    "my_avg()"
   ]
  },
  {
   "cell_type": "code",
   "execution_count": 53,
   "id": "0ddfb356",
   "metadata": {},
   "outputs": [
    {
     "data": {
      "text/plain": [
       "2.0"
      ]
     },
     "execution_count": 53,
     "metadata": {},
     "output_type": "execute_result"
    }
   ],
   "source": [
    "my_avg([1, 2, 3])"
   ]
  },
  {
   "cell_type": "code",
   "execution_count": 54,
   "id": "90e54965",
   "metadata": {},
   "outputs": [
    {
     "data": {
      "text/plain": [
       "2.0"
      ]
     },
     "execution_count": 54,
     "metadata": {},
     "output_type": "execute_result"
    }
   ],
   "source": [
    "my_avg([1.0, 2.0, 3.0])"
   ]
  },
  {
   "cell_type": "code",
   "execution_count": 55,
   "id": "e6eebf39",
   "metadata": {},
   "outputs": [
    {
     "data": {
      "text/plain": [
       "2.0"
      ]
     },
     "execution_count": 55,
     "metadata": {},
     "output_type": "execute_result"
    }
   ],
   "source": [
    "my_avg([1, 2.0, 3])"
   ]
  },
  {
   "cell_type": "code",
   "execution_count": 56,
   "id": "a68e055f",
   "metadata": {},
   "outputs": [
    {
     "ename": "TypeError",
     "evalue": "unsupported operand type(s) for +: 'int' and 'str'",
     "output_type": "error",
     "traceback": [
      "\u001b[1;31m---------------------------------------------------------------------------\u001b[0m",
      "\u001b[1;31mTypeError\u001b[0m                                 Traceback (most recent call last)",
      "\u001b[1;32m~\\AppData\\Local\\Temp/ipykernel_23224/3560329141.py\u001b[0m in \u001b[0;36m<module>\u001b[1;34m\u001b[0m\n\u001b[1;32m----> 1\u001b[1;33m \u001b[0mmy_avg\u001b[0m\u001b[1;33m(\u001b[0m\u001b[1;33m[\u001b[0m\u001b[1;34m'frodo'\u001b[0m\u001b[1;33m,\u001b[0m \u001b[1;34m'merry'\u001b[0m\u001b[1;33m,\u001b[0m \u001b[1;34m'sam'\u001b[0m\u001b[1;33m]\u001b[0m\u001b[1;33m)\u001b[0m\u001b[1;33m\u001b[0m\u001b[1;33m\u001b[0m\u001b[0m\n\u001b[0m",
      "\u001b[1;32m~\\AppData\\Local\\Temp/ipykernel_23224/2895675914.py\u001b[0m in \u001b[0;36mmy_avg\u001b[1;34m(x)\u001b[0m\n\u001b[0;32m      3\u001b[0m     \u001b[0mcalculate\u001b[0m \u001b[0mthe\u001b[0m \u001b[0maverage\u001b[0m \u001b[0mof\u001b[0m \u001b[0ma\u001b[0m \u001b[0mlist\u001b[0m \u001b[0mof\u001b[0m \u001b[0mintegers\u001b[0m \u001b[1;32mor\u001b[0m \u001b[0mfloats\u001b[0m\u001b[1;33m\u001b[0m\u001b[1;33m\u001b[0m\u001b[0m\n\u001b[0;32m      4\u001b[0m     \"\"\"\n\u001b[1;32m----> 5\u001b[1;33m     \u001b[1;32mreturn\u001b[0m \u001b[0msum\u001b[0m\u001b[1;33m(\u001b[0m\u001b[0mx\u001b[0m\u001b[1;33m)\u001b[0m \u001b[1;33m/\u001b[0m \u001b[0mlen\u001b[0m\u001b[1;33m(\u001b[0m\u001b[0mx\u001b[0m\u001b[1;33m)\u001b[0m\u001b[1;33m\u001b[0m\u001b[1;33m\u001b[0m\u001b[0m\n\u001b[0m",
      "\u001b[1;31mTypeError\u001b[0m: unsupported operand type(s) for +: 'int' and 'str'"
     ]
    }
   ],
   "source": [
    "my_avg(['frodo', 'merry', 'sam'])"
   ]
  },
  {
   "cell_type": "markdown",
   "id": "77bf9034",
   "metadata": {},
   "source": [
    "## Apply our average function\n",
    "\n",
    "Create 2 lists of 7 random numbers generated uniformly between 0 and 1."
   ]
  },
  {
   "cell_type": "code",
   "execution_count": 57,
   "id": "1a333141",
   "metadata": {},
   "outputs": [],
   "source": [
    "random.seed(21)\n",
    "\n",
    "yu = [ random.random() for _ in range(7) ]\n",
    "\n",
    "zu = [ random.random() for _ in range(7) ]"
   ]
  },
  {
   "cell_type": "code",
   "execution_count": 58,
   "id": "b428f3b7",
   "metadata": {},
   "outputs": [
    {
     "name": "stdout",
     "output_type": "stream",
     "text": [
      "[0.16494947983319797, 0.6897669242175674, 0.6349999404047206, 0.4791004720574512, 0.21601434789390284, 0.7926333582002464, 0.8078543019534277]\n",
      "[0.5124562396375931, 0.5050841534700117, 0.2360563634962105, 0.0031806306102971638, 0.3710466916321078, 0.5853624971821242, 0.06926476318331132]\n"
     ]
    }
   ],
   "source": [
    "print( yu )\n",
    "\n",
    "print( zu )"
   ]
  },
  {
   "cell_type": "code",
   "execution_count": 59,
   "id": "3f2997f3",
   "metadata": {},
   "outputs": [
    {
     "name": "stdout",
     "output_type": "stream",
     "text": [
      "False\n"
     ]
    }
   ],
   "source": [
    "print(yu == zu)"
   ]
  },
  {
   "cell_type": "markdown",
   "id": "a51306e8",
   "metadata": {},
   "source": [
    "Just what the seed does."
   ]
  },
  {
   "cell_type": "code",
   "execution_count": 60,
   "id": "66f759db",
   "metadata": {},
   "outputs": [],
   "source": [
    "random.seed(21)\n",
    "\n",
    "yu_b = [ random.random() for _ in range(7) ]\n",
    "\n",
    "zu_b = [ random.random() for _ in range(7) ]"
   ]
  },
  {
   "cell_type": "code",
   "execution_count": 61,
   "id": "6193aed8",
   "metadata": {},
   "outputs": [
    {
     "name": "stdout",
     "output_type": "stream",
     "text": [
      "True\n",
      "True\n"
     ]
    }
   ],
   "source": [
    "print( yu == yu_b )\n",
    "\n",
    "print( zu == zu_b )"
   ]
  },
  {
   "cell_type": "markdown",
   "id": "2a5922ac",
   "metadata": {},
   "source": [
    "What is the average of our 7 random numbers?"
   ]
  },
  {
   "cell_type": "code",
   "execution_count": 62,
   "id": "1ac1b82a",
   "metadata": {},
   "outputs": [
    {
     "name": "stdout",
     "output_type": "stream",
     "text": [
      "0.5407598320800735\n",
      "0.3260644770302365\n"
     ]
    }
   ],
   "source": [
    "print( my_avg(yu) )\n",
    "\n",
    "print( my_avg(zu) )"
   ]
  },
  {
   "cell_type": "markdown",
   "id": "211beebd",
   "metadata": {},
   "source": [
    "Which is the correct average?"
   ]
  },
  {
   "cell_type": "markdown",
   "id": "7b883358",
   "metadata": {},
   "source": [
    "## Plotting with matplotlib"
   ]
  },
  {
   "cell_type": "code",
   "execution_count": 63,
   "id": "508003f6",
   "metadata": {},
   "outputs": [],
   "source": [
    "import matplotlib.pyplot as plt"
   ]
  },
  {
   "cell_type": "code",
   "execution_count": 64,
   "id": "fc0d19e2",
   "metadata": {},
   "outputs": [
    {
     "name": "stdout",
     "output_type": "stream",
     "text": [
      "Variable   Type        Data/Info\n",
      "--------------------------------\n",
      "ix         int         0\n",
      "mm         int         6\n",
      "my_avg     function    <function my_avg at 0x00000125FE27EA60>\n",
      "n          int         6\n",
      "nn         int         6\n",
      "plt        module      <module 'matplotlib.pyplo<...>\\\\matplotlib\\\\pyplot.py'>\n",
      "random     module      <module 'random' from 'C:<...>inf2100\\\\lib\\\\random.py'>\n",
      "x_a        list        n=2\n",
      "x_b        list        n=2\n",
      "xu         list        n=7\n",
      "xu_c       list        n=7\n",
      "xu_d       list        n=7\n",
      "yu         list        n=7\n",
      "yu_b       list        n=7\n",
      "zu         list        n=7\n",
      "zu_b       list        n=7\n"
     ]
    }
   ],
   "source": [
    "%whos"
   ]
  },
  {
   "cell_type": "markdown",
   "id": "f1245044",
   "metadata": {},
   "source": [
    "To give some context to the random numbers generated, let's generate 1000 random numbers from `random.random()`."
   ]
  },
  {
   "cell_type": "code",
   "execution_count": 65,
   "id": "8774ca61",
   "metadata": {},
   "outputs": [],
   "source": [
    "random.seed(24)\n",
    "\n",
    "xu_1000 = [ random.random() for _ in range(1000) ]"
   ]
  },
  {
   "cell_type": "code",
   "execution_count": 66,
   "id": "7b12baa4",
   "metadata": {},
   "outputs": [
    {
     "name": "stdout",
     "output_type": "stream",
     "text": [
      "1000\n"
     ]
    }
   ],
   "source": [
    "print( len(xu_1000) )"
   ]
  },
  {
   "cell_type": "code",
   "execution_count": 67,
   "id": "7b985e03",
   "metadata": {},
   "outputs": [
    {
     "data": {
      "text/plain": [
       "[0.7123429878269185,\n",
       " 0.8397997363118733,\n",
       " 0.18259188695451745,\n",
       " 0.9982826275179507,\n",
       " 0.19409547872374744]"
      ]
     },
     "execution_count": 67,
     "metadata": {},
     "output_type": "execute_result"
    }
   ],
   "source": [
    "xu_1000[:5]"
   ]
  },
  {
   "cell_type": "code",
   "execution_count": 68,
   "id": "f49177e7",
   "metadata": {},
   "outputs": [
    {
     "data": {
      "image/png": "[encoded data removed]",
      "text/plain": [
       "<Figure size 432x288 with 1 Axes>"
      ]
     },
     "metadata": {
      "needs_background": "light"
     },
     "output_type": "display_data"
    }
   ],
   "source": [
    "plt.hist(xu_1000, bins=11)\n",
    "plt.xlabel('x')\n",
    "plt.ylabel('count')\n",
    "plt.show()"
   ]
  },
  {
   "cell_type": "code",
   "execution_count": 69,
   "id": "132aef57",
   "metadata": {},
   "outputs": [
    {
     "data": {
      "image/png": "[encoded data removed]",
      "text/plain": [
       "<Figure size 432x288 with 1 Axes>"
      ]
     },
     "metadata": {
      "needs_background": "light"
     },
     "output_type": "display_data"
    }
   ],
   "source": [
    "plt.hist([random.random() for _ in range(10000)], bins=11)\n",
    "plt.xlabel('x')\n",
    "plt.ylabel('count')\n",
    "plt.show()"
   ]
  },
  {
   "cell_type": "markdown",
   "id": "6e2e4004",
   "metadata": {},
   "source": [
    "Calculate the average based on the 1000 random samples."
   ]
  },
  {
   "cell_type": "code",
   "execution_count": 70,
   "id": "2186185c",
   "metadata": {},
   "outputs": [
    {
     "name": "stdout",
     "output_type": "stream",
     "text": [
      "0.5077442149000129\n"
     ]
    }
   ],
   "source": [
    "print( my_avg(xu_1000) )"
   ]
  },
  {
   "cell_type": "code",
   "execution_count": 71,
   "id": "503ad356",
   "metadata": {},
   "outputs": [
    {
     "name": "stdout",
     "output_type": "stream",
     "text": [
      "0.5003029679189047\n"
     ]
    }
   ],
   "source": [
    "print( my_avg([random.random() for _ in range(int(1e6))]) )"
   ]
  },
  {
   "cell_type": "code",
   "execution_count": 72,
   "id": "55a4a279",
   "metadata": {},
   "outputs": [
    {
     "data": {
      "text/plain": [
       "1000000.0"
      ]
     },
     "execution_count": 72,
     "metadata": {},
     "output_type": "execute_result"
    }
   ],
   "source": [
    "1e6"
   ]
  },
  {
   "cell_type": "code",
   "execution_count": 73,
   "id": "3dabf6f5",
   "metadata": {},
   "outputs": [
    {
     "data": {
      "text/plain": [
       "1000000"
      ]
     },
     "execution_count": 73,
     "metadata": {},
     "output_type": "execute_result"
    }
   ],
   "source": [
    "int(1e6)"
   ]
  },
  {
   "cell_type": "markdown",
   "id": "459771da",
   "metadata": {},
   "source": [
    "Let's go back to our 7 samples."
   ]
  },
  {
   "cell_type": "code",
   "execution_count": 74,
   "id": "e87e35e3",
   "metadata": {},
   "outputs": [
    {
     "name": "stdout",
     "output_type": "stream",
     "text": [
      "0.5407598320800735\n",
      "0.3260644770302365\n"
     ]
    }
   ],
   "source": [
    "print( my_avg(yu) )\n",
    "\n",
    "print( my_avg(zu) )"
   ]
  },
  {
   "cell_type": "markdown",
   "id": "398d255c",
   "metadata": {},
   "source": [
    "**How confident are we in our estimate of the average?**"
   ]
  },
  {
   "cell_type": "markdown",
   "id": "6196de65",
   "metadata": {},
   "source": [
    "## Simulation\n",
    "\n",
    "Study the variability of the average.\n",
    "\n",
    "The major steps in our simulation:\n",
    "\n",
    "* Generate a sequence of random numbers from an assumed distribution\n",
    "\n",
    "* Calculate the sample average given that sequence"
   ]
  },
  {
   "cell_type": "code",
   "execution_count": 75,
   "id": "27162bd1",
   "metadata": {},
   "outputs": [],
   "source": [
    "def gen_samples_calc_avg(N):\n",
    "    \"\"\" assume we are working with a uniform distribution between 0 and 1 \"\"\"\n",
    "    return my_avg( [random.random() for _ in range(N)] )"
   ]
  },
  {
   "cell_type": "code",
   "execution_count": 76,
   "id": "245b3048",
   "metadata": {},
   "outputs": [
    {
     "name": "stdout",
     "output_type": "stream",
     "text": [
      "Variable               Type        Data/Info\n",
      "--------------------------------------------\n",
      "gen_samples_calc_avg   function    <function gen_samples_cal<...>vg at 0x000001258057E670>\n",
      "ix                     int         0\n",
      "mm                     int         6\n",
      "my_avg                 function    <function my_avg at 0x00000125FE27EA60>\n",
      "n                      int         6\n",
      "nn                     int         6\n",
      "plt                    module      <module 'matplotlib.pyplo<...>\\\\matplotlib\\\\pyplot.py'>\n",
      "random                 module      <module 'random' from 'C:<...>inf2100\\\\lib\\\\random.py'>\n",
      "x_a                    list        n=2\n",
      "x_b                    list        n=2\n",
      "xu                     list        n=7\n",
      "xu_1000                list        n=1000\n",
      "xu_c                   list        n=7\n",
      "xu_d                   list        n=7\n",
      "yu                     list        n=7\n",
      "yu_b                   list        n=7\n",
      "zu                     list        n=7\n",
      "zu_b                   list        n=7\n"
     ]
    }
   ],
   "source": [
    "%whos"
   ]
  },
  {
   "cell_type": "code",
   "execution_count": 77,
   "id": "2eeb68c1",
   "metadata": {},
   "outputs": [
    {
     "name": "stdout",
     "output_type": "stream",
     "text": [
      "0.5407598320800735\n"
     ]
    }
   ],
   "source": [
    "print( my_avg(yu) )"
   ]
  },
  {
   "cell_type": "markdown",
   "id": "c99c809c",
   "metadata": {},
   "source": [
    "Confirm we can get the same result."
   ]
  },
  {
   "cell_type": "code",
   "execution_count": 78,
   "id": "c7da8b5d",
   "metadata": {},
   "outputs": [],
   "source": [
    "random.seed(21)\n",
    "\n",
    "check_yu_avg = gen_samples_calc_avg(7)"
   ]
  },
  {
   "cell_type": "code",
   "execution_count": 79,
   "id": "6522aa07",
   "metadata": {},
   "outputs": [
    {
     "name": "stdout",
     "output_type": "stream",
     "text": [
      "0.5407598320800735\n"
     ]
    }
   ],
   "source": [
    "print( check_yu_avg )"
   ]
  },
  {
   "cell_type": "code",
   "execution_count": 80,
   "id": "c6bc62eb",
   "metadata": {},
   "outputs": [
    {
     "name": "stdout",
     "output_type": "stream",
     "text": [
      "True\n"
     ]
    }
   ],
   "source": [
    "print( check_yu_avg == my_avg(yu) )"
   ]
  },
  {
   "cell_type": "markdown",
   "id": "69c1c502",
   "metadata": {},
   "source": [
    "Run a simulation of calculating the average of 7 randomly generated numbers."
   ]
  },
  {
   "cell_type": "code",
   "execution_count": 81,
   "id": "acfd8086",
   "metadata": {},
   "outputs": [
    {
     "name": "stdout",
     "output_type": "stream",
     "text": [
      "0.49128172289705047\n",
      "0.6028632187643036\n",
      "0.571620183697683\n",
      "0.6356428162727541\n",
      "0.6559850095614302\n",
      "0.6695290749120935\n",
      "0.4347190094100539\n",
      "0.43845567833254806\n",
      "0.8157455952566638\n"
     ]
    }
   ],
   "source": [
    "random.seed(51)\n",
    "\n",
    "print( gen_samples_calc_avg(7) )\n",
    "\n",
    "print( gen_samples_calc_avg(7) )\n",
    "\n",
    "print( gen_samples_calc_avg(7) )\n",
    "\n",
    "print( gen_samples_calc_avg(7) )\n",
    "\n",
    "print( gen_samples_calc_avg(7) )\n",
    "\n",
    "print( gen_samples_calc_avg(7) )\n",
    "\n",
    "print( gen_samples_calc_avg(7) )\n",
    "\n",
    "print( gen_samples_calc_avg(7) )\n",
    "\n",
    "print( gen_samples_calc_avg(7) )"
   ]
  },
  {
   "cell_type": "markdown",
   "id": "1b1cfd99",
   "metadata": {},
   "source": [
    "Let's **replicate** or **repeat** the calculating the average 1000 times."
   ]
  },
  {
   "cell_type": "code",
   "execution_count": 82,
   "id": "1eeacf07",
   "metadata": {},
   "outputs": [],
   "source": [
    "random.seed(51)\n",
    "\n",
    "xbar_sim_N07_R1000 = [ gen_samples_calc_avg(7) for _ in range(1000) ]"
   ]
  },
  {
   "cell_type": "code",
   "execution_count": 83,
   "id": "ea48351c",
   "metadata": {},
   "outputs": [
    {
     "name": "stdout",
     "output_type": "stream",
     "text": [
      "1000\n"
     ]
    }
   ],
   "source": [
    "print( len(xbar_sim_N07_R1000) )"
   ]
  },
  {
   "cell_type": "code",
   "execution_count": 84,
   "id": "4c1d4fc1",
   "metadata": {},
   "outputs": [
    {
     "name": "stdout",
     "output_type": "stream",
     "text": [
      "<class 'list'>\n"
     ]
    }
   ],
   "source": [
    "print( type(xbar_sim_N07_R1000) )"
   ]
  },
  {
   "cell_type": "code",
   "execution_count": 85,
   "id": "bbb94ee5",
   "metadata": {},
   "outputs": [
    {
     "name": "stdout",
     "output_type": "stream",
     "text": [
      "[0.49128172289705047, 0.6028632187643036, 0.571620183697683, 0.6356428162727541, 0.6559850095614302, 0.6695290749120935]\n"
     ]
    }
   ],
   "source": [
    "print( xbar_sim_N07_R1000[:6])"
   ]
  },
  {
   "cell_type": "markdown",
   "id": "f496b033",
   "metadata": {},
   "source": [
    "We can calculate the **average of the averages**."
   ]
  },
  {
   "cell_type": "code",
   "execution_count": 86,
   "id": "c8f3aa35",
   "metadata": {},
   "outputs": [
    {
     "name": "stdout",
     "output_type": "stream",
     "text": [
      "0.5044399287376922\n"
     ]
    }
   ],
   "source": [
    "print( my_avg( xbar_sim_N07_R1000 ) )"
   ]
  },
  {
   "cell_type": "code",
   "execution_count": 87,
   "id": "34244f1f",
   "metadata": {},
   "outputs": [
    {
     "name": "stdout",
     "output_type": "stream",
     "text": [
      "0.5044\n"
     ]
    }
   ],
   "source": [
    "print( round( my_avg(xbar_sim_N07_R1000), 4) )"
   ]
  },
  {
   "cell_type": "markdown",
   "id": "64a0dadb",
   "metadata": {},
   "source": [
    "We did the simulation to study the **variability** or the **distribution** of the average.\n",
    "\n",
    "Let's use a histogram to visualize the distribution of the averages."
   ]
  },
  {
   "cell_type": "code",
   "execution_count": 88,
   "id": "f575f248",
   "metadata": {},
   "outputs": [
    {
     "data": {
      "image/png": "[encoded data removed]",
      "text/plain": [
       "<Figure size 432x288 with 1 Axes>"
      ]
     },
     "metadata": {
      "needs_background": "light"
     },
     "output_type": "display_data"
    }
   ],
   "source": [
    "plt.hist(xbar_sim_N07_R1000, bins=11)\n",
    "plt.xlabel('xbar')\n",
    "plt.ylabel('count')\n",
    "plt.xlim(0, 1)\n",
    "plt.show()"
   ]
  },
  {
   "cell_type": "markdown",
   "id": "fbae6cf8",
   "metadata": {},
   "source": [
    "Let's try again but with 10000 replications."
   ]
  },
  {
   "cell_type": "code",
   "execution_count": 89,
   "id": "586a25a1",
   "metadata": {},
   "outputs": [],
   "source": [
    "random.seed(51)\n",
    "\n",
    "xbar_sim_N07_R1e4 = [ gen_samples_calc_avg(7) for _ in range(int(1e4)) ]"
   ]
  },
  {
   "cell_type": "code",
   "execution_count": 90,
   "id": "f13f5a13",
   "metadata": {},
   "outputs": [
    {
     "data": {
      "image/png": "[encoded data removed]",
      "text/plain": [
       "<Figure size 432x288 with 1 Axes>"
      ]
     },
     "metadata": {
      "needs_background": "light"
     },
     "output_type": "display_data"
    }
   ],
   "source": [
    "plt.hist(xbar_sim_N07_R1e4, bins=11)\n",
    "plt.xlabel('xbar')\n",
    "plt.ylabel('count')\n",
    "plt.xlim(0, 1)\n",
    "plt.show()"
   ]
  },
  {
   "cell_type": "markdown",
   "id": "6df6c47d",
   "metadata": {},
   "source": [
    "What if we had a few replications? For example what if we had 11?"
   ]
  },
  {
   "cell_type": "code",
   "execution_count": 91,
   "id": "c2c1fb46",
   "metadata": {},
   "outputs": [],
   "source": [
    "random.seed(51)\n",
    "\n",
    "xbar_sim_N07_R0011 = [ gen_samples_calc_avg(7) for _ in range(11) ]"
   ]
  },
  {
   "cell_type": "code",
   "execution_count": 92,
   "id": "caef9f12",
   "metadata": {},
   "outputs": [
    {
     "data": {
      "image/png": "[encoded data removed]",
      "text/plain": [
       "<Figure size 432x288 with 1 Axes>"
      ]
     },
     "metadata": {
      "needs_background": "light"
     },
     "output_type": "display_data"
    }
   ],
   "source": [
    "plt.hist(xbar_sim_N07_R0011, bins=11)\n",
    "plt.xlabel('xbar')\n",
    "plt.ylabel('count')\n",
    "plt.xlim(0, 1)\n",
    "plt.show()"
   ]
  },
  {
   "cell_type": "markdown",
   "id": "f4ff0a7b",
   "metadata": {},
   "source": [
    "Let's try many different replication sizes."
   ]
  },
  {
   "cell_type": "code",
   "execution_count": 93,
   "id": "edcb046d",
   "metadata": {},
   "outputs": [
    {
     "name": "stdout",
     "output_type": "stream",
     "text": [
      "[5, 10, 20, 40, 80, 160, 320, 640, 1280, 2560, 5120, 10240]\n"
     ]
    }
   ],
   "source": [
    "num_replications = [ 5 * (2 ** ix) for ix in range(12) ]\n",
    "\n",
    "print(num_replications)"
   ]
  },
  {
   "cell_type": "code",
   "execution_count": 94,
   "id": "1f84dd53",
   "metadata": {},
   "outputs": [
    {
     "name": "stdout",
     "output_type": "stream",
     "text": [
      "0 5\n",
      "1 10\n",
      "2 20\n",
      "3 40\n",
      "4 80\n",
      "5 160\n",
      "6 320\n",
      "7 640\n",
      "8 1280\n",
      "9 2560\n",
      "10 5120\n",
      "11 10240\n"
     ]
    }
   ],
   "source": [
    "# how enumerate works\n",
    "\n",
    "for i, nr in enumerate(num_replications):\n",
    "    print( i, nr )"
   ]
  },
  {
   "cell_type": "code",
   "execution_count": 95,
   "id": "160c528c",
   "metadata": {},
   "outputs": [
    {
     "data": {
      "image/png": "[encoded data removed]",
      "text/plain": [
       "<Figure size 1296x432 with 12 Axes>"
      ]
     },
     "metadata": {
      "needs_background": "light"
     },
     "output_type": "display_data"
    }
   ],
   "source": [
    "fig, axs = plt.subplots(2, 6, figsize=(18,6), sharex=True, sharey=False)\n",
    "\n",
    "axs = axs.ravel()\n",
    "\n",
    "random.seed(801)\n",
    "for i, nr in enumerate(num_replications):\n",
    "    axs[i].hist( [gen_samples_calc_avg(7) for _ in range(nr)], density=False, bins=15)\n",
    "    axs[i].set_title(\"nr: \" + str(nr))"
   ]
  },
  {
   "cell_type": "markdown",
   "id": "ce3bf2a8",
   "metadata": {},
   "source": [
    "What is the above process called?\n",
    "\n",
    "This is the CENTRAL LIMIT THM!!!!!!"
   ]
  },
  {
   "cell_type": "markdown",
   "id": "149a4a75",
   "metadata": {},
   "source": [
    "## Sample variance\n",
    "\n",
    "The formula for the sample variance is:\n",
    "\n",
    "$$s^2 = \\frac{1}{N-1} \\sum_{n=1}^{N} \\left( \\left(x_n - \\bar{x} \\right)^2 \\right) $$\n",
    "\n",
    "Let's define a function to calculate the sample variance from a list of numbers."
   ]
  },
  {
   "cell_type": "code",
   "execution_count": 96,
   "id": "a0d95671",
   "metadata": {},
   "outputs": [],
   "source": [
    "def my_variance(x):\n",
    "    xbar = my_avg(x)\n",
    "    squared_deviation = [ (xn - xbar) ** 2 for xn in x ]\n",
    "    return sum(squared_deviation) / (len(x) - 1)"
   ]
  },
  {
   "cell_type": "markdown",
   "id": "4a465c18",
   "metadata": {},
   "source": [
    "Check to make sure the function works."
   ]
  },
  {
   "cell_type": "code",
   "execution_count": 97,
   "id": "ec71ae23",
   "metadata": {},
   "outputs": [
    {
     "name": "stdout",
     "output_type": "stream",
     "text": [
      "1.0\n"
     ]
    }
   ],
   "source": [
    "print( my_variance([1, 2, 3]) )"
   ]
  },
  {
   "cell_type": "code",
   "execution_count": 98,
   "id": "8e33c99d",
   "metadata": {},
   "outputs": [
    {
     "name": "stdout",
     "output_type": "stream",
     "text": [
      "25.0\n"
     ]
    }
   ],
   "source": [
    "print( my_variance([5, 10, 15]) )"
   ]
  },
  {
   "cell_type": "markdown",
   "id": "67b8bc78",
   "metadata": {},
   "source": [
    "Re execute the simulation where we calculate the variance of the average, but for a different set of replications."
   ]
  },
  {
   "cell_type": "code",
   "execution_count": 99,
   "id": "46bbbc4e",
   "metadata": {},
   "outputs": [
    {
     "name": "stdout",
     "output_type": "stream",
     "text": [
      "[5, 10, 20, 40, 80, 160, 320, 640, 1280, 2560, 5120, 10240, 20480, 40960, 81920, 163840]\n"
     ]
    }
   ],
   "source": [
    "num_replications_study = [5 * (2 ** ix) for ix in range(16)]\n",
    "\n",
    "print( num_replications_study)"
   ]
  },
  {
   "cell_type": "markdown",
   "id": "708d16ed",
   "metadata": {},
   "source": [
    "Let's manage the two levels of iterations completely with list comprehensions.\n",
    "\n",
    "We have nested list comprehensions. Start with the outer most result.\n",
    "\n",
    "`<list of variances of the avg> = [<variance of the avg given reps> for <num reps> in <sequence of number of replications>]` \n",
    "\n",
    "How do we calculate the variance?\n",
    "\n",
    "`my_variance(<list of randomly generated average>)`\n",
    "\n",
    "The inner most iteration must generate the list of averages for a given number of replications."
   ]
  },
  {
   "cell_type": "code",
   "execution_count": 101,
   "id": "c4529334",
   "metadata": {},
   "outputs": [],
   "source": [
    "random.seed(9213)\n",
    "\n",
    "study_variance_N07 = [my_variance([gen_samples_calc_avg(7) for _ in range(nrr)]) for nrr in num_replications_study]"
   ]
  },
  {
   "cell_type": "markdown",
   "id": "40b4a222",
   "metadata": {},
   "source": [
    "Let's visualize the sample variance with respect to the number of replications."
   ]
  },
  {
   "cell_type": "code",
   "execution_count": 102,
   "id": "90f2907b",
   "metadata": {},
   "outputs": [
    {
     "data": {
      "image/png": "[encoded data removed]",
      "text/plain": [
       "<Figure size 864x432 with 1 Axes>"
      ]
     },
     "metadata": {
      "needs_background": "light"
     },
     "output_type": "display_data"
    }
   ],
   "source": [
    "fig, ax = plt.subplots(figsize=(12,6))\n",
    "\n",
    "ax.plot(num_replications_study, study_variance_N07, '-o')\n",
    "ax.set_xscale('log')\n",
    "ax.set_xlabel('number of replications')\n",
    "ax.set_ylabel('variance of the average')\n",
    "ax.grid(True)\n",
    "plt.show()"
   ]
  },
  {
   "cell_type": "markdown",
   "id": "55840797",
   "metadata": {},
   "source": [
    "When we describe the uncertainty on the average we typically talk in terms of the **standard deviation**."
   ]
  },
  {
   "cell_type": "code",
   "execution_count": 103,
   "id": "21cebb1f",
   "metadata": {},
   "outputs": [
    {
     "data": {
      "image/png": "[encoded data removed]",
      "text/plain": [
       "<Figure size 864x432 with 1 Axes>"
      ]
     },
     "metadata": {
      "needs_background": "light"
     },
     "output_type": "display_data"
    }
   ],
   "source": [
    "fig, ax = plt.subplots(figsize=(12,6))\n",
    "\n",
    "ax.plot(num_replications_study, [xv ** 0.5 for xv in study_variance_N07], '-o')\n",
    "ax.set_xscale('log')\n",
    "ax.set_xlabel('number of replications')\n",
    "ax.set_ylabel('standard deviation of the average')\n",
    "ax.grid(True)\n",
    "plt.show()"
   ]
  },
  {
   "cell_type": "markdown",
   "id": "421191ef",
   "metadata": {},
   "source": [
    "## Effect of sample size\n",
    "\n",
    "Fix the replication size (so we have a stable estimate) but study the impact of the **sample size** on the variability of the average.\n",
    "\n",
    "Define a set of sample sizes to examine."
   ]
  },
  {
   "cell_type": "code",
   "execution_count": 104,
   "id": "cba58047",
   "metadata": {},
   "outputs": [],
   "source": [
    "sample_size_study = [ 3 * (2 ** ix) for ix in range(15) ]"
   ]
  },
  {
   "cell_type": "code",
   "execution_count": 105,
   "id": "96f4c045",
   "metadata": {},
   "outputs": [
    {
     "name": "stdout",
     "output_type": "stream",
     "text": [
      "[3, 6, 12, 24, 48, 96, 192, 384, 768, 1536, 3072, 6144, 12288, 24576, 49152]\n"
     ]
    }
   ],
   "source": [
    "print( sample_size_study )"
   ]
  },
  {
   "cell_type": "markdown",
   "id": "0532059a",
   "metadata": {},
   "source": [
    "First, let's visualize the distribution of the average as we change the sample size."
   ]
  },
  {
   "cell_type": "code",
   "execution_count": 106,
   "id": "1aea969e",
   "metadata": {},
   "outputs": [
    {
     "data": {
      "image/png": "[encoded data removed]",
      "text/plain": [
       "<Figure size 864x864 with 15 Axes>"
      ]
     },
     "metadata": {
      "needs_background": "light"
     },
     "output_type": "display_data"
    }
   ],
   "source": [
    "fig, axs = plt.subplots(3, 5, figsize=(12, 12), sharex=True, sharey=False)\n",
    "\n",
    "axs = axs.ravel()\n",
    "\n",
    "random.seed(801)\n",
    "\n",
    "for i, n in enumerate(sample_size_study):\n",
    "    axs[i].hist( [gen_samples_calc_avg(n) for _ in range(2500)], density=True, bins=51)\n",
    "    axs[i].set_title(\"N: \" + str(n))"
   ]
  },
  {
   "cell_type": "markdown",
   "id": "9b691ad7",
   "metadata": {},
   "source": [
    "We can see this again by focusing on the variance of the averages."
   ]
  },
  {
   "cell_type": "code",
   "execution_count": 107,
   "id": "e6eb82e3",
   "metadata": {},
   "outputs": [],
   "source": [
    "random.seed(9213)\n",
    "\n",
    "study_variance_vs_samplesize = [my_variance([gen_samples_calc_avg(n) for _ in range(2500)]) for n in sample_size_study]"
   ]
  },
  {
   "cell_type": "markdown",
   "id": "5bb8be53",
   "metadata": {},
   "source": [
    "Visualize the standard deviation of the average with respect to sample size."
   ]
  },
  {
   "cell_type": "code",
   "execution_count": 108,
   "id": "a62cfa97",
   "metadata": {},
   "outputs": [
    {
     "data": {
      "image/png": "[encoded data removed]",
      "text/plain": [
       "<Figure size 864x432 with 1 Axes>"
      ]
     },
     "metadata": {
      "needs_background": "light"
     },
     "output_type": "display_data"
    }
   ],
   "source": [
    "fig, ax = plt.subplots(figsize=(12,6))\n",
    "\n",
    "ax.plot(sample_size_study, [xv**0.5 for xv in study_variance_vs_samplesize], '-o')\n",
    "ax.set_xscale('log')\n",
    "ax.set_xlabel('sample size')\n",
    "ax.set_ylabel('standard deviation on the average')\n",
    "ax.grid(True)\n",
    "plt.show()"
   ]
  },
  {
   "cell_type": "markdown",
   "id": "2a11ab3c",
   "metadata": {},
   "source": [
    "The standard deviation of the average is known as the **standard error of the mean**"
   ]
  },
  {
   "cell_type": "markdown",
   "id": "c4301b82",
   "metadata": {},
   "source": [
    "### Theoretical result\n",
    "\n",
    "The standard error on the average is:\n",
    "\n",
    "$$ se = \\frac{\\sigma}{\\sqrt{N}} $$\n",
    "\n",
    "Where $\\sigma$ is the sampling distribution standard deviation.\n",
    "\n",
    "The variance of a uniform distribution between $a$ and $b$ is:\n",
    "\n",
    "$$ Var = \\frac{1}{12} \\left(b - a\\right)^2 $$\n",
    "\n",
    "Our specific uniform distribution is between zero and one, so the variance is:\n",
    "\n",
    "$$ Var = \\frac{1}{12} $$"
   ]
  },
  {
   "cell_type": "code",
   "execution_count": 109,
   "id": "df99a0fe",
   "metadata": {},
   "outputs": [
    {
     "data": {
      "image/png": "[encoded data removed]",
      "text/plain": [
       "<Figure size 864x432 with 1 Axes>"
      ]
     },
     "metadata": {
      "needs_background": "light"
     },
     "output_type": "display_data"
    }
   ],
   "source": [
    "fig, ax = plt.subplots(figsize=(12,6))\n",
    "\n",
    "ax.plot(sample_size_study, [xv**0.5 for xv in study_variance_vs_samplesize], '-o', label='simulation')\n",
    "ax.plot(sample_size_study, [((1/12)/n)**0.5 for n in sample_size_study], ':sr', label='theory')\n",
    "ax.set_xscale('log')\n",
    "ax.set_xlabel('sample size')\n",
    "ax.set_ylabel('standard deviation on the average')\n",
    "ax.grid(True)\n",
    "ax.legend()\n",
    "plt.show()"
   ]
  },
  {
   "cell_type": "markdown",
   "id": "6f34465f",
   "metadata": {},
   "source": [
    "To generate random numbers from other distributions:\n",
    "\n",
    "https://docs.python.org/3/library/random.html#real-valued-distributions"
   ]
  },
  {
   "cell_type": "code",
   "execution_count": 110,
   "id": "2d738824",
   "metadata": {},
   "outputs": [
    {
     "data": {
      "text/plain": [
       "-244.7213430711413"
      ]
     },
     "execution_count": 110,
     "metadata": {},
     "output_type": "execute_result"
    }
   ],
   "source": [
    "random.gauss(mu=1001, sigma=890)"
   ]
  },
  {
   "cell_type": "markdown",
   "id": "95ff8228",
   "metadata": {},
   "source": [
    "## How can we use this?\n",
    "\n",
    "We have finite samples of usually small sizes of things.\n",
    "\n",
    "How confident are we on the average estimate?"
   ]
  },
  {
   "cell_type": "code",
   "execution_count": 111,
   "id": "d046b2db",
   "metadata": {},
   "outputs": [
    {
     "name": "stdout",
     "output_type": "stream",
     "text": [
      "[0.16494947983319797, 0.6897669242175674, 0.6349999404047206, 0.4791004720574512, 0.21601434789390284, 0.7926333582002464, 0.8078543019534277]\n"
     ]
    }
   ],
   "source": [
    "print( yu )"
   ]
  },
  {
   "cell_type": "code",
   "execution_count": 112,
   "id": "a40aa54c",
   "metadata": {},
   "outputs": [
    {
     "name": "stdout",
     "output_type": "stream",
     "text": [
      "0.5408\n"
     ]
    }
   ],
   "source": [
    "print( round(my_avg(yu), 4) )"
   ]
  },
  {
   "cell_type": "markdown",
   "id": "d6b48bcc",
   "metadata": {},
   "source": [
    "The **95% confidence interval** is the sample average $\\pm$ 2 times the standard error."
   ]
  },
  {
   "cell_type": "code",
   "execution_count": 113,
   "id": "ad2dbcbb",
   "metadata": {},
   "outputs": [],
   "source": [
    "conf_int = (my_avg(yu) - 2*(my_variance(yu) / len(yu))**0.5, my_avg(yu) + 2*(my_variance(yu) / len(yu))**0.5)"
   ]
  },
  {
   "cell_type": "code",
   "execution_count": 114,
   "id": "d75c6856",
   "metadata": {},
   "outputs": [
    {
     "data": {
      "text/plain": [
       "(0.34162863159846696, 0.7398910325616801)"
      ]
     },
     "execution_count": 114,
     "metadata": {},
     "output_type": "execute_result"
    }
   ],
   "source": [
    "conf_int"
   ]
  },
  {
   "cell_type": "code",
   "execution_count": 115,
   "id": "ee36cde3",
   "metadata": {},
   "outputs": [
    {
     "data": {
      "text/plain": [
       "(0.15303810182680433, 0.49909085223366867)"
      ]
     },
     "execution_count": 115,
     "metadata": {},
     "output_type": "execute_result"
    }
   ],
   "source": [
    "(my_avg(zu) - 2*(my_variance(zu) / len(zu))**0.5, my_avg(zu) + 2*(my_variance(zu) / len(zu))**0.5)"
   ]
  },
  {
   "cell_type": "code",
   "execution_count": null,
   "id": "d6a7166a",
   "metadata": {},
   "outputs": [],
   "source": []
  }
 ],
 "metadata": {
  "kernelspec": {
   "display_name": "Python 3 (ipykernel)",
   "language": "python",
   "name": "python3"
  },
  "language_info": {
   "codemirror_mode": {
    "name": "ipython",
    "version": 3
   },
   "file_extension": ".py",
   "mimetype": "text/x-python",
   "name": "python",
   "nbconvert_exporter": "python",
   "pygments_lexer": "ipython3",
   "version": "3.8.11"
  }
 },
 "nbformat": 4,
 "nbformat_minor": 5
}
