{
 "cells": [
  {
   "cell_type": "markdown",
   "id": "b9af3fdc",
   "metadata": {},
   "source": [
    "## CMPINF 2100 Fall 2021 - Week 03\n",
    "\n",
    "### Side Effects\n",
    "\n",
    "This example is based on one in JVG section 5.3."
   ]
  },
  {
   "cell_type": "code",
   "execution_count": 1,
   "id": "ed713ca6",
   "metadata": {},
   "outputs": [],
   "source": [
    "candy_bar = ['kitkat', 'twix']\n",
    "\n",
    "cookies = ['oreos', 'thumb prints', 'oatmeal']"
   ]
  },
  {
   "cell_type": "code",
   "execution_count": 2,
   "id": "32f378c8",
   "metadata": {},
   "outputs": [
    {
     "name": "stdout",
     "output_type": "stream",
     "text": [
      "Variable    Type    Data/Info\n",
      "-----------------------------\n",
      "candy_bar   list    n=2\n",
      "cookies     list    n=3\n"
     ]
    }
   ],
   "source": [
    "%whos"
   ]
  },
  {
   "cell_type": "markdown",
   "id": "a1d6faad",
   "metadata": {},
   "source": [
    "Take our two lists and \"put them\" in a new list"
   ]
  },
  {
   "cell_type": "code",
   "execution_count": 3,
   "id": "5896cb5b",
   "metadata": {},
   "outputs": [],
   "source": [
    "snacks = [ candy_bar, cookies ]"
   ]
  },
  {
   "cell_type": "code",
   "execution_count": 4,
   "id": "1bdb3173",
   "metadata": {},
   "outputs": [
    {
     "name": "stdout",
     "output_type": "stream",
     "text": [
      "<class 'list'>\n"
     ]
    }
   ],
   "source": [
    "print( type(snacks) )"
   ]
  },
  {
   "cell_type": "code",
   "execution_count": 5,
   "id": "6333e5e2",
   "metadata": {},
   "outputs": [
    {
     "name": "stdout",
     "output_type": "stream",
     "text": [
      "<class 'list'>\n"
     ]
    }
   ],
   "source": [
    "print( type(snacks[0]) )"
   ]
  },
  {
   "cell_type": "code",
   "execution_count": 6,
   "id": "bb9254f4",
   "metadata": {},
   "outputs": [
    {
     "name": "stdout",
     "output_type": "stream",
     "text": [
      "<class 'list'>\n"
     ]
    }
   ],
   "source": [
    "print( type(snacks[1]) )"
   ]
  },
  {
   "cell_type": "code",
   "execution_count": 7,
   "id": "7f92a35e",
   "metadata": {},
   "outputs": [
    {
     "data": {
      "text/plain": [
       "['kitkat', 'twix']"
      ]
     },
     "execution_count": 7,
     "metadata": {},
     "output_type": "execute_result"
    }
   ],
   "source": [
    "snacks[0]"
   ]
  },
  {
   "cell_type": "code",
   "execution_count": 8,
   "id": "144f08c3",
   "metadata": {},
   "outputs": [
    {
     "data": {
      "text/plain": [
       "['oreos', 'thumb prints', 'oatmeal']"
      ]
     },
     "execution_count": 8,
     "metadata": {},
     "output_type": "execute_result"
    }
   ],
   "source": [
    "snacks[1]"
   ]
  },
  {
   "cell_type": "markdown",
   "id": "de89f1aa",
   "metadata": {},
   "source": [
    "Make another list which contains all of the same values of `snacks`."
   ]
  },
  {
   "cell_type": "code",
   "execution_count": 9,
   "id": "552f1109",
   "metadata": {},
   "outputs": [],
   "source": [
    "snacks_1 = [ ['kitkat', 'twix'], ['oreos', 'thumb prints', 'oatmeal'] ]"
   ]
  },
  {
   "cell_type": "code",
   "execution_count": 10,
   "id": "a3beb0fa",
   "metadata": {},
   "outputs": [
    {
     "name": "stdout",
     "output_type": "stream",
     "text": [
      "Variable    Type    Data/Info\n",
      "-----------------------------\n",
      "candy_bar   list    n=2\n",
      "cookies     list    n=3\n",
      "snacks      list    n=2\n",
      "snacks_1    list    n=2\n"
     ]
    }
   ],
   "source": [
    "%whos"
   ]
  },
  {
   "cell_type": "code",
   "execution_count": 11,
   "id": "f2d1e670",
   "metadata": {},
   "outputs": [
    {
     "name": "stdout",
     "output_type": "stream",
     "text": [
      "True\n"
     ]
    }
   ],
   "source": [
    "print( snacks == snacks_1)"
   ]
  },
  {
   "cell_type": "code",
   "execution_count": 12,
   "id": "3b5394f5",
   "metadata": {},
   "outputs": [
    {
     "name": "stdout",
     "output_type": "stream",
     "text": [
      "False\n"
     ]
    }
   ],
   "source": [
    "print( snacks is snacks_1 )"
   ]
  },
  {
   "cell_type": "markdown",
   "id": "95979fd7",
   "metadata": {},
   "source": [
    "Let's modify the `candy_bar`."
   ]
  },
  {
   "cell_type": "code",
   "execution_count": 13,
   "id": "5e13354c",
   "metadata": {},
   "outputs": [],
   "source": [
    "candy_bar.append('milky way')"
   ]
  },
  {
   "cell_type": "code",
   "execution_count": 14,
   "id": "2a1184a1",
   "metadata": {},
   "outputs": [
    {
     "name": "stdout",
     "output_type": "stream",
     "text": [
      "Variable    Type    Data/Info\n",
      "-----------------------------\n",
      "candy_bar   list    n=3\n",
      "cookies     list    n=3\n",
      "snacks      list    n=2\n",
      "snacks_1    list    n=2\n"
     ]
    }
   ],
   "source": [
    "%whos"
   ]
  },
  {
   "cell_type": "code",
   "execution_count": 15,
   "id": "9615826a",
   "metadata": {},
   "outputs": [
    {
     "name": "stdout",
     "output_type": "stream",
     "text": [
      "False\n"
     ]
    }
   ],
   "source": [
    "print( snacks == snacks_1 )"
   ]
  },
  {
   "cell_type": "code",
   "execution_count": 16,
   "id": "6585836f",
   "metadata": {},
   "outputs": [
    {
     "name": "stdout",
     "output_type": "stream",
     "text": [
      "[['kitkat', 'twix', 'milky way'], ['oreos', 'thumb prints', 'oatmeal']]\n"
     ]
    }
   ],
   "source": [
    "print( snacks )"
   ]
  },
  {
   "cell_type": "markdown",
   "id": "4298bfda",
   "metadata": {},
   "source": [
    "A SIDE-EFFECT causes `snacks` to be updated when `candy_bar` was updated."
   ]
  },
  {
   "cell_type": "code",
   "execution_count": 17,
   "id": "ecd8d2f5",
   "metadata": {},
   "outputs": [],
   "source": [
    "candy_bar.append('payday')"
   ]
  },
  {
   "cell_type": "code",
   "execution_count": 18,
   "id": "95a38c46",
   "metadata": {},
   "outputs": [
    {
     "data": {
      "text/plain": [
       "['kitkat', 'twix', 'milky way', 'payday']"
      ]
     },
     "execution_count": 18,
     "metadata": {},
     "output_type": "execute_result"
    }
   ],
   "source": [
    "candy_bar"
   ]
  },
  {
   "cell_type": "code",
   "execution_count": 19,
   "id": "d2ebff2c",
   "metadata": {},
   "outputs": [
    {
     "data": {
      "text/plain": [
       "'payday'"
      ]
     },
     "execution_count": 19,
     "metadata": {},
     "output_type": "execute_result"
    }
   ],
   "source": [
    "candy_bar[3]"
   ]
  },
  {
   "cell_type": "code",
   "execution_count": 20,
   "id": "ae65b15c",
   "metadata": {},
   "outputs": [
    {
     "data": {
      "text/plain": [
       "[['kitkat', 'twix', 'milky way', 'payday'],\n",
       " ['oreos', 'thumb prints', 'oatmeal']]"
      ]
     },
     "execution_count": 20,
     "metadata": {},
     "output_type": "execute_result"
    }
   ],
   "source": [
    "snacks"
   ]
  },
  {
   "cell_type": "code",
   "execution_count": 21,
   "id": "a5347bb8",
   "metadata": {},
   "outputs": [
    {
     "data": {
      "text/plain": [
       "[['kitkat', 'twix'], ['oreos', 'thumb prints', 'oatmeal']]"
      ]
     },
     "execution_count": 21,
     "metadata": {},
     "output_type": "execute_result"
    }
   ],
   "source": [
    "snacks_1"
   ]
  },
  {
   "cell_type": "code",
   "execution_count": 22,
   "id": "4a15677d",
   "metadata": {},
   "outputs": [],
   "source": [
    "snacks.append('frito lays')"
   ]
  },
  {
   "cell_type": "code",
   "execution_count": 23,
   "id": "1d745793",
   "metadata": {},
   "outputs": [
    {
     "data": {
      "text/plain": [
       "[['kitkat', 'twix', 'milky way', 'payday'],\n",
       " ['oreos', 'thumb prints', 'oatmeal'],\n",
       " 'frito lays']"
      ]
     },
     "execution_count": 23,
     "metadata": {},
     "output_type": "execute_result"
    }
   ],
   "source": [
    "snacks"
   ]
  },
  {
   "cell_type": "code",
   "execution_count": 24,
   "id": "840ef530",
   "metadata": {},
   "outputs": [
    {
     "name": "stdout",
     "output_type": "stream",
     "text": [
      "<class 'str'>\n"
     ]
    }
   ],
   "source": [
    "print( type(snacks[2]))"
   ]
  },
  {
   "cell_type": "code",
   "execution_count": 25,
   "id": "ca8078c8",
   "metadata": {},
   "outputs": [],
   "source": [
    "snacks[0].append('hershey')"
   ]
  },
  {
   "cell_type": "code",
   "execution_count": 26,
   "id": "48d230ba",
   "metadata": {},
   "outputs": [
    {
     "data": {
      "text/plain": [
       "[['kitkat', 'twix', 'milky way', 'payday', 'hershey'],\n",
       " ['oreos', 'thumb prints', 'oatmeal'],\n",
       " 'frito lays']"
      ]
     },
     "execution_count": 26,
     "metadata": {},
     "output_type": "execute_result"
    }
   ],
   "source": [
    "snacks"
   ]
  },
  {
   "cell_type": "code",
   "execution_count": 27,
   "id": "97ce833a",
   "metadata": {},
   "outputs": [
    {
     "data": {
      "text/plain": [
       "['kitkat', 'twix', 'milky way', 'payday', 'hershey']"
      ]
     },
     "execution_count": 27,
     "metadata": {},
     "output_type": "execute_result"
    }
   ],
   "source": [
    "candy_bar"
   ]
  },
  {
   "cell_type": "code",
   "execution_count": 28,
   "id": "9cb345a4",
   "metadata": {},
   "outputs": [
    {
     "data": {
      "text/plain": [
       "'kitkat'"
      ]
     },
     "execution_count": 28,
     "metadata": {},
     "output_type": "execute_result"
    }
   ],
   "source": [
    "snacks[0][0]"
   ]
  },
  {
   "cell_type": "code",
   "execution_count": 29,
   "id": "87d6ea15",
   "metadata": {},
   "outputs": [
    {
     "data": {
      "text/plain": [
       "['kitkat', 'twix', 'milky way', 'payday', 'hershey', 'nestle crunch']"
      ]
     },
     "execution_count": 29,
     "metadata": {},
     "output_type": "execute_result"
    }
   ],
   "source": [
    "candy_bar + ['nestle crunch']"
   ]
  },
  {
   "cell_type": "code",
   "execution_count": 30,
   "id": "5c631e4e",
   "metadata": {},
   "outputs": [
    {
     "data": {
      "text/plain": [
       "['kitkat', 'twix', 'milky way', 'payday', 'hershey']"
      ]
     },
     "execution_count": 30,
     "metadata": {},
     "output_type": "execute_result"
    }
   ],
   "source": [
    "candy_bar"
   ]
  },
  {
   "cell_type": "code",
   "execution_count": 31,
   "id": "122d92aa",
   "metadata": {},
   "outputs": [
    {
     "data": {
      "text/plain": [
       "[['kitkat', 'twix', 'milky way', 'payday', 'hershey'],\n",
       " ['oreos', 'thumb prints', 'oatmeal'],\n",
       " 'frito lays']"
      ]
     },
     "execution_count": 31,
     "metadata": {},
     "output_type": "execute_result"
    }
   ],
   "source": [
    "snacks"
   ]
  },
  {
   "cell_type": "code",
   "execution_count": 32,
   "id": "75f4715e",
   "metadata": {},
   "outputs": [],
   "source": [
    "more_candy_bars = candy_bar + ['nestle crunch']"
   ]
  },
  {
   "cell_type": "code",
   "execution_count": 33,
   "id": "52a174d0",
   "metadata": {},
   "outputs": [
    {
     "data": {
      "text/plain": [
       "['kitkat', 'twix', 'milky way', 'payday', 'hershey', 'nestle crunch']"
      ]
     },
     "execution_count": 33,
     "metadata": {},
     "output_type": "execute_result"
    }
   ],
   "source": [
    "more_candy_bars"
   ]
  },
  {
   "cell_type": "code",
   "execution_count": 34,
   "id": "024894f4",
   "metadata": {},
   "outputs": [
    {
     "data": {
      "text/plain": [
       "[['kitkat', 'twix', 'milky way', 'payday', 'hershey'],\n",
       " ['oreos', 'thumb prints', 'oatmeal'],\n",
       " 'frito lays']"
      ]
     },
     "execution_count": 34,
     "metadata": {},
     "output_type": "execute_result"
    }
   ],
   "source": [
    "snacks"
   ]
  },
  {
   "cell_type": "code",
   "execution_count": 35,
   "id": "895e875d",
   "metadata": {},
   "outputs": [
    {
     "data": {
      "text/plain": [
       "[['kitkat', 'twix'], ['oreos', 'thumb prints', 'oatmeal']]"
      ]
     },
     "execution_count": 35,
     "metadata": {},
     "output_type": "execute_result"
    }
   ],
   "source": [
    "snacks_1"
   ]
  },
  {
   "cell_type": "code",
   "execution_count": null,
   "id": "4e6a6c02",
   "metadata": {},
   "outputs": [],
   "source": []
  }
 ],
 "metadata": {
  "kernelspec": {
   "display_name": "Python 3 (ipykernel)",
   "language": "python",
   "name": "python3"
  },
  "language_info": {
   "codemirror_mode": {
    "name": "ipython",
    "version": 3
   },
   "file_extension": ".py",
   "mimetype": "text/x-python",
   "name": "python",
   "nbconvert_exporter": "python",
   "pygments_lexer": "ipython3",
   "version": "3.8.11"
  }
 },
 "nbformat": 4,
 "nbformat_minor": 5
}
