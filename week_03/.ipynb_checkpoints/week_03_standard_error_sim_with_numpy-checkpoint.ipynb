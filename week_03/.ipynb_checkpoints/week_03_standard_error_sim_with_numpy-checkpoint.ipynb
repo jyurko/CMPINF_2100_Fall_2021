{
 "cells": [
  {
   "cell_type": "markdown",
   "id": "28364633",
   "metadata": {},
   "source": [
    "## CMPINF 2100 Fall 2021 - Week 03\n",
    "\n",
    "### random number generation in NumPy"
   ]
  },
  {
   "cell_type": "code",
   "execution_count": 1,
   "id": "f6f16419",
   "metadata": {},
   "outputs": [],
   "source": [
    "import numpy as np"
   ]
  },
  {
   "cell_type": "code",
   "execution_count": 2,
   "id": "391f31c4",
   "metadata": {},
   "outputs": [],
   "source": [
    "rg = np.random.default_rng(12345)"
   ]
  },
  {
   "cell_type": "code",
   "execution_count": 3,
   "id": "d2c4fcbe",
   "metadata": {},
   "outputs": [
    {
     "name": "stdout",
     "output_type": "stream",
     "text": [
      "Variable   Type         Data/Info\n",
      "---------------------------------\n",
      "np         module       <module 'numpy' from 'C:\\<...>ges\\\\numpy\\\\__init__.py'>\n",
      "rg         Generator    Generator(PCG64)\n"
     ]
    }
   ],
   "source": [
    "%whos"
   ]
  },
  {
   "cell_type": "code",
   "execution_count": 4,
   "id": "90c1014d",
   "metadata": {},
   "outputs": [
    {
     "data": {
      "text/plain": [
       "0.22733602246716966"
      ]
     },
     "execution_count": 4,
     "metadata": {},
     "output_type": "execute_result"
    }
   ],
   "source": [
    "rg.random()"
   ]
  },
  {
   "cell_type": "code",
   "execution_count": 5,
   "id": "2f8019a4",
   "metadata": {},
   "outputs": [
    {
     "data": {
      "text/plain": [
       "0.31675833970975287"
      ]
     },
     "execution_count": 5,
     "metadata": {},
     "output_type": "execute_result"
    }
   ],
   "source": [
    "rg.random()"
   ]
  },
  {
   "cell_type": "code",
   "execution_count": 6,
   "id": "a0d1acb4",
   "metadata": {},
   "outputs": [
    {
     "data": {
      "text/plain": [
       "0.7973654573327341"
      ]
     },
     "execution_count": 6,
     "metadata": {},
     "output_type": "execute_result"
    }
   ],
   "source": [
    "rg.random()"
   ]
  },
  {
   "cell_type": "markdown",
   "id": "345943d0",
   "metadata": {},
   "source": [
    "Reset the seed and try again."
   ]
  },
  {
   "cell_type": "code",
   "execution_count": 7,
   "id": "3d77084c",
   "metadata": {},
   "outputs": [],
   "source": [
    "rg = np.random.default_rng(12345)"
   ]
  },
  {
   "cell_type": "code",
   "execution_count": 8,
   "id": "32b6e52b",
   "metadata": {},
   "outputs": [
    {
     "name": "stdout",
     "output_type": "stream",
     "text": [
      "0.22733602246716966 0.31675833970975287 0.7973654573327341\n"
     ]
    }
   ],
   "source": [
    "print( rg.random(), rg.random(), rg.random() )"
   ]
  },
  {
   "cell_type": "markdown",
   "id": "b1430dc4",
   "metadata": {},
   "source": [
    "### Simulate 5000 replications of 7 independent uniform random numbers"
   ]
  },
  {
   "cell_type": "code",
   "execution_count": 9,
   "id": "2a1b52fd",
   "metadata": {},
   "outputs": [],
   "source": [
    "rg = np.random.default_rng(12345)\n",
    "\n",
    "Ns = 7\n",
    "\n",
    "nr = 5000\n",
    "\n",
    "X = rg.random( (nr, Ns) )"
   ]
  },
  {
   "cell_type": "code",
   "execution_count": 10,
   "id": "05914194",
   "metadata": {},
   "outputs": [
    {
     "data": {
      "text/plain": [
       "(5000, 7)"
      ]
     },
     "execution_count": 10,
     "metadata": {},
     "output_type": "execute_result"
    }
   ],
   "source": [
    "X.shape"
   ]
  },
  {
   "cell_type": "code",
   "execution_count": 12,
   "id": "62ad623a",
   "metadata": {},
   "outputs": [
    {
     "data": {
      "text/plain": [
       "array([[0.22733602, 0.31675834, 0.79736546, 0.67625467, 0.39110955,\n",
       "        0.33281393, 0.59830875],\n",
       "       [0.18673419, 0.67275604, 0.94180287, 0.24824571, 0.94888115,\n",
       "        0.66723745, 0.09589794],\n",
       "       [0.44183967, 0.88647992, 0.6974535 , 0.32647286, 0.73392816,\n",
       "        0.22013496, 0.08159457]])"
      ]
     },
     "execution_count": 12,
     "metadata": {},
     "output_type": "execute_result"
    }
   ],
   "source": [
    "X[:3, :]"
   ]
  },
  {
   "cell_type": "markdown",
   "id": "8934496e",
   "metadata": {},
   "source": [
    "### Calculate the average along each row"
   ]
  },
  {
   "cell_type": "code",
   "execution_count": 13,
   "id": "df0f1050",
   "metadata": {},
   "outputs": [],
   "source": [
    "x_row_means = X.mean(axis=1)"
   ]
  },
  {
   "cell_type": "code",
   "execution_count": 14,
   "id": "fc077edb",
   "metadata": {},
   "outputs": [
    {
     "data": {
      "text/plain": [
       "1"
      ]
     },
     "execution_count": 14,
     "metadata": {},
     "output_type": "execute_result"
    }
   ],
   "source": [
    "x_row_means.ndim"
   ]
  },
  {
   "cell_type": "code",
   "execution_count": 15,
   "id": "14cf30b1",
   "metadata": {},
   "outputs": [
    {
     "data": {
      "text/plain": [
       "(5000,)"
      ]
     },
     "execution_count": 15,
     "metadata": {},
     "output_type": "execute_result"
    }
   ],
   "source": [
    "x_row_means.shape"
   ]
  },
  {
   "cell_type": "markdown",
   "id": "cb76b9c7",
   "metadata": {},
   "source": [
    "### Calculate the standard deviation of the sample average across replications"
   ]
  },
  {
   "cell_type": "markdown",
   "id": "c8b6678f",
   "metadata": {},
   "source": [
    "The `.std()` method calculates the standard deviation."
   ]
  },
  {
   "cell_type": "code",
   "execution_count": 20,
   "id": "7d2b6691",
   "metadata": {},
   "outputs": [],
   "source": [
    "x_mean_se = x_row_means.std(ddof = 1)"
   ]
  },
  {
   "cell_type": "code",
   "execution_count": 19,
   "id": "89727510",
   "metadata": {},
   "outputs": [
    {
     "data": {
      "text/plain": [
       "0.10832706439232222"
      ]
     },
     "execution_count": 19,
     "metadata": {},
     "output_type": "execute_result"
    }
   ],
   "source": [
    "x_mean_se"
   ]
  },
  {
   "cell_type": "code",
   "execution_count": 21,
   "id": "ce5ec06a",
   "metadata": {},
   "outputs": [
    {
     "data": {
      "text/plain": [
       "0.11075996157160421"
      ]
     },
     "execution_count": 21,
     "metadata": {},
     "output_type": "execute_result"
    }
   ],
   "source": [
    "rg.random( (nr, Ns) ).mean(axis=1).std(ddof=1)"
   ]
  },
  {
   "cell_type": "markdown",
   "id": "f8d10b18",
   "metadata": {},
   "source": [
    "### Standard error for different sample sizes"
   ]
  },
  {
   "cell_type": "code",
   "execution_count": 22,
   "id": "eca2b883",
   "metadata": {},
   "outputs": [],
   "source": [
    "sample_sizes = 5 * (2 ** np.arange(12))"
   ]
  },
  {
   "cell_type": "code",
   "execution_count": 23,
   "id": "39bd4e33",
   "metadata": {},
   "outputs": [
    {
     "data": {
      "text/plain": [
       "array([    5,    10,    20,    40,    80,   160,   320,   640,  1280,\n",
       "        2560,  5120, 10240], dtype=int32)"
      ]
     },
     "execution_count": 23,
     "metadata": {},
     "output_type": "execute_result"
    }
   ],
   "source": [
    "sample_sizes"
   ]
  },
  {
   "cell_type": "code",
   "execution_count": 24,
   "id": "b68d213c",
   "metadata": {},
   "outputs": [],
   "source": [
    "se_vs_sample_size = [ rg.random((nr, nns)).mean(axis=1).std(ddof=1) for nns in list(sample_sizes) ]"
   ]
  },
  {
   "cell_type": "code",
   "execution_count": 25,
   "id": "888834a2",
   "metadata": {},
   "outputs": [],
   "source": [
    "import matplotlib.pyplot as plt"
   ]
  },
  {
   "cell_type": "code",
   "execution_count": 26,
   "id": "f4c6c884",
   "metadata": {},
   "outputs": [
    {
     "data": {
      "image/png": "[encoded data removed]",
      "text/plain": [
       "<Figure size 864x432 with 1 Axes>"
      ]
     },
     "metadata": {
      "needs_background": "light"
     },
     "output_type": "display_data"
    }
   ],
   "source": [
    "fig, ax = plt.subplots(figsize=(12,6))\n",
    "\n",
    "ax.plot(sample_sizes, se_vs_sample_size, '-o')\n",
    "ax.set_xscale('log')\n",
    "ax.set_xlabel('sample size')\n",
    "ax.set_ylabel('standard error on the average')\n",
    "ax.grid(True)\n",
    "plt.show()"
   ]
  },
  {
   "cell_type": "code",
   "execution_count": 27,
   "id": "9d3c5506",
   "metadata": {},
   "outputs": [
    {
     "name": "stdout",
     "output_type": "stream",
     "text": [
      "Help on built-in function normal:\n",
      "\n",
      "normal(...) method of numpy.random.mtrand.RandomState instance\n",
      "    normal(loc=0.0, scale=1.0, size=None)\n",
      "    \n",
      "    Draw random samples from a normal (Gaussian) distribution.\n",
      "    \n",
      "    The probability density function of the normal distribution, first\n",
      "    derived by De Moivre and 200 years later by both Gauss and Laplace\n",
      "    independently [2]_, is often called the bell curve because of\n",
      "    its characteristic shape (see the example below).\n",
      "    \n",
      "    The normal distributions occurs often in nature.  For example, it\n",
      "    describes the commonly occurring distribution of samples influenced\n",
      "    by a large number of tiny, random disturbances, each with its own\n",
      "    unique distribution [2]_.\n",
      "    \n",
      "    .. note::\n",
      "        New code should use the ``normal`` method of a ``default_rng()``\n",
      "        instance instead; please see the :ref:`random-quick-start`.\n",
      "    \n",
      "    Parameters\n",
      "    ----------\n",
      "    loc : float or array_like of floats\n",
      "        Mean (\"centre\") of the distribution.\n",
      "    scale : float or array_like of floats\n",
      "        Standard deviation (spread or \"width\") of the distribution. Must be\n",
      "        non-negative.\n",
      "    size : int or tuple of ints, optional\n",
      "        Output shape.  If the given shape is, e.g., ``(m, n, k)``, then\n",
      "        ``m * n * k`` samples are drawn.  If size is ``None`` (default),\n",
      "        a single value is returned if ``loc`` and ``scale`` are both scalars.\n",
      "        Otherwise, ``np.broadcast(loc, scale).size`` samples are drawn.\n",
      "    \n",
      "    Returns\n",
      "    -------\n",
      "    out : ndarray or scalar\n",
      "        Drawn samples from the parameterized normal distribution.\n",
      "    \n",
      "    See Also\n",
      "    --------\n",
      "    scipy.stats.norm : probability density function, distribution or\n",
      "        cumulative density function, etc.\n",
      "    Generator.normal: which should be used for new code.\n",
      "    \n",
      "    Notes\n",
      "    -----\n",
      "    The probability density for the Gaussian distribution is\n",
      "    \n",
      "    .. math:: p(x) = \\frac{1}{\\sqrt{ 2 \\pi \\sigma^2 }}\n",
      "                     e^{ - \\frac{ (x - \\mu)^2 } {2 \\sigma^2} },\n",
      "    \n",
      "    where :math:`\\mu` is the mean and :math:`\\sigma` the standard\n",
      "    deviation. The square of the standard deviation, :math:`\\sigma^2`,\n",
      "    is called the variance.\n",
      "    \n",
      "    The function has its peak at the mean, and its \"spread\" increases with\n",
      "    the standard deviation (the function reaches 0.607 times its maximum at\n",
      "    :math:`x + \\sigma` and :math:`x - \\sigma` [2]_).  This implies that\n",
      "    normal is more likely to return samples lying close to the mean, rather\n",
      "    than those far away.\n",
      "    \n",
      "    References\n",
      "    ----------\n",
      "    .. [1] Wikipedia, \"Normal distribution\",\n",
      "           https://en.wikipedia.org/wiki/Normal_distribution\n",
      "    .. [2] P. R. Peebles Jr., \"Central Limit Theorem\" in \"Probability,\n",
      "           Random Variables and Random Signal Principles\", 4th ed., 2001,\n",
      "           pp. 51, 51, 125.\n",
      "    \n",
      "    Examples\n",
      "    --------\n",
      "    Draw samples from the distribution:\n",
      "    \n",
      "    >>> mu, sigma = 0, 0.1 # mean and standard deviation\n",
      "    >>> s = np.random.normal(mu, sigma, 1000)\n",
      "    \n",
      "    Verify the mean and the variance:\n",
      "    \n",
      "    >>> abs(mu - np.mean(s))\n",
      "    0.0  # may vary\n",
      "    \n",
      "    >>> abs(sigma - np.std(s, ddof=1))\n",
      "    0.1  # may vary\n",
      "    \n",
      "    Display the histogram of the samples, along with\n",
      "    the probability density function:\n",
      "    \n",
      "    >>> import matplotlib.pyplot as plt\n",
      "    >>> count, bins, ignored = plt.hist(s, 30, density=True)\n",
      "    >>> plt.plot(bins, 1/(sigma * np.sqrt(2 * np.pi)) *\n",
      "    ...                np.exp( - (bins - mu)**2 / (2 * sigma**2) ),\n",
      "    ...          linewidth=2, color='r')\n",
      "    >>> plt.show()\n",
      "    \n",
      "    Two-by-four array of samples from N(3, 6.25):\n",
      "    \n",
      "    >>> np.random.normal(3, 2.5, size=(2, 4))\n",
      "    array([[-4.49401501,  4.00950034, -1.81814867,  7.29718677],   # random\n",
      "           [ 0.39924804,  4.68456316,  4.99394529,  4.84057254]])  # random\n",
      "\n"
     ]
    }
   ],
   "source": [
    "help( np.random.normal )"
   ]
  },
  {
   "cell_type": "code",
   "execution_count": 28,
   "id": "c4bc6b45",
   "metadata": {},
   "outputs": [
    {
     "data": {
      "text/plain": [
       "array([[4.65648751, 3.84409303, 6.01813058],\n",
       "       [5.55935812, 5.92722578, 5.88324665],\n",
       "       [4.47095892, 3.8614639 , 6.18931437],\n",
       "       [5.28595273, 5.61090631, 4.44910322],\n",
       "       [4.26813976, 4.29135711, 6.79445196],\n",
       "       [2.4294618 , 3.22372612, 2.8941075 ],\n",
       "       [5.48822189, 5.08956444, 4.83387817],\n",
       "       [4.28279368, 3.37989358, 6.39749529],\n",
       "       [6.53448063, 4.19335345, 4.35537123],\n",
       "       [4.28549377, 6.62957596, 5.92067698],\n",
       "       [7.21772156, 5.51885275, 4.67623065],\n",
       "       [5.57082998, 6.86310007, 3.59189566]])"
      ]
     },
     "execution_count": 28,
     "metadata": {},
     "output_type": "execute_result"
    }
   ],
   "source": [
    "rg.normal(5, 1, (12, 3))"
   ]
  },
  {
   "cell_type": "code",
   "execution_count": 29,
   "id": "00dd295e",
   "metadata": {},
   "outputs": [],
   "source": [
    "Y = rg.normal(5, 1, (12, 3))"
   ]
  },
  {
   "cell_type": "code",
   "execution_count": 30,
   "id": "d0e17adc",
   "metadata": {},
   "outputs": [
    {
     "name": "stdout",
     "output_type": "stream",
     "text": [
      "[[3.83613664 4.96023622 6.7775162 ]\n",
      " [6.44625484 2.90214795 3.25414226]\n",
      " [5.53353356 4.97267461 4.52583287]\n",
      " [3.80350621 4.76588569 4.44488529]\n",
      " [6.01818178 5.28933648 6.22158772]\n",
      " [6.57247872 4.61070079 3.0101839 ]\n",
      " [5.30371498 4.44474734 5.02654211]\n",
      " [6.61641921 4.60460369 6.56772378]\n",
      " [4.31452008 4.81319579 5.54604545]\n",
      " [4.20303268 4.5664026  4.68568921]\n",
      " [5.29027001 5.9881949  4.0609559 ]\n",
      " [3.86100215 5.43619333 6.9298354 ]]\n"
     ]
    }
   ],
   "source": [
    "print( Y )"
   ]
  },
  {
   "cell_type": "code",
   "execution_count": 31,
   "id": "e20aad52",
   "metadata": {},
   "outputs": [
    {
     "data": {
      "text/plain": [
       "array([5.19129635, 4.20084835, 5.01068035, 4.3380924 , 5.84303533,\n",
       "       4.73112113, 4.92500148, 5.92958223, 4.89125377, 4.4850415 ,\n",
       "       5.11314027, 5.40901029])"
      ]
     },
     "execution_count": 31,
     "metadata": {},
     "output_type": "execute_result"
    }
   ],
   "source": [
    "Y.mean(axis=1)"
   ]
  },
  {
   "cell_type": "code",
   "execution_count": 32,
   "id": "5d631331",
   "metadata": {},
   "outputs": [
    {
     "data": {
      "text/plain": [
       "array([3.83613664, 4.96023622, 6.7775162 ])"
      ]
     },
     "execution_count": 32,
     "metadata": {},
     "output_type": "execute_result"
    }
   ],
   "source": [
    "Y[0]"
   ]
  },
  {
   "cell_type": "code",
   "execution_count": 33,
   "id": "188826ad",
   "metadata": {},
   "outputs": [
    {
     "data": {
      "text/plain": [
       "5.191296352997588"
      ]
     },
     "execution_count": 33,
     "metadata": {},
     "output_type": "execute_result"
    }
   ],
   "source": [
    "Y[0].mean()"
   ]
  },
  {
   "cell_type": "code",
   "execution_count": 34,
   "id": "fa7ac47e",
   "metadata": {},
   "outputs": [
    {
     "data": {
      "text/plain": [
       "array([6.44625484, 2.90214795, 3.25414226])"
      ]
     },
     "execution_count": 34,
     "metadata": {},
     "output_type": "execute_result"
    }
   ],
   "source": [
    "Y[1]"
   ]
  },
  {
   "cell_type": "code",
   "execution_count": 35,
   "id": "ba11cfb2",
   "metadata": {},
   "outputs": [
    {
     "data": {
      "text/plain": [
       "4.200848348681206"
      ]
     },
     "execution_count": 35,
     "metadata": {},
     "output_type": "execute_result"
    }
   ],
   "source": [
    "Y[1].mean()"
   ]
  },
  {
   "cell_type": "code",
   "execution_count": null,
   "id": "a4ba2a7e",
   "metadata": {},
   "outputs": [],
   "source": []
  }
 ],
 "metadata": {
  "kernelspec": {
   "display_name": "Python 3 (ipykernel)",
   "language": "python",
   "name": "python3"
  },
  "language_info": {
   "codemirror_mode": {
    "name": "ipython",
    "version": 3
   },
   "file_extension": ".py",
   "mimetype": "text/x-python",
   "name": "python",
   "nbconvert_exporter": "python",
   "pygments_lexer": "ipython3",
   "version": "3.8.11"
  }
 },
 "nbformat": 4,
 "nbformat_minor": 5
}
