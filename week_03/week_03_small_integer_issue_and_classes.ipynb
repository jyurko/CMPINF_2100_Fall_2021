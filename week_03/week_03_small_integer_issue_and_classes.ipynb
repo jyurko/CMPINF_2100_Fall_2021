{
 "cells": [
  {
   "cell_type": "markdown",
   "id": "a29185de",
   "metadata": {},
   "source": [
    "## CMPINF 2100 Fall 2021 - Week 03\n",
    "\n",
    "### Small integer issue"
   ]
  },
  {
   "cell_type": "code",
   "execution_count": 1,
   "id": "017c2d6f",
   "metadata": {},
   "outputs": [],
   "source": [
    "a = 1\n",
    "\n",
    "b = 1"
   ]
  },
  {
   "cell_type": "code",
   "execution_count": 2,
   "id": "6e36a595",
   "metadata": {},
   "outputs": [
    {
     "name": "stdout",
     "output_type": "stream",
     "text": [
      "Variable   Type    Data/Info\n",
      "----------------------------\n",
      "a          int     1\n",
      "b          int     1\n"
     ]
    }
   ],
   "source": [
    "%whos"
   ]
  },
  {
   "cell_type": "code",
   "execution_count": 3,
   "id": "cca32831",
   "metadata": {},
   "outputs": [
    {
     "data": {
      "text/plain": [
       "True"
      ]
     },
     "execution_count": 3,
     "metadata": {},
     "output_type": "execute_result"
    }
   ],
   "source": [
    "a == b"
   ]
  },
  {
   "cell_type": "code",
   "execution_count": 4,
   "id": "33237af1",
   "metadata": {},
   "outputs": [
    {
     "data": {
      "text/plain": [
       "True"
      ]
     },
     "execution_count": 4,
     "metadata": {},
     "output_type": "execute_result"
    }
   ],
   "source": [
    "a is b"
   ]
  },
  {
   "cell_type": "code",
   "execution_count": 5,
   "id": "752de090",
   "metadata": {},
   "outputs": [
    {
     "name": "stdout",
     "output_type": "stream",
     "text": [
      "140718829543168\n",
      "140718829543168\n"
     ]
    }
   ],
   "source": [
    "print( id(a) )\n",
    "\n",
    "print( id(b) )"
   ]
  },
  {
   "cell_type": "code",
   "execution_count": 6,
   "id": "3b6d0db4",
   "metadata": {},
   "outputs": [],
   "source": [
    "c = 1.\n",
    "\n",
    "d = 1."
   ]
  },
  {
   "cell_type": "code",
   "execution_count": 7,
   "id": "37e96405",
   "metadata": {},
   "outputs": [
    {
     "name": "stdout",
     "output_type": "stream",
     "text": [
      "Variable   Type     Data/Info\n",
      "-----------------------------\n",
      "a          int      1\n",
      "b          int      1\n",
      "c          float    1.0\n",
      "d          float    1.0\n"
     ]
    }
   ],
   "source": [
    "%whos"
   ]
  },
  {
   "cell_type": "code",
   "execution_count": 8,
   "id": "59631330",
   "metadata": {},
   "outputs": [
    {
     "data": {
      "text/plain": [
       "True"
      ]
     },
     "execution_count": 8,
     "metadata": {},
     "output_type": "execute_result"
    }
   ],
   "source": [
    "c == d"
   ]
  },
  {
   "cell_type": "code",
   "execution_count": 9,
   "id": "f27fa4ff",
   "metadata": {},
   "outputs": [
    {
     "data": {
      "text/plain": [
       "False"
      ]
     },
     "execution_count": 9,
     "metadata": {},
     "output_type": "execute_result"
    }
   ],
   "source": [
    "c is d"
   ]
  },
  {
   "cell_type": "code",
   "execution_count": 10,
   "id": "1570ed85",
   "metadata": {},
   "outputs": [
    {
     "name": "stdout",
     "output_type": "stream",
     "text": [
      "2307757699952\n",
      "2307757702000\n"
     ]
    }
   ],
   "source": [
    "print( id(c) )\n",
    "\n",
    "print( id(d) )"
   ]
  },
  {
   "cell_type": "markdown",
   "id": "002b7432",
   "metadata": {},
   "source": [
    "SMALL INTEGER CACHING...is the reason why the `a` and `b` objects are the same...they point to the same already created object."
   ]
  },
  {
   "cell_type": "markdown",
   "id": "85b2023b",
   "metadata": {},
   "source": [
    "Small integers are -6 to 256...so what if we use 257?"
   ]
  },
  {
   "cell_type": "code",
   "execution_count": 11,
   "id": "769e79f4",
   "metadata": {},
   "outputs": [],
   "source": [
    "a_big = 257\n",
    "\n",
    "b_big = 257"
   ]
  },
  {
   "cell_type": "code",
   "execution_count": 12,
   "id": "3e0a3c72",
   "metadata": {},
   "outputs": [
    {
     "data": {
      "text/plain": [
       "True"
      ]
     },
     "execution_count": 12,
     "metadata": {},
     "output_type": "execute_result"
    }
   ],
   "source": [
    "a_big == b_big "
   ]
  },
  {
   "cell_type": "code",
   "execution_count": 13,
   "id": "51da0c92",
   "metadata": {},
   "outputs": [
    {
     "data": {
      "text/plain": [
       "False"
      ]
     },
     "execution_count": 13,
     "metadata": {},
     "output_type": "execute_result"
    }
   ],
   "source": [
    "a_big is b_big"
   ]
  },
  {
   "cell_type": "code",
   "execution_count": 14,
   "id": "a70b643b",
   "metadata": {},
   "outputs": [
    {
     "name": "stdout",
     "output_type": "stream",
     "text": [
      "2307757700528\n",
      "2307757700496\n"
     ]
    }
   ],
   "source": [
    "print( id(a_big) )\n",
    "\n",
    "print( id(b_big) )"
   ]
  },
  {
   "cell_type": "markdown",
   "id": "c7685f50",
   "metadata": {},
   "source": [
    "If we check exactly at 256..."
   ]
  },
  {
   "cell_type": "code",
   "execution_count": 15,
   "id": "181debf2",
   "metadata": {},
   "outputs": [],
   "source": [
    "a_limit = 256\n",
    "\n",
    "b_limit = 256"
   ]
  },
  {
   "cell_type": "code",
   "execution_count": 16,
   "id": "7f3dc000",
   "metadata": {},
   "outputs": [
    {
     "data": {
      "text/plain": [
       "True"
      ]
     },
     "execution_count": 16,
     "metadata": {},
     "output_type": "execute_result"
    }
   ],
   "source": [
    "a_limit == b_limit"
   ]
  },
  {
   "cell_type": "code",
   "execution_count": 17,
   "id": "81442980",
   "metadata": {},
   "outputs": [
    {
     "data": {
      "text/plain": [
       "True"
      ]
     },
     "execution_count": 17,
     "metadata": {},
     "output_type": "execute_result"
    }
   ],
   "source": [
    "a_limit is b_limit"
   ]
  },
  {
   "cell_type": "markdown",
   "id": "c043d788",
   "metadata": {},
   "source": [
    "Strings are weird..."
   ]
  },
  {
   "cell_type": "code",
   "execution_count": 18,
   "id": "c2a3c071",
   "metadata": {},
   "outputs": [],
   "source": [
    "a_string = '1'\n",
    "\n",
    "b_string = '1'"
   ]
  },
  {
   "cell_type": "code",
   "execution_count": 19,
   "id": "88f1b73b",
   "metadata": {},
   "outputs": [
    {
     "data": {
      "text/plain": [
       "True"
      ]
     },
     "execution_count": 19,
     "metadata": {},
     "output_type": "execute_result"
    }
   ],
   "source": [
    "a_string == b_string"
   ]
  },
  {
   "cell_type": "code",
   "execution_count": 20,
   "id": "3a9c3a6f",
   "metadata": {},
   "outputs": [
    {
     "data": {
      "text/plain": [
       "True"
      ]
     },
     "execution_count": 20,
     "metadata": {},
     "output_type": "execute_result"
    }
   ],
   "source": [
    "a_string is b_string"
   ]
  },
  {
   "cell_type": "code",
   "execution_count": 21,
   "id": "c3b9e967",
   "metadata": {},
   "outputs": [],
   "source": [
    "another_string = '1 1 1'"
   ]
  },
  {
   "cell_type": "code",
   "execution_count": 22,
   "id": "f90d2a3d",
   "metadata": {},
   "outputs": [],
   "source": [
    "bnother_string = '1 1 1'"
   ]
  },
  {
   "cell_type": "code",
   "execution_count": 23,
   "id": "29425247",
   "metadata": {},
   "outputs": [
    {
     "data": {
      "text/plain": [
       "True"
      ]
     },
     "execution_count": 23,
     "metadata": {},
     "output_type": "execute_result"
    }
   ],
   "source": [
    "another_string == bnother_string"
   ]
  },
  {
   "cell_type": "code",
   "execution_count": 24,
   "id": "7387f45a",
   "metadata": {},
   "outputs": [
    {
     "data": {
      "text/plain": [
       "False"
      ]
     },
     "execution_count": 24,
     "metadata": {},
     "output_type": "execute_result"
    }
   ],
   "source": [
    "another_string is bnother_string"
   ]
  },
  {
   "cell_type": "code",
   "execution_count": 25,
   "id": "e7c8e490",
   "metadata": {},
   "outputs": [],
   "source": [
    "yet_another = 'hello'\n",
    "\n",
    "yet_another_b = 'hello'"
   ]
  },
  {
   "cell_type": "code",
   "execution_count": 26,
   "id": "300e52ca",
   "metadata": {},
   "outputs": [
    {
     "data": {
      "text/plain": [
       "True"
      ]
     },
     "execution_count": 26,
     "metadata": {},
     "output_type": "execute_result"
    }
   ],
   "source": [
    "yet_another is yet_another_b"
   ]
  },
  {
   "cell_type": "markdown",
   "id": "cede5707",
   "metadata": {},
   "source": [
    "## User defined classes or Data types\n",
    "\n",
    "These examples are based on standard Python 3 `class` examples."
   ]
  },
  {
   "cell_type": "code",
   "execution_count": 27,
   "id": "a90ad7dc",
   "metadata": {},
   "outputs": [],
   "source": [
    "class MyClass:\n",
    "    \"\"\" a simple example for a user defined class\"\"\"\n",
    "    # make an attribute\n",
    "    i = 12345\n",
    "    \n",
    "    # make another attribute s\n",
    "    s = '12345'\n",
    "    \n",
    "    # define a method - that acts on or is applied to\n",
    "    # the object\n",
    "    def f(self):\n",
    "        return 'I need an object defined to work'\n",
    "    \n",
    "    # a \"static method\" does not require an object to defined\n",
    "    def fstatic():\n",
    "        return 'I work without an object defined'"
   ]
  },
  {
   "cell_type": "code",
   "execution_count": 28,
   "id": "1fb46eeb",
   "metadata": {},
   "outputs": [
    {
     "name": "stdout",
     "output_type": "stream",
     "text": [
      "Variable         Type     Data/Info\n",
      "-----------------------------------\n",
      "MyClass          type     <class '__main__.MyClass'>\n",
      "a                int      1\n",
      "a_big            int      257\n",
      "a_limit          int      256\n",
      "a_string         str      1\n",
      "another_string   str      1 1 1\n",
      "b                int      1\n",
      "b_big            int      257\n",
      "b_limit          int      256\n",
      "b_string         str      1\n",
      "bnother_string   str      1 1 1\n",
      "c                float    1.0\n",
      "d                float    1.0\n",
      "yet_another      str      hello\n",
      "yet_another_b    str      hello\n"
     ]
    }
   ],
   "source": [
    "%whos"
   ]
  },
  {
   "cell_type": "code",
   "execution_count": 29,
   "id": "0f942977",
   "metadata": {},
   "outputs": [
    {
     "name": "stdout",
     "output_type": "stream",
     "text": [
      "<class 'type'>\n"
     ]
    }
   ],
   "source": [
    "print( type(MyClass) )"
   ]
  },
  {
   "cell_type": "markdown",
   "id": "ec52f263",
   "metadata": {},
   "source": [
    "Make an object of our custom class."
   ]
  },
  {
   "cell_type": "code",
   "execution_count": 30,
   "id": "a30d3ce0",
   "metadata": {},
   "outputs": [],
   "source": [
    "my_example_class = MyClass()"
   ]
  },
  {
   "cell_type": "code",
   "execution_count": 31,
   "id": "3cfa82ed",
   "metadata": {},
   "outputs": [
    {
     "name": "stdout",
     "output_type": "stream",
     "text": [
      "Variable           Type       Data/Info\n",
      "---------------------------------------\n",
      "MyClass            type       <class '__main__.MyClass'>\n",
      "a                  int        1\n",
      "a_big              int        257\n",
      "a_limit            int        256\n",
      "a_string           str        1\n",
      "another_string     str        1 1 1\n",
      "b                  int        1\n",
      "b_big              int        257\n",
      "b_limit            int        256\n",
      "b_string           str        1\n",
      "bnother_string     str        1 1 1\n",
      "c                  float      1.0\n",
      "d                  float      1.0\n",
      "my_example_class   MyClass    <__main__.MyClass object at 0x0000021952C5CF70>\n",
      "yet_another        str        hello\n",
      "yet_another_b      str        hello\n"
     ]
    }
   ],
   "source": [
    "%whos"
   ]
  },
  {
   "cell_type": "code",
   "execution_count": 32,
   "id": "4195aafa",
   "metadata": {},
   "outputs": [
    {
     "data": {
      "text/plain": [
       "['__class__',\n",
       " '__delattr__',\n",
       " '__dict__',\n",
       " '__dir__',\n",
       " '__doc__',\n",
       " '__eq__',\n",
       " '__format__',\n",
       " '__ge__',\n",
       " '__getattribute__',\n",
       " '__gt__',\n",
       " '__hash__',\n",
       " '__init__',\n",
       " '__init_subclass__',\n",
       " '__le__',\n",
       " '__lt__',\n",
       " '__module__',\n",
       " '__ne__',\n",
       " '__new__',\n",
       " '__reduce__',\n",
       " '__reduce_ex__',\n",
       " '__repr__',\n",
       " '__setattr__',\n",
       " '__sizeof__',\n",
       " '__str__',\n",
       " '__subclasshook__',\n",
       " '__weakref__',\n",
       " 'f',\n",
       " 'fstatic',\n",
       " 'i',\n",
       " 's']"
      ]
     },
     "execution_count": 32,
     "metadata": {},
     "output_type": "execute_result"
    }
   ],
   "source": [
    "dir(my_example_class)"
   ]
  },
  {
   "cell_type": "markdown",
   "id": "a3e0b85d",
   "metadata": {},
   "source": [
    "We can access any attribute using the DOT NOTATION."
   ]
  },
  {
   "cell_type": "code",
   "execution_count": 33,
   "id": "d1dde63e",
   "metadata": {},
   "outputs": [
    {
     "data": {
      "text/plain": [
       "12345"
      ]
     },
     "execution_count": 33,
     "metadata": {},
     "output_type": "execute_result"
    }
   ],
   "source": [
    "my_example_class.i"
   ]
  },
  {
   "cell_type": "code",
   "execution_count": 34,
   "id": "a5a22d16",
   "metadata": {},
   "outputs": [
    {
     "data": {
      "text/plain": [
       "'I need an object defined to work'"
      ]
     },
     "execution_count": 34,
     "metadata": {},
     "output_type": "execute_result"
    }
   ],
   "source": [
    "my_example_class.f()"
   ]
  },
  {
   "cell_type": "markdown",
   "id": "80076776",
   "metadata": {},
   "source": [
    "Static methods do not need the object defined to work."
   ]
  },
  {
   "cell_type": "code",
   "execution_count": 35,
   "id": "116dae52",
   "metadata": {},
   "outputs": [
    {
     "data": {
      "text/plain": [
       "'I work without an object defined'"
      ]
     },
     "execution_count": 35,
     "metadata": {},
     "output_type": "execute_result"
    }
   ],
   "source": [
    "MyClass.fstatic()"
   ]
  },
  {
   "cell_type": "code",
   "execution_count": 36,
   "id": "9702188d",
   "metadata": {},
   "outputs": [
    {
     "ename": "TypeError",
     "evalue": "f() missing 1 required positional argument: 'self'",
     "output_type": "error",
     "traceback": [
      "\u001b[1;31m---------------------------------------------------------------------------\u001b[0m",
      "\u001b[1;31mTypeError\u001b[0m                                 Traceback (most recent call last)",
      "\u001b[1;32m~\\AppData\\Local\\Temp/ipykernel_6656/3133102373.py\u001b[0m in \u001b[0;36m<module>\u001b[1;34m\u001b[0m\n\u001b[1;32m----> 1\u001b[1;33m \u001b[0mMyClass\u001b[0m\u001b[1;33m.\u001b[0m\u001b[0mf\u001b[0m\u001b[1;33m(\u001b[0m\u001b[1;33m)\u001b[0m\u001b[1;33m\u001b[0m\u001b[1;33m\u001b[0m\u001b[0m\n\u001b[0m",
      "\u001b[1;31mTypeError\u001b[0m: f() missing 1 required positional argument: 'self'"
     ]
    }
   ],
   "source": [
    "MyClass.f()"
   ]
  },
  {
   "cell_type": "markdown",
   "id": "b59018e7",
   "metadata": {},
   "source": [
    "## Initialization methods\n",
    "\n",
    "Let's create a class `Dog` with an initialization method that requires the user to specify the name of the dog."
   ]
  },
  {
   "cell_type": "code",
   "execution_count": 37,
   "id": "82b65c6e",
   "metadata": {},
   "outputs": [],
   "source": [
    "class Dog:\n",
    "    kind = 'canine'\n",
    "    \n",
    "    feet = 'paws'\n",
    "    \n",
    "    has_tail = 'yes'\n",
    "    \n",
    "    def __init__(self, name):\n",
    "        self.name = name"
   ]
  },
  {
   "cell_type": "code",
   "execution_count": 38,
   "id": "f6946ebc",
   "metadata": {},
   "outputs": [
    {
     "name": "stdout",
     "output_type": "stream",
     "text": [
      "Variable           Type       Data/Info\n",
      "---------------------------------------\n",
      "Dog                type       <class '__main__.Dog'>\n",
      "MyClass            type       <class '__main__.MyClass'>\n",
      "a                  int        1\n",
      "a_big              int        257\n",
      "a_limit            int        256\n",
      "a_string           str        1\n",
      "another_string     str        1 1 1\n",
      "b                  int        1\n",
      "b_big              int        257\n",
      "b_limit            int        256\n",
      "b_string           str        1\n",
      "bnother_string     str        1 1 1\n",
      "c                  float      1.0\n",
      "d                  float      1.0\n",
      "my_example_class   MyClass    <__main__.MyClass object at 0x0000021952C5CF70>\n",
      "yet_another        str        hello\n",
      "yet_another_b      str        hello\n"
     ]
    }
   ],
   "source": [
    "%whos"
   ]
  },
  {
   "cell_type": "code",
   "execution_count": 39,
   "id": "d3887691",
   "metadata": {},
   "outputs": [
    {
     "ename": "TypeError",
     "evalue": "__init__() missing 1 required positional argument: 'name'",
     "output_type": "error",
     "traceback": [
      "\u001b[1;31m---------------------------------------------------------------------------\u001b[0m",
      "\u001b[1;31mTypeError\u001b[0m                                 Traceback (most recent call last)",
      "\u001b[1;32m~\\AppData\\Local\\Temp/ipykernel_6656/3226080032.py\u001b[0m in \u001b[0;36m<module>\u001b[1;34m\u001b[0m\n\u001b[1;32m----> 1\u001b[1;33m \u001b[0mmy_dog\u001b[0m \u001b[1;33m=\u001b[0m \u001b[0mDog\u001b[0m\u001b[1;33m(\u001b[0m\u001b[1;33m)\u001b[0m\u001b[1;33m\u001b[0m\u001b[1;33m\u001b[0m\u001b[0m\n\u001b[0m",
      "\u001b[1;31mTypeError\u001b[0m: __init__() missing 1 required positional argument: 'name'"
     ]
    }
   ],
   "source": [
    "my_dog = Dog()"
   ]
  },
  {
   "cell_type": "code",
   "execution_count": 40,
   "id": "1f3afdb8",
   "metadata": {},
   "outputs": [],
   "source": [
    "my_dog = Dog(name='Vinny')"
   ]
  },
  {
   "cell_type": "code",
   "execution_count": 41,
   "id": "3a029545",
   "metadata": {},
   "outputs": [],
   "source": [
    "my_dog_b = Dog('Vinny')"
   ]
  },
  {
   "cell_type": "code",
   "execution_count": 42,
   "id": "a48d14e7",
   "metadata": {},
   "outputs": [
    {
     "data": {
      "text/plain": [
       "'paws'"
      ]
     },
     "execution_count": 42,
     "metadata": {},
     "output_type": "execute_result"
    }
   ],
   "source": [
    "my_dog.feet"
   ]
  },
  {
   "cell_type": "code",
   "execution_count": 43,
   "id": "f5ea6c9d",
   "metadata": {},
   "outputs": [
    {
     "data": {
      "text/plain": [
       "'canine'"
      ]
     },
     "execution_count": 43,
     "metadata": {},
     "output_type": "execute_result"
    }
   ],
   "source": [
    "my_dog.kind"
   ]
  },
  {
   "cell_type": "code",
   "execution_count": 44,
   "id": "0e09fa84",
   "metadata": {},
   "outputs": [
    {
     "data": {
      "text/plain": [
       "'Vinny'"
      ]
     },
     "execution_count": 44,
     "metadata": {},
     "output_type": "execute_result"
    }
   ],
   "source": [
    "my_dog.name"
   ]
  },
  {
   "cell_type": "code",
   "execution_count": 45,
   "id": "93a6f0a0",
   "metadata": {},
   "outputs": [],
   "source": [
    "my_brothers_dog = Dog('Bruce')"
   ]
  },
  {
   "cell_type": "code",
   "execution_count": 46,
   "id": "2b831277",
   "metadata": {},
   "outputs": [
    {
     "data": {
      "text/plain": [
       "'yes'"
      ]
     },
     "execution_count": 46,
     "metadata": {},
     "output_type": "execute_result"
    }
   ],
   "source": [
    "my_brothers_dog.has_tail"
   ]
  },
  {
   "cell_type": "code",
   "execution_count": 48,
   "id": "dfcdb35c",
   "metadata": {},
   "outputs": [
    {
     "data": {
      "text/plain": [
       "'yes'"
      ]
     },
     "execution_count": 48,
     "metadata": {},
     "output_type": "execute_result"
    }
   ],
   "source": [
    "my_dog.has_tail"
   ]
  },
  {
   "cell_type": "code",
   "execution_count": 49,
   "id": "5bdd0c25",
   "metadata": {},
   "outputs": [
    {
     "name": "stdout",
     "output_type": "stream",
     "text": [
      "Vinny Bruce\n"
     ]
    }
   ],
   "source": [
    "print( my_dog.name, my_brothers_dog.name )"
   ]
  },
  {
   "cell_type": "markdown",
   "id": "c5b7f985",
   "metadata": {},
   "source": [
    "Let's make a class for pets."
   ]
  },
  {
   "cell_type": "code",
   "execution_count": 50,
   "id": "4f8d4542",
   "metadata": {},
   "outputs": [],
   "source": [
    "class Pet:\n",
    "    def __init__(self, species, name, the_pets_age):\n",
    "        self.species = species\n",
    "        self.name = name\n",
    "        self.age = the_pets_age"
   ]
  },
  {
   "cell_type": "code",
   "execution_count": 51,
   "id": "cd70928f",
   "metadata": {},
   "outputs": [
    {
     "name": "stdout",
     "output_type": "stream",
     "text": [
      "Variable           Type       Data/Info\n",
      "---------------------------------------\n",
      "Dog                type       <class '__main__.Dog'>\n",
      "MyClass            type       <class '__main__.MyClass'>\n",
      "Pet                type       <class '__main__.Pet'>\n",
      "a                  int        1\n",
      "a_big              int        257\n",
      "a_limit            int        256\n",
      "a_string           str        1\n",
      "another_string     str        1 1 1\n",
      "b                  int        1\n",
      "b_big              int        257\n",
      "b_limit            int        256\n",
      "b_string           str        1\n",
      "bnother_string     str        1 1 1\n",
      "c                  float      1.0\n",
      "d                  float      1.0\n",
      "my_brothers_dog    Dog        <__main__.Dog object at 0x00000219520C6D60>\n",
      "my_dog             Dog        <__main__.Dog object at 0x0000021952187E50>\n",
      "my_dog_b           Dog        <__main__.Dog object at 0x00000219527EB3D0>\n",
      "my_example_class   MyClass    <__main__.MyClass object at 0x0000021952C5CF70>\n",
      "yet_another        str        hello\n",
      "yet_another_b      str        hello\n"
     ]
    }
   ],
   "source": [
    "%whos"
   ]
  },
  {
   "cell_type": "code",
   "execution_count": 52,
   "id": "cba018f5",
   "metadata": {},
   "outputs": [],
   "source": [
    "my_brothers_other_dog = Pet(species='Dog', name='Rey', the_pets_age=4)"
   ]
  },
  {
   "cell_type": "code",
   "execution_count": 53,
   "id": "f9355759",
   "metadata": {},
   "outputs": [
    {
     "name": "stdout",
     "output_type": "stream",
     "text": [
      "<class '__main__.Pet'>\n"
     ]
    }
   ],
   "source": [
    "print( type(my_brothers_other_dog) )"
   ]
  },
  {
   "cell_type": "code",
   "execution_count": 54,
   "id": "2a5f1918",
   "metadata": {},
   "outputs": [
    {
     "data": {
      "text/plain": [
       "'Dog'"
      ]
     },
     "execution_count": 54,
     "metadata": {},
     "output_type": "execute_result"
    }
   ],
   "source": [
    "my_brothers_other_dog.species"
   ]
  },
  {
   "cell_type": "code",
   "execution_count": 55,
   "id": "0466e282",
   "metadata": {},
   "outputs": [
    {
     "data": {
      "text/plain": [
       "4"
      ]
     },
     "execution_count": 55,
     "metadata": {},
     "output_type": "execute_result"
    }
   ],
   "source": [
    "my_brothers_other_dog.age"
   ]
  },
  {
   "cell_type": "code",
   "execution_count": 56,
   "id": "8e8946d0",
   "metadata": {},
   "outputs": [],
   "source": [
    "amys_frog = Pet(\"Frog\", \"Wilma\", 21)"
   ]
  },
  {
   "cell_type": "code",
   "execution_count": 57,
   "id": "be05553c",
   "metadata": {},
   "outputs": [
    {
     "data": {
      "text/plain": [
       "21"
      ]
     },
     "execution_count": 57,
     "metadata": {},
     "output_type": "execute_result"
    }
   ],
   "source": [
    "amys_frog.age"
   ]
  },
  {
   "cell_type": "markdown",
   "id": "f4a364f2",
   "metadata": {},
   "source": [
    "Let's make a new class which includes a method that modifies the object in place."
   ]
  },
  {
   "cell_type": "markdown",
   "id": "5b2c8674",
   "metadata": {},
   "source": [
    "This new class will inherit all of the attributes of `Pet`."
   ]
  },
  {
   "cell_type": "code",
   "execution_count": 58,
   "id": "a8757675",
   "metadata": {},
   "outputs": [],
   "source": [
    "class a_pet(Pet):\n",
    "    def celebrate_birthday(self):\n",
    "        self.age += 1 #self.age = self.age + 1"
   ]
  },
  {
   "cell_type": "code",
   "execution_count": 59,
   "id": "dd9a15f4",
   "metadata": {},
   "outputs": [
    {
     "data": {
      "text/plain": [
       "<function __main__.Pet.__init__(self, species, name, the_pets_age)>"
      ]
     },
     "execution_count": 59,
     "metadata": {},
     "output_type": "execute_result"
    }
   ],
   "source": [
    "Pet.__init__"
   ]
  },
  {
   "cell_type": "code",
   "execution_count": 60,
   "id": "f5301992",
   "metadata": {},
   "outputs": [
    {
     "data": {
      "text/plain": [
       "<function __main__.Pet.__init__(self, species, name, the_pets_age)>"
      ]
     },
     "execution_count": 60,
     "metadata": {},
     "output_type": "execute_result"
    }
   ],
   "source": [
    "a_pet.__init__"
   ]
  },
  {
   "cell_type": "code",
   "execution_count": 61,
   "id": "63ba3e45",
   "metadata": {},
   "outputs": [],
   "source": [
    "geno = a_pet('Dog', name='Geno', the_pets_age=6)"
   ]
  },
  {
   "cell_type": "code",
   "execution_count": 62,
   "id": "ab157499",
   "metadata": {},
   "outputs": [
    {
     "data": {
      "text/plain": [
       "6"
      ]
     },
     "execution_count": 62,
     "metadata": {},
     "output_type": "execute_result"
    }
   ],
   "source": [
    "geno.age"
   ]
  },
  {
   "cell_type": "code",
   "execution_count": 63,
   "id": "88c4a085",
   "metadata": {},
   "outputs": [
    {
     "name": "stdout",
     "output_type": "stream",
     "text": [
      "Geno is 6 years old.\n"
     ]
    }
   ],
   "source": [
    "print( geno.name + ' is ' + str(geno.age) + ' years old.')"
   ]
  },
  {
   "cell_type": "code",
   "execution_count": 64,
   "id": "f2236001",
   "metadata": {},
   "outputs": [],
   "source": [
    "geno.celebrate_birthday()"
   ]
  },
  {
   "cell_type": "code",
   "execution_count": 65,
   "id": "655716b4",
   "metadata": {},
   "outputs": [
    {
     "name": "stdout",
     "output_type": "stream",
     "text": [
      "Geno is 7 years old.\n"
     ]
    }
   ],
   "source": [
    "print( geno.name + ' is ' + str(geno.age) + ' years old.')"
   ]
  },
  {
   "cell_type": "code",
   "execution_count": 66,
   "id": "6e7ea48f",
   "metadata": {},
   "outputs": [],
   "source": [
    "geno.age = 6"
   ]
  },
  {
   "cell_type": "code",
   "execution_count": 67,
   "id": "0d2e164f",
   "metadata": {},
   "outputs": [
    {
     "name": "stdout",
     "output_type": "stream",
     "text": [
      "Geno is 6 years old.\n"
     ]
    }
   ],
   "source": [
    "print( geno.name + ' is ' + str(geno.age) + ' years old.')"
   ]
  },
  {
   "cell_type": "code",
   "execution_count": 68,
   "id": "60ac1980",
   "metadata": {},
   "outputs": [],
   "source": [
    "geno.celebrate_birthday()"
   ]
  },
  {
   "cell_type": "code",
   "execution_count": 69,
   "id": "299fa9cc",
   "metadata": {},
   "outputs": [
    {
     "name": "stdout",
     "output_type": "stream",
     "text": [
      "Geno is 7 years old.\n"
     ]
    }
   ],
   "source": [
    "print( geno.name + ' is ' + str(geno.age) + ' years old.')"
   ]
  },
  {
   "cell_type": "code",
   "execution_count": 70,
   "id": "9081470c",
   "metadata": {},
   "outputs": [
    {
     "name": "stdout",
     "output_type": "stream",
     "text": [
      "Geno is 8 years old.\n",
      "Geno is 9 years old.\n",
      "Geno is 10 years old.\n",
      "Geno is 11 years old.\n"
     ]
    }
   ],
   "source": [
    "for n in range(4):\n",
    "    geno.celebrate_birthday()\n",
    "    print( geno.name + ' is ' + str(geno.age) + ' years old.')"
   ]
  },
  {
   "cell_type": "code",
   "execution_count": 71,
   "id": "2c91e333",
   "metadata": {},
   "outputs": [
    {
     "name": "stdout",
     "output_type": "stream",
     "text": [
      "Variable                Type       Data/Info\n",
      "--------------------------------------------\n",
      "Dog                     type       <class '__main__.Dog'>\n",
      "MyClass                 type       <class '__main__.MyClass'>\n",
      "Pet                     type       <class '__main__.Pet'>\n",
      "a                       int        1\n",
      "a_big                   int        257\n",
      "a_limit                 int        256\n",
      "a_pet                   type       <class '__main__.a_pet'>\n",
      "a_string                str        1\n",
      "amys_frog               Pet        <__main__.Pet object at 0x00000219529E3DF0>\n",
      "another_string          str        1 1 1\n",
      "b                       int        1\n",
      "b_big                   int        257\n",
      "b_limit                 int        256\n",
      "b_string                str        1\n",
      "bnother_string          str        1 1 1\n",
      "c                       float      1.0\n",
      "d                       float      1.0\n",
      "geno                    a_pet      <__main__.a_pet object at 0x00000219526530D0>\n",
      "my_brothers_dog         Dog        <__main__.Dog object at 0x00000219520C6D60>\n",
      "my_brothers_other_dog   Pet        <__main__.Pet object at 0x0000021952CFBBE0>\n",
      "my_dog                  Dog        <__main__.Dog object at 0x0000021952187E50>\n",
      "my_dog_b                Dog        <__main__.Dog object at 0x00000219527EB3D0>\n",
      "my_example_class        MyClass    <__main__.MyClass object at 0x0000021952C5CF70>\n",
      "n                       int        3\n",
      "yet_another             str        hello\n",
      "yet_another_b           str        hello\n"
     ]
    }
   ],
   "source": [
    "%whos"
   ]
  },
  {
   "cell_type": "code",
   "execution_count": null,
   "id": "51422a3e",
   "metadata": {},
   "outputs": [],
   "source": []
  }
 ],
 "metadata": {
  "kernelspec": {
   "display_name": "Python 3 (ipykernel)",
   "language": "python",
   "name": "python3"
  },
  "language_info": {
   "codemirror_mode": {
    "name": "ipython",
    "version": 3
   },
   "file_extension": ".py",
   "mimetype": "text/x-python",
   "name": "python",
   "nbconvert_exporter": "python",
   "pygments_lexer": "ipython3",
   "version": "3.8.11"
  }
 },
 "nbformat": 4,
 "nbformat_minor": 5
}
