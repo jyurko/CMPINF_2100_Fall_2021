{
 "cells": [
  {
   "cell_type": "markdown",
   "id": "5d321430",
   "metadata": {},
   "source": [
    "## CMPINF 2100 Fall 2021 - Week 03\n",
    "\n",
    "### Intro to NumPy"
   ]
  },
  {
   "cell_type": "code",
   "execution_count": 1,
   "id": "a03320c7",
   "metadata": {},
   "outputs": [],
   "source": [
    "import numpy as np"
   ]
  },
  {
   "cell_type": "markdown",
   "id": "b64538bc",
   "metadata": {},
   "source": [
    "## The NumPy ndarray\n",
    "\n",
    "### 1D array"
   ]
  },
  {
   "cell_type": "markdown",
   "id": "d08db4c6",
   "metadata": {},
   "source": [
    "Start with the `np.arange()` to create a 1D array."
   ]
  },
  {
   "cell_type": "code",
   "execution_count": 2,
   "id": "ab37d387",
   "metadata": {},
   "outputs": [
    {
     "name": "stdout",
     "output_type": "stream",
     "text": [
      "Variable   Type      Data/Info\n",
      "------------------------------\n",
      "np         module    <module 'numpy' from 'C:\\<...>ges\\\\numpy\\\\__init__.py'>\n"
     ]
    }
   ],
   "source": [
    "%whos"
   ]
  },
  {
   "cell_type": "code",
   "execution_count": 3,
   "id": "d4c449bc",
   "metadata": {},
   "outputs": [
    {
     "data": {
      "text/plain": [
       "array([0, 1, 2, 3, 4, 5])"
      ]
     },
     "execution_count": 3,
     "metadata": {},
     "output_type": "execute_result"
    }
   ],
   "source": [
    "np.arange(6)"
   ]
  },
  {
   "cell_type": "code",
   "execution_count": 4,
   "id": "5ddaf3cc",
   "metadata": {},
   "outputs": [
    {
     "data": {
      "text/plain": [
       "[0, 1, 2, 3, 4, 5]"
      ]
     },
     "execution_count": 4,
     "metadata": {},
     "output_type": "execute_result"
    }
   ],
   "source": [
    "list( range(6) )"
   ]
  },
  {
   "cell_type": "code",
   "execution_count": 5,
   "id": "58c08e5c",
   "metadata": {},
   "outputs": [
    {
     "data": {
      "text/plain": [
       "list"
      ]
     },
     "execution_count": 5,
     "metadata": {},
     "output_type": "execute_result"
    }
   ],
   "source": [
    "type( list(range(6) ) )"
   ]
  },
  {
   "cell_type": "code",
   "execution_count": 6,
   "id": "2311d75a",
   "metadata": {},
   "outputs": [],
   "source": [
    "a = np.arange(6)"
   ]
  },
  {
   "cell_type": "code",
   "execution_count": 7,
   "id": "6b523230",
   "metadata": {},
   "outputs": [
    {
     "name": "stdout",
     "output_type": "stream",
     "text": [
      "<class 'numpy.ndarray'>\n"
     ]
    }
   ],
   "source": [
    "print( type(a) )"
   ]
  },
  {
   "cell_type": "code",
   "execution_count": 8,
   "id": "72777b1b",
   "metadata": {},
   "outputs": [
    {
     "data": {
      "text/plain": [
       "[1, 1.0, '1.0', [1.0, '1']]"
      ]
     },
     "execution_count": 8,
     "metadata": {},
     "output_type": "execute_result"
    }
   ],
   "source": [
    "[1, 1.0, '1.0', [1., '1']]"
   ]
  },
  {
   "cell_type": "markdown",
   "id": "12d2c936",
   "metadata": {},
   "source": [
    "We can index and slice an array just like a list."
   ]
  },
  {
   "cell_type": "code",
   "execution_count": 9,
   "id": "dbd02270",
   "metadata": {},
   "outputs": [
    {
     "name": "stdout",
     "output_type": "stream",
     "text": [
      "0\n"
     ]
    }
   ],
   "source": [
    "print( a[0] )"
   ]
  },
  {
   "cell_type": "code",
   "execution_count": 10,
   "id": "a7882b77",
   "metadata": {},
   "outputs": [
    {
     "name": "stdout",
     "output_type": "stream",
     "text": [
      "1\n"
     ]
    }
   ],
   "source": [
    "print( a[1] )"
   ]
  },
  {
   "cell_type": "code",
   "execution_count": 11,
   "id": "0eb2afa5",
   "metadata": {},
   "outputs": [
    {
     "data": {
      "text/plain": [
       "numpy.int32"
      ]
     },
     "execution_count": 11,
     "metadata": {},
     "output_type": "execute_result"
    }
   ],
   "source": [
    "type( a[0] )"
   ]
  },
  {
   "cell_type": "code",
   "execution_count": 12,
   "id": "34fea97f",
   "metadata": {},
   "outputs": [
    {
     "name": "stdout",
     "output_type": "stream",
     "text": [
      "<class 'numpy.int32'>\n"
     ]
    }
   ],
   "source": [
    "print( type(a[1]) )"
   ]
  },
  {
   "cell_type": "code",
   "execution_count": 13,
   "id": "512b86bd",
   "metadata": {},
   "outputs": [
    {
     "name": "stdout",
     "output_type": "stream",
     "text": [
      "[0 1]\n"
     ]
    }
   ],
   "source": [
    "print( a[0:2] )"
   ]
  },
  {
   "cell_type": "code",
   "execution_count": 14,
   "id": "517abc98",
   "metadata": {},
   "outputs": [
    {
     "name": "stdout",
     "output_type": "stream",
     "text": [
      "[0 1 2]\n"
     ]
    }
   ],
   "source": [
    "print( a[:3] )"
   ]
  },
  {
   "cell_type": "markdown",
   "id": "0f3875cd",
   "metadata": {},
   "source": [
    "The array has its own set of attributes and methods completely different from the list."
   ]
  },
  {
   "cell_type": "markdown",
   "id": "ca7b5520",
   "metadata": {},
   "source": [
    "Basic attributes help us understand the **dimensionality** of the object."
   ]
  },
  {
   "cell_type": "code",
   "execution_count": 15,
   "id": "0eeb5e93",
   "metadata": {},
   "outputs": [
    {
     "data": {
      "text/plain": [
       "1"
      ]
     },
     "execution_count": 15,
     "metadata": {},
     "output_type": "execute_result"
    }
   ],
   "source": [
    "a.ndim # number of dimensions"
   ]
  },
  {
   "cell_type": "code",
   "execution_count": 16,
   "id": "a0fb2c38",
   "metadata": {},
   "outputs": [
    {
     "data": {
      "text/plain": [
       "(6,)"
      ]
     },
     "execution_count": 16,
     "metadata": {},
     "output_type": "execute_result"
    }
   ],
   "source": [
    "a.shape # number of elements in each dimension"
   ]
  },
  {
   "cell_type": "code",
   "execution_count": 17,
   "id": "f29d3827",
   "metadata": {},
   "outputs": [
    {
     "data": {
      "text/plain": [
       "6"
      ]
     },
     "execution_count": 17,
     "metadata": {},
     "output_type": "execute_result"
    }
   ],
   "source": [
    "a.size # the total number of elements in the object"
   ]
  },
  {
   "cell_type": "markdown",
   "id": "a55af8db",
   "metadata": {},
   "source": [
    "### Other ways to create 1D arrays"
   ]
  },
  {
   "cell_type": "markdown",
   "id": "84fb77a4",
   "metadata": {},
   "source": [
    "Convert a list into an array."
   ]
  },
  {
   "cell_type": "code",
   "execution_count": 18,
   "id": "de0b8618",
   "metadata": {},
   "outputs": [],
   "source": [
    "a1 = np.array([1, 2, 3, 4, 5])"
   ]
  },
  {
   "cell_type": "code",
   "execution_count": 19,
   "id": "bd511613",
   "metadata": {},
   "outputs": [
    {
     "data": {
      "text/plain": [
       "list"
      ]
     },
     "execution_count": 19,
     "metadata": {},
     "output_type": "execute_result"
    }
   ],
   "source": [
    "type([1, 2, 3, 4, 5])"
   ]
  },
  {
   "cell_type": "code",
   "execution_count": 20,
   "id": "8a4b04c5",
   "metadata": {},
   "outputs": [
    {
     "data": {
      "text/plain": [
       "numpy.ndarray"
      ]
     },
     "execution_count": 20,
     "metadata": {},
     "output_type": "execute_result"
    }
   ],
   "source": [
    "type(a1)"
   ]
  },
  {
   "cell_type": "code",
   "execution_count": 21,
   "id": "be7ac4c3",
   "metadata": {},
   "outputs": [
    {
     "name": "stdout",
     "output_type": "stream",
     "text": [
      "5\n"
     ]
    }
   ],
   "source": [
    "print( a1.size )"
   ]
  },
  {
   "cell_type": "code",
   "execution_count": 22,
   "id": "c45b9b13",
   "metadata": {},
   "outputs": [
    {
     "name": "stdout",
     "output_type": "stream",
     "text": [
      "(5,)\n"
     ]
    }
   ],
   "source": [
    "print( a1.shape )"
   ]
  },
  {
   "cell_type": "markdown",
   "id": "84f1de84",
   "metadata": {},
   "source": [
    "Convert a tuple into an array."
   ]
  },
  {
   "cell_type": "code",
   "execution_count": 23,
   "id": "cae58f66",
   "metadata": {},
   "outputs": [],
   "source": [
    "a2 = np.array((1, 2, 3, 4, 5))"
   ]
  },
  {
   "cell_type": "code",
   "execution_count": 24,
   "id": "54011724",
   "metadata": {},
   "outputs": [
    {
     "data": {
      "text/plain": [
       "numpy.ndarray"
      ]
     },
     "execution_count": 24,
     "metadata": {},
     "output_type": "execute_result"
    }
   ],
   "source": [
    "type(a2)"
   ]
  },
  {
   "cell_type": "code",
   "execution_count": 25,
   "id": "59aadbff",
   "metadata": {},
   "outputs": [
    {
     "name": "stdout",
     "output_type": "stream",
     "text": [
      "Variable   Type       Data/Info\n",
      "-------------------------------\n",
      "a          ndarray    6: 6 elems, type `int32`, 24 bytes\n",
      "a1         ndarray    5: 5 elems, type `int32`, 20 bytes\n",
      "a2         ndarray    5: 5 elems, type `int32`, 20 bytes\n",
      "np         module     <module 'numpy' from 'C:\\<...>ges\\\\numpy\\\\__init__.py'>\n"
     ]
    }
   ],
   "source": [
    "%whos"
   ]
  },
  {
   "cell_type": "markdown",
   "id": "c74e6d3c",
   "metadata": {},
   "source": [
    "There are specialty methods to create arrays of zeros and ones."
   ]
  },
  {
   "cell_type": "code",
   "execution_count": 26,
   "id": "cbd6bd2c",
   "metadata": {},
   "outputs": [
    {
     "data": {
      "text/plain": [
       "array([0., 0., 0., 0., 0.])"
      ]
     },
     "execution_count": 26,
     "metadata": {},
     "output_type": "execute_result"
    }
   ],
   "source": [
    "np.zeros(5)"
   ]
  },
  {
   "cell_type": "code",
   "execution_count": 27,
   "id": "10e377c6",
   "metadata": {},
   "outputs": [
    {
     "data": {
      "text/plain": [
       "array([1., 1., 1., 1., 1.])"
      ]
     },
     "execution_count": 27,
     "metadata": {},
     "output_type": "execute_result"
    }
   ],
   "source": [
    "np.ones(5)"
   ]
  },
  {
   "cell_type": "code",
   "execution_count": 28,
   "id": "27f5417c",
   "metadata": {},
   "outputs": [
    {
     "data": {
      "text/plain": [
       "array([0, 0, 0, 0, 0])"
      ]
     },
     "execution_count": 28,
     "metadata": {},
     "output_type": "execute_result"
    }
   ],
   "source": [
    "0 * np.array([1, 2, 3, 4, 5])"
   ]
  },
  {
   "cell_type": "markdown",
   "id": "fa9ede7d",
   "metadata": {},
   "source": [
    "Operators that we have used before may not operate in the same way."
   ]
  },
  {
   "cell_type": "code",
   "execution_count": 29,
   "id": "13b8cfd7",
   "metadata": {},
   "outputs": [
    {
     "data": {
      "text/plain": [
       "True"
      ]
     },
     "execution_count": 29,
     "metadata": {},
     "output_type": "execute_result"
    }
   ],
   "source": [
    "[1, 2, 3, 4] == [1, 2, 3, 4]"
   ]
  },
  {
   "cell_type": "code",
   "execution_count": 30,
   "id": "164240bb",
   "metadata": {},
   "outputs": [
    {
     "data": {
      "text/plain": [
       "array([ True,  True,  True,  True,  True])"
      ]
     },
     "execution_count": 30,
     "metadata": {},
     "output_type": "execute_result"
    }
   ],
   "source": [
    "np.zeros(5) == 0 * np.array([1, 2, 3, 4, 5])"
   ]
  },
  {
   "cell_type": "code",
   "execution_count": 31,
   "id": "3f045a41",
   "metadata": {},
   "outputs": [
    {
     "name": "stderr",
     "output_type": "stream",
     "text": [
      "C:\\Users\\jyurk\\AppData\\Local\\Temp/ipykernel_5820/3525124894.py:1: DeprecationWarning: elementwise comparison failed; this will raise an error in the future.\n",
      "  np.zeros(3) == 0 * np.array([1, 2, 3, 4, 5])\n"
     ]
    },
    {
     "data": {
      "text/plain": [
       "False"
      ]
     },
     "execution_count": 31,
     "metadata": {},
     "output_type": "execute_result"
    }
   ],
   "source": [
    "np.zeros(3) == 0 * np.array([1, 2, 3, 4, 5])"
   ]
  },
  {
   "cell_type": "code",
   "execution_count": 32,
   "id": "90822cbe",
   "metadata": {},
   "outputs": [
    {
     "data": {
      "text/plain": [
       "array([False,  True,  True,  True,  True])"
      ]
     },
     "execution_count": 32,
     "metadata": {},
     "output_type": "execute_result"
    }
   ],
   "source": [
    "np.array([0, 2, 3, 4, 5]) == np.array([1, 2, 3, 4, 5])"
   ]
  },
  {
   "cell_type": "markdown",
   "id": "897ddaca",
   "metadata": {},
   "source": [
    "The `np.arange()` function has 3 main arguments. Start, Stop, and a step.\n",
    "\n",
    "The STOP is EXCLUSIVE. `np.arange()` generates an array from START to STOP-1"
   ]
  },
  {
   "cell_type": "code",
   "execution_count": 33,
   "id": "ae4370aa",
   "metadata": {},
   "outputs": [
    {
     "data": {
      "text/plain": [
       "array([ 1,  2,  3,  4,  5,  6,  7,  8,  9, 10, 11])"
      ]
     },
     "execution_count": 33,
     "metadata": {},
     "output_type": "execute_result"
    }
   ],
   "source": [
    "np.arange(1, 12)"
   ]
  },
  {
   "cell_type": "code",
   "execution_count": 34,
   "id": "32266297",
   "metadata": {},
   "outputs": [
    {
     "data": {
      "text/plain": [
       "array([ 1,  4,  7, 10])"
      ]
     },
     "execution_count": 34,
     "metadata": {},
     "output_type": "execute_result"
    }
   ],
   "source": [
    "np.arange(1, 12, 3)"
   ]
  },
  {
   "cell_type": "code",
   "execution_count": 35,
   "id": "85bdd86e",
   "metadata": {},
   "outputs": [
    {
     "data": {
      "text/plain": [
       "array([ 1, 21, 41, 61, 81])"
      ]
     },
     "execution_count": 35,
     "metadata": {},
     "output_type": "execute_result"
    }
   ],
   "source": [
    "np.arange(1, 100, 20)"
   ]
  },
  {
   "cell_type": "code",
   "execution_count": 36,
   "id": "ab091d22",
   "metadata": {},
   "outputs": [
    {
     "data": {
      "text/plain": [
       "array([ 0, 20, 40, 60, 80])"
      ]
     },
     "execution_count": 36,
     "metadata": {},
     "output_type": "execute_result"
    }
   ],
   "source": [
    "np.arange(0, 100, 20)"
   ]
  },
  {
   "cell_type": "code",
   "execution_count": 37,
   "id": "3a39d0eb",
   "metadata": {},
   "outputs": [
    {
     "data": {
      "text/plain": [
       "array([  0,  20,  40,  60,  80, 100])"
      ]
     },
     "execution_count": 37,
     "metadata": {},
     "output_type": "execute_result"
    }
   ],
   "source": [
    "np.arange(0, 101, 20)"
   ]
  },
  {
   "cell_type": "markdown",
   "id": "b0c5b87f",
   "metadata": {},
   "source": [
    "The `np.linspace()` function creates an array from START to STOP (inclusive) for a specified uniform number of points."
   ]
  },
  {
   "cell_type": "code",
   "execution_count": 40,
   "id": "5a5ade21",
   "metadata": {},
   "outputs": [
    {
     "data": {
      "text/plain": [
       "array([ 0. ,  2.5,  5. ,  7.5, 10. ])"
      ]
     },
     "execution_count": 40,
     "metadata": {},
     "output_type": "execute_result"
    }
   ],
   "source": [
    "np.linspace(0, 10, num=5)"
   ]
  },
  {
   "cell_type": "code",
   "execution_count": 41,
   "id": "fcfa5501",
   "metadata": {},
   "outputs": [
    {
     "data": {
      "text/plain": [
       "array([ 0.        ,  1.11111111,  2.22222222,  3.33333333,  4.44444444,\n",
       "        5.55555556,  6.66666667,  7.77777778,  8.88888889, 10.        ])"
      ]
     },
     "execution_count": 41,
     "metadata": {},
     "output_type": "execute_result"
    }
   ],
   "source": [
    "np.linspace(0, 10, num=10)"
   ]
  },
  {
   "cell_type": "code",
   "execution_count": 42,
   "id": "663e46aa",
   "metadata": {},
   "outputs": [
    {
     "data": {
      "text/plain": [
       "array([ 0.,  1.,  2.,  3.,  4.,  5.,  6.,  7.,  8.,  9., 10.])"
      ]
     },
     "execution_count": 42,
     "metadata": {},
     "output_type": "execute_result"
    }
   ],
   "source": [
    "np.linspace(0, 10, num=11)"
   ]
  },
  {
   "cell_type": "markdown",
   "id": "f45227a2",
   "metadata": {},
   "source": [
    "## MultiDimensional Array\n",
    "\n",
    "### 2D array -- MATRIX\n",
    "\n",
    "Let's start with a list of lists."
   ]
  },
  {
   "cell_type": "code",
   "execution_count": 43,
   "id": "18449ff9",
   "metadata": {},
   "outputs": [
    {
     "data": {
      "text/plain": [
       "[[0, 0, 0], [1, 1, 1]]"
      ]
     },
     "execution_count": 43,
     "metadata": {},
     "output_type": "execute_result"
    }
   ],
   "source": [
    "[[0, 0, 0], [1, 1, 1]]"
   ]
  },
  {
   "cell_type": "code",
   "execution_count": 44,
   "id": "2e6978ca",
   "metadata": {},
   "outputs": [
    {
     "data": {
      "text/plain": [
       "[[0, 0, 0], [1, 1, 1]]"
      ]
     },
     "execution_count": 44,
     "metadata": {},
     "output_type": "execute_result"
    }
   ],
   "source": [
    "[[0, 0, 0], \n",
    " [1, 1, 1]]"
   ]
  },
  {
   "cell_type": "code",
   "execution_count": 45,
   "id": "e62490b3",
   "metadata": {},
   "outputs": [],
   "source": [
    "my_list_of_lists = [ [0, 0, 0], \n",
    "                     [1, 1, 1] ]"
   ]
  },
  {
   "cell_type": "code",
   "execution_count": 46,
   "id": "ccc4a9cf",
   "metadata": {},
   "outputs": [
    {
     "name": "stdout",
     "output_type": "stream",
     "text": [
      "[[0, 0, 0], [1, 1, 1]]\n"
     ]
    }
   ],
   "source": [
    "print( my_list_of_lists )"
   ]
  },
  {
   "cell_type": "markdown",
   "id": "8f7d25f0",
   "metadata": {},
   "source": [
    "Convert the list of lists into an array."
   ]
  },
  {
   "cell_type": "code",
   "execution_count": 47,
   "id": "49ebfbc9",
   "metadata": {},
   "outputs": [],
   "source": [
    "my_array = np.array( my_list_of_lists )"
   ]
  },
  {
   "cell_type": "code",
   "execution_count": 48,
   "id": "94001f2f",
   "metadata": {},
   "outputs": [
    {
     "name": "stdout",
     "output_type": "stream",
     "text": [
      "[[0 0 0]\n",
      " [1 1 1]]\n"
     ]
    }
   ],
   "source": [
    "print(my_array)"
   ]
  },
  {
   "cell_type": "code",
   "execution_count": 49,
   "id": "8c6cbb5e",
   "metadata": {},
   "outputs": [
    {
     "data": {
      "text/plain": [
       "(2, 3)"
      ]
     },
     "execution_count": 49,
     "metadata": {},
     "output_type": "execute_result"
    }
   ],
   "source": [
    "my_array.shape"
   ]
  },
  {
   "cell_type": "code",
   "execution_count": 50,
   "id": "a41263d0",
   "metadata": {},
   "outputs": [
    {
     "data": {
      "text/plain": [
       "2"
      ]
     },
     "execution_count": 50,
     "metadata": {},
     "output_type": "execute_result"
    }
   ],
   "source": [
    "my_array.ndim"
   ]
  },
  {
   "cell_type": "code",
   "execution_count": 51,
   "id": "d782a798",
   "metadata": {},
   "outputs": [
    {
     "name": "stderr",
     "output_type": "stream",
     "text": [
      "C:\\Users\\jyurk\\AppData\\Local\\Temp/ipykernel_5820/317257591.py:1: VisibleDeprecationWarning: Creating an ndarray from ragged nested sequences (which is a list-or-tuple of lists-or-tuples-or ndarrays with different lengths or shapes) is deprecated. If you meant to do this, you must specify 'dtype=object' when creating the ndarray.\n",
      "  np.array( [ [1, 1, 1], [2, 2, 2, 2, 2, 2]] )\n"
     ]
    },
    {
     "data": {
      "text/plain": [
       "array([list([1, 1, 1]), list([2, 2, 2, 2, 2, 2])], dtype=object)"
      ]
     },
     "execution_count": 51,
     "metadata": {},
     "output_type": "execute_result"
    }
   ],
   "source": [
    "np.array( [ [1, 1, 1], [2, 2, 2, 2, 2, 2]] )"
   ]
  },
  {
   "cell_type": "code",
   "execution_count": 52,
   "id": "d81e5176",
   "metadata": {},
   "outputs": [
    {
     "data": {
      "text/plain": [
       "6"
      ]
     },
     "execution_count": 52,
     "metadata": {},
     "output_type": "execute_result"
    }
   ],
   "source": [
    "my_array.size"
   ]
  },
  {
   "cell_type": "code",
   "execution_count": 53,
   "id": "5648f926",
   "metadata": {},
   "outputs": [
    {
     "data": {
      "text/plain": [
       "2"
      ]
     },
     "execution_count": 53,
     "metadata": {},
     "output_type": "execute_result"
    }
   ],
   "source": [
    "my_array.shape[0]"
   ]
  },
  {
   "cell_type": "code",
   "execution_count": 54,
   "id": "223f5522",
   "metadata": {},
   "outputs": [
    {
     "data": {
      "text/plain": [
       "6"
      ]
     },
     "execution_count": 54,
     "metadata": {},
     "output_type": "execute_result"
    }
   ],
   "source": [
    "my_array.shape[0] * my_array.shape[1]"
   ]
  },
  {
   "cell_type": "code",
   "execution_count": 55,
   "id": "da466856",
   "metadata": {},
   "outputs": [
    {
     "data": {
      "text/plain": [
       "tuple"
      ]
     },
     "execution_count": 55,
     "metadata": {},
     "output_type": "execute_result"
    }
   ],
   "source": [
    "type( my_array.shape )"
   ]
  },
  {
   "cell_type": "markdown",
   "id": "357aa9eb",
   "metadata": {},
   "source": [
    "### Slicing 2D arrays"
   ]
  },
  {
   "cell_type": "code",
   "execution_count": 56,
   "id": "7db1520f",
   "metadata": {},
   "outputs": [
    {
     "data": {
      "text/plain": [
       "array([0, 1, 2])"
      ]
     },
     "execution_count": 56,
     "metadata": {},
     "output_type": "execute_result"
    }
   ],
   "source": [
    "a[ :3 ]"
   ]
  },
  {
   "cell_type": "code",
   "execution_count": 57,
   "id": "b4833e0e",
   "metadata": {},
   "outputs": [
    {
     "data": {
      "text/plain": [
       "array([0, 1, 2, 3, 4, 5])"
      ]
     },
     "execution_count": 57,
     "metadata": {},
     "output_type": "execute_result"
    }
   ],
   "source": [
    "a"
   ]
  },
  {
   "cell_type": "code",
   "execution_count": 58,
   "id": "df5a349f",
   "metadata": {},
   "outputs": [
    {
     "data": {
      "text/plain": [
       "3"
      ]
     },
     "execution_count": 58,
     "metadata": {},
     "output_type": "execute_result"
    }
   ],
   "source": [
    "a[ 3 ]"
   ]
  },
  {
   "cell_type": "code",
   "execution_count": 59,
   "id": "602f2887",
   "metadata": {},
   "outputs": [
    {
     "data": {
      "text/plain": [
       "0"
      ]
     },
     "execution_count": 59,
     "metadata": {},
     "output_type": "execute_result"
    }
   ],
   "source": [
    "a[ 0 ]"
   ]
  },
  {
   "cell_type": "code",
   "execution_count": 60,
   "id": "6adea7e6",
   "metadata": {},
   "outputs": [
    {
     "data": {
      "text/plain": [
       "array([0, 0, 0])"
      ]
     },
     "execution_count": 60,
     "metadata": {},
     "output_type": "execute_result"
    }
   ],
   "source": [
    "my_array[ 0 ]"
   ]
  },
  {
   "cell_type": "code",
   "execution_count": 61,
   "id": "c23a4fe0",
   "metadata": {},
   "outputs": [
    {
     "data": {
      "text/plain": [
       "array([1, 1, 1])"
      ]
     },
     "execution_count": 61,
     "metadata": {},
     "output_type": "execute_result"
    }
   ],
   "source": [
    "my_array[1]"
   ]
  },
  {
   "cell_type": "markdown",
   "id": "9245acb1",
   "metadata": {},
   "source": [
    "This is a shortcut for specifying a single row but ALL columns."
   ]
  },
  {
   "cell_type": "code",
   "execution_count": 62,
   "id": "18580738",
   "metadata": {},
   "outputs": [
    {
     "data": {
      "text/plain": [
       "array([0, 0, 0])"
      ]
     },
     "execution_count": 62,
     "metadata": {},
     "output_type": "execute_result"
    }
   ],
   "source": [
    "my_array[0, :]"
   ]
  },
  {
   "cell_type": "code",
   "execution_count": 63,
   "id": "5bcde35e",
   "metadata": {},
   "outputs": [
    {
     "data": {
      "text/plain": [
       "array([0, 0, 0])"
      ]
     },
     "execution_count": 63,
     "metadata": {},
     "output_type": "execute_result"
    }
   ],
   "source": [
    "my_array[0 ]"
   ]
  },
  {
   "cell_type": "code",
   "execution_count": 64,
   "id": "cc20352f",
   "metadata": {},
   "outputs": [
    {
     "data": {
      "text/plain": [
       "array([0, 1])"
      ]
     },
     "execution_count": 64,
     "metadata": {},
     "output_type": "execute_result"
    }
   ],
   "source": [
    "my_array[:, 0]"
   ]
  },
  {
   "cell_type": "code",
   "execution_count": 65,
   "id": "6e262faa",
   "metadata": {},
   "outputs": [
    {
     "data": {
      "text/plain": [
       "array([[0, 0, 0],\n",
       "       [1, 1, 1]])"
      ]
     },
     "execution_count": 65,
     "metadata": {},
     "output_type": "execute_result"
    }
   ],
   "source": [
    "my_array"
   ]
  },
  {
   "cell_type": "code",
   "execution_count": 66,
   "id": "f0367c4e",
   "metadata": {},
   "outputs": [
    {
     "ename": "IndexError",
     "evalue": "index 2 is out of bounds for axis 0 with size 2",
     "output_type": "error",
     "traceback": [
      "\u001b[1;31m---------------------------------------------------------------------------\u001b[0m",
      "\u001b[1;31mIndexError\u001b[0m                                Traceback (most recent call last)",
      "\u001b[1;32m~\\AppData\\Local\\Temp/ipykernel_5820/324691130.py\u001b[0m in \u001b[0;36m<module>\u001b[1;34m\u001b[0m\n\u001b[1;32m----> 1\u001b[1;33m \u001b[0mmy_array\u001b[0m\u001b[1;33m[\u001b[0m\u001b[1;36m2\u001b[0m\u001b[1;33m]\u001b[0m\u001b[1;33m\u001b[0m\u001b[1;33m\u001b[0m\u001b[0m\n\u001b[0m",
      "\u001b[1;31mIndexError\u001b[0m: index 2 is out of bounds for axis 0 with size 2"
     ]
    }
   ],
   "source": [
    "my_array[2] ### this is NOT the 2nd column"
   ]
  },
  {
   "cell_type": "code",
   "execution_count": 67,
   "id": "c6d1d3d1",
   "metadata": {},
   "outputs": [
    {
     "data": {
      "text/plain": [
       "array([0, 1])"
      ]
     },
     "execution_count": 67,
     "metadata": {},
     "output_type": "execute_result"
    }
   ],
   "source": [
    "my_array[:, 2]"
   ]
  },
  {
   "cell_type": "markdown",
   "id": "90dd7cad",
   "metadata": {},
   "source": [
    "If we want a single element - a row, column position - we need two indexes."
   ]
  },
  {
   "cell_type": "code",
   "execution_count": 68,
   "id": "930047dc",
   "metadata": {},
   "outputs": [
    {
     "data": {
      "text/plain": [
       "0"
      ]
     },
     "execution_count": 68,
     "metadata": {},
     "output_type": "execute_result"
    }
   ],
   "source": [
    "my_array[0, 0]"
   ]
  },
  {
   "cell_type": "code",
   "execution_count": 69,
   "id": "61b55ca6",
   "metadata": {},
   "outputs": [
    {
     "data": {
      "text/plain": [
       "0"
      ]
     },
     "execution_count": 69,
     "metadata": {},
     "output_type": "execute_result"
    }
   ],
   "source": [
    "my_array[0, 1]"
   ]
  },
  {
   "cell_type": "code",
   "execution_count": 70,
   "id": "83067234",
   "metadata": {},
   "outputs": [
    {
     "data": {
      "text/plain": [
       "0"
      ]
     },
     "execution_count": 70,
     "metadata": {},
     "output_type": "execute_result"
    }
   ],
   "source": [
    "my_array[0, 2]"
   ]
  },
  {
   "cell_type": "markdown",
   "id": "23056d42",
   "metadata": {},
   "source": [
    "Conditionally subset - filter by a value."
   ]
  },
  {
   "cell_type": "code",
   "execution_count": 71,
   "id": "14b78504",
   "metadata": {},
   "outputs": [
    {
     "data": {
      "text/plain": [
       "array([0, 1, 2, 3, 4, 5])"
      ]
     },
     "execution_count": 71,
     "metadata": {},
     "output_type": "execute_result"
    }
   ],
   "source": [
    "a"
   ]
  },
  {
   "cell_type": "code",
   "execution_count": 72,
   "id": "c690f480",
   "metadata": {},
   "outputs": [
    {
     "data": {
      "text/plain": [
       "array([0, 1, 2])"
      ]
     },
     "execution_count": 72,
     "metadata": {},
     "output_type": "execute_result"
    }
   ],
   "source": [
    "a[ a<= 2]"
   ]
  },
  {
   "cell_type": "code",
   "execution_count": 73,
   "id": "92653fc8",
   "metadata": {},
   "outputs": [
    {
     "data": {
      "text/plain": [
       "array([ True,  True,  True, False, False, False])"
      ]
     },
     "execution_count": 73,
     "metadata": {},
     "output_type": "execute_result"
    }
   ],
   "source": [
    "a <= 2"
   ]
  },
  {
   "cell_type": "code",
   "execution_count": 74,
   "id": "e640c938",
   "metadata": {},
   "outputs": [
    {
     "data": {
      "text/plain": [
       "array([0, 1, 2])"
      ]
     },
     "execution_count": 74,
     "metadata": {},
     "output_type": "execute_result"
    }
   ],
   "source": [
    "a_mask = a <= 2\n",
    "\n",
    "a[ a_mask ]"
   ]
  },
  {
   "cell_type": "code",
   "execution_count": 75,
   "id": "02a82657",
   "metadata": {},
   "outputs": [
    {
     "data": {
      "text/plain": [
       "array([[0, 0, 0]])"
      ]
     },
     "execution_count": 75,
     "metadata": {},
     "output_type": "execute_result"
    }
   ],
   "source": [
    "my_array[ my_array[:, 0] < 1, : ]"
   ]
  },
  {
   "cell_type": "code",
   "execution_count": 76,
   "id": "12b7ca64",
   "metadata": {},
   "outputs": [
    {
     "data": {
      "text/plain": [
       "array([0, 0, 0])"
      ]
     },
     "execution_count": 76,
     "metadata": {},
     "output_type": "execute_result"
    }
   ],
   "source": [
    "my_array[0]"
   ]
  },
  {
   "cell_type": "code",
   "execution_count": 77,
   "id": "9a254453",
   "metadata": {},
   "outputs": [
    {
     "data": {
      "text/plain": [
       "array([0, 1])"
      ]
     },
     "execution_count": 77,
     "metadata": {},
     "output_type": "execute_result"
    }
   ],
   "source": [
    "my_array[:, 0]"
   ]
  },
  {
   "cell_type": "code",
   "execution_count": 78,
   "id": "7674b4ac",
   "metadata": {},
   "outputs": [
    {
     "data": {
      "text/plain": [
       "array([ True, False])"
      ]
     },
     "execution_count": 78,
     "metadata": {},
     "output_type": "execute_result"
    }
   ],
   "source": [
    "my_array[:, 0] < 1"
   ]
  },
  {
   "cell_type": "markdown",
   "id": "158bd09a",
   "metadata": {},
   "source": [
    "Let's make another array but with 3 rows."
   ]
  },
  {
   "cell_type": "code",
   "execution_count": 79,
   "id": "ed174ede",
   "metadata": {},
   "outputs": [],
   "source": [
    "my_array_1 = np.array( [ [0, 0, 0], [1, 1, 1], [2, 2, 2] ] )"
   ]
  },
  {
   "cell_type": "code",
   "execution_count": 80,
   "id": "1bd12e6c",
   "metadata": {},
   "outputs": [
    {
     "name": "stdout",
     "output_type": "stream",
     "text": [
      "[[0 0 0]\n",
      " [1 1 1]\n",
      " [2 2 2]]\n"
     ]
    }
   ],
   "source": [
    "print( my_array_1 )"
   ]
  },
  {
   "cell_type": "code",
   "execution_count": 81,
   "id": "24407229",
   "metadata": {},
   "outputs": [
    {
     "data": {
      "text/plain": [
       "0"
      ]
     },
     "execution_count": 81,
     "metadata": {},
     "output_type": "execute_result"
    }
   ],
   "source": [
    "my_array_1[0, 0]"
   ]
  },
  {
   "cell_type": "code",
   "execution_count": 82,
   "id": "ab958d18",
   "metadata": {},
   "outputs": [
    {
     "data": {
      "text/plain": [
       "0"
      ]
     },
     "execution_count": 82,
     "metadata": {},
     "output_type": "execute_result"
    }
   ],
   "source": [
    "my_array_1[0, 1]"
   ]
  },
  {
   "cell_type": "code",
   "execution_count": 83,
   "id": "d497346d",
   "metadata": {},
   "outputs": [
    {
     "data": {
      "text/plain": [
       "1"
      ]
     },
     "execution_count": 83,
     "metadata": {},
     "output_type": "execute_result"
    }
   ],
   "source": [
    "my_array_1[1, 0]"
   ]
  },
  {
   "cell_type": "markdown",
   "id": "2cb0d1df",
   "metadata": {},
   "source": [
    "Slice or subset a smaller array from the larger array."
   ]
  },
  {
   "cell_type": "code",
   "execution_count": 84,
   "id": "d9034d4f",
   "metadata": {},
   "outputs": [],
   "source": [
    "small_array = my_array_1[:, :2]"
   ]
  },
  {
   "cell_type": "code",
   "execution_count": 85,
   "id": "df338c94",
   "metadata": {},
   "outputs": [
    {
     "data": {
      "text/plain": [
       "array([[0, 0],\n",
       "       [1, 1],\n",
       "       [2, 2]])"
      ]
     },
     "execution_count": 85,
     "metadata": {},
     "output_type": "execute_result"
    }
   ],
   "source": [
    "small_array"
   ]
  },
  {
   "cell_type": "code",
   "execution_count": 86,
   "id": "dd2a6900",
   "metadata": {},
   "outputs": [
    {
     "name": "stdout",
     "output_type": "stream",
     "text": [
      "[[0 0]\n",
      " [1 1]\n",
      " [2 2]]\n"
     ]
    }
   ],
   "source": [
    "print( small_array )"
   ]
  },
  {
   "cell_type": "markdown",
   "id": "96e68e1a",
   "metadata": {},
   "source": [
    "Arrays are mutable."
   ]
  },
  {
   "cell_type": "code",
   "execution_count": 87,
   "id": "605be196",
   "metadata": {},
   "outputs": [],
   "source": [
    "small_array[0, 0] = 101\n",
    "\n",
    "small_array[2, 1] = -101"
   ]
  },
  {
   "cell_type": "code",
   "execution_count": 88,
   "id": "091f26b7",
   "metadata": {},
   "outputs": [
    {
     "name": "stdout",
     "output_type": "stream",
     "text": [
      "[[ 101    0]\n",
      " [   1    1]\n",
      " [   2 -101]]\n"
     ]
    }
   ],
   "source": [
    "print( small_array )"
   ]
  },
  {
   "cell_type": "markdown",
   "id": "3730ee69",
   "metadata": {},
   "source": [
    "Let's check the original larger array..."
   ]
  },
  {
   "cell_type": "code",
   "execution_count": 89,
   "id": "6a871971",
   "metadata": {},
   "outputs": [
    {
     "data": {
      "text/plain": [
       "array([[ 101,    0,    0],\n",
       "       [   1,    1,    1],\n",
       "       [   2, -101,    2]])"
      ]
     },
     "execution_count": 89,
     "metadata": {},
     "output_type": "execute_result"
    }
   ],
   "source": [
    "my_array_1"
   ]
  },
  {
   "cell_type": "markdown",
   "id": "b64ad2f8",
   "metadata": {},
   "source": [
    "I prefer to make a hard or DEEP copy when I subset."
   ]
  },
  {
   "cell_type": "code",
   "execution_count": 90,
   "id": "81b2bdbc",
   "metadata": {},
   "outputs": [],
   "source": [
    "copy_array = my_array_1[:, :2].copy()"
   ]
  },
  {
   "cell_type": "code",
   "execution_count": 91,
   "id": "08d549ca",
   "metadata": {},
   "outputs": [
    {
     "data": {
      "text/plain": [
       "array([[ 101,    0],\n",
       "       [   1,    1],\n",
       "       [   2, -101]])"
      ]
     },
     "execution_count": 91,
     "metadata": {},
     "output_type": "execute_result"
    }
   ],
   "source": [
    "copy_array"
   ]
  },
  {
   "cell_type": "code",
   "execution_count": 92,
   "id": "0445da9c",
   "metadata": {},
   "outputs": [],
   "source": [
    "copy_array[0, 0] = -201\n",
    "\n",
    "copy_array[1, 1] = 505"
   ]
  },
  {
   "cell_type": "code",
   "execution_count": 93,
   "id": "66092d21",
   "metadata": {},
   "outputs": [
    {
     "data": {
      "text/plain": [
       "array([[-201,    0],\n",
       "       [   1,  505],\n",
       "       [   2, -101]])"
      ]
     },
     "execution_count": 93,
     "metadata": {},
     "output_type": "execute_result"
    }
   ],
   "source": [
    "copy_array"
   ]
  },
  {
   "cell_type": "code",
   "execution_count": 94,
   "id": "2a087616",
   "metadata": {},
   "outputs": [
    {
     "data": {
      "text/plain": [
       "array([[ 101,    0,    0],\n",
       "       [   1,    1,    1],\n",
       "       [   2, -101,    2]])"
      ]
     },
     "execution_count": 94,
     "metadata": {},
     "output_type": "execute_result"
    }
   ],
   "source": [
    "my_array_1"
   ]
  },
  {
   "cell_type": "markdown",
   "id": "fbf20294",
   "metadata": {},
   "source": [
    "## Concatenate arrays"
   ]
  },
  {
   "cell_type": "code",
   "execution_count": 95,
   "id": "7a80cf47",
   "metadata": {},
   "outputs": [],
   "source": [
    "my_1d_array = np.array([1, 2, 3])\n",
    "\n",
    "my_1d_array_b = np.array([3, 2, 1])"
   ]
  },
  {
   "cell_type": "code",
   "execution_count": 96,
   "id": "ee8200c9",
   "metadata": {},
   "outputs": [
    {
     "data": {
      "text/plain": [
       "array([1, 2, 3, 3, 2, 1])"
      ]
     },
     "execution_count": 96,
     "metadata": {},
     "output_type": "execute_result"
    }
   ],
   "source": [
    "np.concatenate( [ my_1d_array, my_1d_array_b] )"
   ]
  },
  {
   "cell_type": "code",
   "execution_count": 97,
   "id": "b1cff5e0",
   "metadata": {},
   "outputs": [
    {
     "data": {
      "text/plain": [
       "array([[1, 2, 3],\n",
       "       [3, 2, 1]])"
      ]
     },
     "execution_count": 97,
     "metadata": {},
     "output_type": "execute_result"
    }
   ],
   "source": [
    "np.concatenate( [ [my_1d_array], [my_1d_array_b] ] )"
   ]
  },
  {
   "cell_type": "code",
   "execution_count": 98,
   "id": "0f986d16",
   "metadata": {},
   "outputs": [
    {
     "data": {
      "text/plain": [
       "2"
      ]
     },
     "execution_count": 98,
     "metadata": {},
     "output_type": "execute_result"
    }
   ],
   "source": [
    "np.concatenate( [ [my_1d_array], [my_1d_array_b] ] ).ndim"
   ]
  },
  {
   "cell_type": "code",
   "execution_count": 99,
   "id": "c432b809",
   "metadata": {},
   "outputs": [
    {
     "data": {
      "text/plain": [
       "(2, 3)"
      ]
     },
     "execution_count": 99,
     "metadata": {},
     "output_type": "execute_result"
    }
   ],
   "source": [
    "np.concatenate( [ [my_1d_array], [my_1d_array_b] ] ).shape"
   ]
  },
  {
   "cell_type": "markdown",
   "id": "22b916b7",
   "metadata": {},
   "source": [
    "combining 2D arrays."
   ]
  },
  {
   "cell_type": "code",
   "execution_count": 100,
   "id": "444b61a6",
   "metadata": {},
   "outputs": [],
   "source": [
    "b_2d_a = np.array([ [0, 0, 0], [1, 1, 1] ])\n",
    "\n",
    "b_2d_b = np.array([ [2, 2, 2], [3, 3, 3]])"
   ]
  },
  {
   "cell_type": "code",
   "execution_count": 101,
   "id": "7b66a6ca",
   "metadata": {},
   "outputs": [
    {
     "name": "stdout",
     "output_type": "stream",
     "text": [
      "[[0 0 0]\n",
      " [1 1 1]]\n",
      "------\n",
      "[[2 2 2]\n",
      " [3 3 3]]\n"
     ]
    }
   ],
   "source": [
    "print( b_2d_a )\n",
    "\n",
    "print('------')\n",
    "\n",
    "print( b_2d_b )"
   ]
  },
  {
   "cell_type": "code",
   "execution_count": 102,
   "id": "c9615fbc",
   "metadata": {},
   "outputs": [
    {
     "data": {
      "text/plain": [
       "array([[0, 0, 0],\n",
       "       [1, 1, 1],\n",
       "       [2, 2, 2],\n",
       "       [3, 3, 3]])"
      ]
     },
     "execution_count": 102,
     "metadata": {},
     "output_type": "execute_result"
    }
   ],
   "source": [
    "np.vstack((b_2d_a, b_2d_b))"
   ]
  },
  {
   "cell_type": "code",
   "execution_count": 103,
   "id": "4a0e9ce1",
   "metadata": {},
   "outputs": [
    {
     "data": {
      "text/plain": [
       "2"
      ]
     },
     "execution_count": 103,
     "metadata": {},
     "output_type": "execute_result"
    }
   ],
   "source": [
    "np.vstack((b_2d_a, b_2d_b)).ndim"
   ]
  },
  {
   "cell_type": "code",
   "execution_count": 104,
   "id": "9be38a94",
   "metadata": {},
   "outputs": [
    {
     "data": {
      "text/plain": [
       "(4, 3)"
      ]
     },
     "execution_count": 104,
     "metadata": {},
     "output_type": "execute_result"
    }
   ],
   "source": [
    "np.vstack((b_2d_a, b_2d_b)).shape"
   ]
  },
  {
   "cell_type": "code",
   "execution_count": 105,
   "id": "6cd4d244",
   "metadata": {},
   "outputs": [
    {
     "data": {
      "text/plain": [
       "array([[0, 0, 0, 2, 2, 2],\n",
       "       [1, 1, 1, 3, 3, 3]])"
      ]
     },
     "execution_count": 105,
     "metadata": {},
     "output_type": "execute_result"
    }
   ],
   "source": [
    "np.hstack( (b_2d_a, b_2d_b) )"
   ]
  },
  {
   "cell_type": "code",
   "execution_count": 106,
   "id": "a16a9736",
   "metadata": {},
   "outputs": [
    {
     "data": {
      "text/plain": [
       "(2, 6)"
      ]
     },
     "execution_count": 106,
     "metadata": {},
     "output_type": "execute_result"
    }
   ],
   "source": [
    "np.hstack( (b_2d_a, b_2d_b) ).shape"
   ]
  },
  {
   "cell_type": "code",
   "execution_count": 107,
   "id": "408361c9",
   "metadata": {},
   "outputs": [
    {
     "data": {
      "text/plain": [
       "array([[0, 0, 0, 2, 2, 2],\n",
       "       [1, 1, 1, 3, 3, 3]])"
      ]
     },
     "execution_count": 107,
     "metadata": {},
     "output_type": "execute_result"
    }
   ],
   "source": [
    "np.hstack( [b_2d_a, b_2d_b] )"
   ]
  },
  {
   "cell_type": "code",
   "execution_count": 108,
   "id": "314c98fa",
   "metadata": {},
   "outputs": [],
   "source": [
    "yy = np.hstack( [b_2d_a, b_2d_b] )"
   ]
  },
  {
   "cell_type": "code",
   "execution_count": 109,
   "id": "fb7aaf22",
   "metadata": {},
   "outputs": [],
   "source": [
    "yy[0, 0] = -1000"
   ]
  },
  {
   "cell_type": "code",
   "execution_count": 110,
   "id": "8c648706",
   "metadata": {},
   "outputs": [
    {
     "data": {
      "text/plain": [
       "array([[-1000,     0,     0,     2,     2,     2],\n",
       "       [    1,     1,     1,     3,     3,     3]])"
      ]
     },
     "execution_count": 110,
     "metadata": {},
     "output_type": "execute_result"
    }
   ],
   "source": [
    "yy"
   ]
  },
  {
   "cell_type": "code",
   "execution_count": 111,
   "id": "92b8bee8",
   "metadata": {},
   "outputs": [],
   "source": [
    "zz = np.hstack( (b_2d_a, b_2d_b) )"
   ]
  },
  {
   "cell_type": "code",
   "execution_count": 112,
   "id": "81dd2b82",
   "metadata": {},
   "outputs": [],
   "source": [
    "zz[0, 0] = -1000"
   ]
  },
  {
   "cell_type": "code",
   "execution_count": 113,
   "id": "312d2f5a",
   "metadata": {},
   "outputs": [
    {
     "data": {
      "text/plain": [
       "array([[-1000,     0,     0,     2,     2,     2],\n",
       "       [    1,     1,     1,     3,     3,     3]])"
      ]
     },
     "execution_count": 113,
     "metadata": {},
     "output_type": "execute_result"
    }
   ],
   "source": [
    "zz"
   ]
  },
  {
   "cell_type": "code",
   "execution_count": 114,
   "id": "028b6a87",
   "metadata": {},
   "outputs": [
    {
     "data": {
      "text/plain": [
       "array([[0, 0, 0],\n",
       "       [1, 1, 1]])"
      ]
     },
     "execution_count": 114,
     "metadata": {},
     "output_type": "execute_result"
    }
   ],
   "source": [
    "b_2d_a"
   ]
  },
  {
   "cell_type": "markdown",
   "id": "ccde3b34",
   "metadata": {},
   "source": [
    "### Reshaping"
   ]
  },
  {
   "cell_type": "code",
   "execution_count": 115,
   "id": "b35cc4f6",
   "metadata": {},
   "outputs": [
    {
     "data": {
      "text/plain": [
       "array([ 1,  2,  3,  4,  5,  6,  7,  8,  9, 10, 11, 12, 13, 14, 15, 16, 17,\n",
       "       18, 19, 20, 21, 22, 23, 24])"
      ]
     },
     "execution_count": 115,
     "metadata": {},
     "output_type": "execute_result"
    }
   ],
   "source": [
    "np.arange(1, 25)"
   ]
  },
  {
   "cell_type": "code",
   "execution_count": 116,
   "id": "5f19fe57",
   "metadata": {},
   "outputs": [
    {
     "data": {
      "text/plain": [
       "1"
      ]
     },
     "execution_count": 116,
     "metadata": {},
     "output_type": "execute_result"
    }
   ],
   "source": [
    "np.arange(1, 25).ndim"
   ]
  },
  {
   "cell_type": "code",
   "execution_count": 117,
   "id": "a6a07d43",
   "metadata": {},
   "outputs": [
    {
     "data": {
      "text/plain": [
       "24"
      ]
     },
     "execution_count": 117,
     "metadata": {},
     "output_type": "execute_result"
    }
   ],
   "source": [
    "np.arange(1, 25).size"
   ]
  },
  {
   "cell_type": "markdown",
   "id": "7d4c8f1b",
   "metadata": {},
   "source": [
    "Turn into a 2D array with the `.reshape()` method."
   ]
  },
  {
   "cell_type": "code",
   "execution_count": 118,
   "id": "73cb9184",
   "metadata": {},
   "outputs": [
    {
     "data": {
      "text/plain": [
       "array([[ 1,  2,  3,  4,  5,  6,  7,  8,  9, 10, 11, 12],\n",
       "       [13, 14, 15, 16, 17, 18, 19, 20, 21, 22, 23, 24]])"
      ]
     },
     "execution_count": 118,
     "metadata": {},
     "output_type": "execute_result"
    }
   ],
   "source": [
    "np.arange(1, 25).reshape(2, 12)"
   ]
  },
  {
   "cell_type": "code",
   "execution_count": 119,
   "id": "7a650169",
   "metadata": {},
   "outputs": [
    {
     "data": {
      "text/plain": [
       "array([[ 1,  2],\n",
       "       [ 3,  4],\n",
       "       [ 5,  6],\n",
       "       [ 7,  8],\n",
       "       [ 9, 10],\n",
       "       [11, 12],\n",
       "       [13, 14],\n",
       "       [15, 16],\n",
       "       [17, 18],\n",
       "       [19, 20],\n",
       "       [21, 22],\n",
       "       [23, 24]])"
      ]
     },
     "execution_count": 119,
     "metadata": {},
     "output_type": "execute_result"
    }
   ],
   "source": [
    "np.arange(1, 25).reshape(12, 2)"
   ]
  },
  {
   "cell_type": "code",
   "execution_count": 120,
   "id": "a6576256",
   "metadata": {},
   "outputs": [
    {
     "data": {
      "text/plain": [
       "(12, 2)"
      ]
     },
     "execution_count": 120,
     "metadata": {},
     "output_type": "execute_result"
    }
   ],
   "source": [
    "np.arange(1, 25).reshape(12, 2).shape"
   ]
  },
  {
   "cell_type": "code",
   "execution_count": 121,
   "id": "7073e4a7",
   "metadata": {},
   "outputs": [
    {
     "data": {
      "text/plain": [
       "24"
      ]
     },
     "execution_count": 121,
     "metadata": {},
     "output_type": "execute_result"
    }
   ],
   "source": [
    "np.arange(1, 25).reshape(12, 2).size"
   ]
  },
  {
   "cell_type": "code",
   "execution_count": 122,
   "id": "cab1c84e",
   "metadata": {},
   "outputs": [
    {
     "data": {
      "text/plain": [
       "24"
      ]
     },
     "execution_count": 122,
     "metadata": {},
     "output_type": "execute_result"
    }
   ],
   "source": [
    "np.arange(1, 25).reshape(2, 12).size"
   ]
  },
  {
   "cell_type": "code",
   "execution_count": 123,
   "id": "37661585",
   "metadata": {},
   "outputs": [
    {
     "data": {
      "text/plain": [
       "array([[ 1,  2,  3,  4],\n",
       "       [ 5,  6,  7,  8],\n",
       "       [ 9, 10, 11, 12],\n",
       "       [13, 14, 15, 16],\n",
       "       [17, 18, 19, 20],\n",
       "       [21, 22, 23, 24]])"
      ]
     },
     "execution_count": 123,
     "metadata": {},
     "output_type": "execute_result"
    }
   ],
   "source": [
    "np.arange(1, 25).reshape(6, 4)"
   ]
  },
  {
   "cell_type": "code",
   "execution_count": 124,
   "id": "4b4fc97b",
   "metadata": {},
   "outputs": [
    {
     "data": {
      "text/plain": [
       "array([[ 1,  2,  3],\n",
       "       [ 4,  5,  6],\n",
       "       [ 7,  8,  9],\n",
       "       [10, 11, 12],\n",
       "       [13, 14, 15],\n",
       "       [16, 17, 18],\n",
       "       [19, 20, 21],\n",
       "       [22, 23, 24]])"
      ]
     },
     "execution_count": 124,
     "metadata": {},
     "output_type": "execute_result"
    }
   ],
   "source": [
    "np.arange(1, 25).reshape(8, -1)"
   ]
  },
  {
   "cell_type": "code",
   "execution_count": 125,
   "id": "6a5a780e",
   "metadata": {},
   "outputs": [
    {
     "data": {
      "text/plain": [
       "array([[ 1,  2,  3,  4,  5,  6,  7,  8],\n",
       "       [ 9, 10, 11, 12, 13, 14, 15, 16],\n",
       "       [17, 18, 19, 20, 21, 22, 23, 24]])"
      ]
     },
     "execution_count": 125,
     "metadata": {},
     "output_type": "execute_result"
    }
   ],
   "source": [
    "np.arange(1, 25).reshape(-1, 8)"
   ]
  },
  {
   "cell_type": "code",
   "execution_count": 126,
   "id": "573938cc",
   "metadata": {},
   "outputs": [
    {
     "ename": "ValueError",
     "evalue": "cannot reshape array of size 24 into shape (9,newaxis)",
     "output_type": "error",
     "traceback": [
      "\u001b[1;31m---------------------------------------------------------------------------\u001b[0m",
      "\u001b[1;31mValueError\u001b[0m                                Traceback (most recent call last)",
      "\u001b[1;32m~\\AppData\\Local\\Temp/ipykernel_5820/1699738218.py\u001b[0m in \u001b[0;36m<module>\u001b[1;34m\u001b[0m\n\u001b[1;32m----> 1\u001b[1;33m \u001b[0mnp\u001b[0m\u001b[1;33m.\u001b[0m\u001b[0marange\u001b[0m\u001b[1;33m(\u001b[0m\u001b[1;36m1\u001b[0m\u001b[1;33m,\u001b[0m \u001b[1;36m25\u001b[0m\u001b[1;33m)\u001b[0m\u001b[1;33m.\u001b[0m\u001b[0mreshape\u001b[0m\u001b[1;33m(\u001b[0m\u001b[1;36m9\u001b[0m\u001b[1;33m,\u001b[0m \u001b[1;33m-\u001b[0m\u001b[1;36m1\u001b[0m\u001b[1;33m)\u001b[0m\u001b[1;33m\u001b[0m\u001b[1;33m\u001b[0m\u001b[0m\n\u001b[0m",
      "\u001b[1;31mValueError\u001b[0m: cannot reshape array of size 24 into shape (9,newaxis)"
     ]
    }
   ],
   "source": [
    "np.arange(1, 25).reshape(9, -1)"
   ]
  },
  {
   "cell_type": "markdown",
   "id": "0100bb3e",
   "metadata": {},
   "source": [
    "### Array summary operations"
   ]
  },
  {
   "cell_type": "code",
   "execution_count": 127,
   "id": "0b210b86",
   "metadata": {},
   "outputs": [],
   "source": [
    "X = np.arange(0, 24).reshape(6, -1)"
   ]
  },
  {
   "cell_type": "code",
   "execution_count": 128,
   "id": "f4858c46",
   "metadata": {},
   "outputs": [
    {
     "name": "stdout",
     "output_type": "stream",
     "text": [
      "[[ 0  1  2  3]\n",
      " [ 4  5  6  7]\n",
      " [ 8  9 10 11]\n",
      " [12 13 14 15]\n",
      " [16 17 18 19]\n",
      " [20 21 22 23]]\n"
     ]
    }
   ],
   "source": [
    "print( X )"
   ]
  },
  {
   "cell_type": "code",
   "execution_count": 129,
   "id": "e9f23c1f",
   "metadata": {},
   "outputs": [
    {
     "data": {
      "text/plain": [
       "(6, 4)"
      ]
     },
     "execution_count": 129,
     "metadata": {},
     "output_type": "execute_result"
    }
   ],
   "source": [
    "X.shape"
   ]
  },
  {
   "cell_type": "code",
   "execution_count": 130,
   "id": "a398700a",
   "metadata": {},
   "outputs": [
    {
     "data": {
      "text/plain": [
       "23"
      ]
     },
     "execution_count": 130,
     "metadata": {},
     "output_type": "execute_result"
    }
   ],
   "source": [
    "X.max()"
   ]
  },
  {
   "cell_type": "code",
   "execution_count": 131,
   "id": "52d86640",
   "metadata": {},
   "outputs": [
    {
     "data": {
      "text/plain": [
       "0"
      ]
     },
     "execution_count": 131,
     "metadata": {},
     "output_type": "execute_result"
    }
   ],
   "source": [
    "X.min()"
   ]
  },
  {
   "cell_type": "code",
   "execution_count": 132,
   "id": "c303e057",
   "metadata": {},
   "outputs": [
    {
     "data": {
      "text/plain": [
       "array([20, 21, 22, 23])"
      ]
     },
     "execution_count": 132,
     "metadata": {},
     "output_type": "execute_result"
    }
   ],
   "source": [
    "X.max(axis=0) # applying the method per column - or down the row"
   ]
  },
  {
   "cell_type": "code",
   "execution_count": 133,
   "id": "80e913db",
   "metadata": {},
   "outputs": [
    {
     "data": {
      "text/plain": [
       "array([0, 1, 2, 3])"
      ]
     },
     "execution_count": 133,
     "metadata": {},
     "output_type": "execute_result"
    }
   ],
   "source": [
    "X.min(axis=0)"
   ]
  },
  {
   "cell_type": "code",
   "execution_count": 134,
   "id": "ecaa6f3e",
   "metadata": {},
   "outputs": [
    {
     "data": {
      "text/plain": [
       "array([ 3,  7, 11, 15, 19, 23])"
      ]
     },
     "execution_count": 134,
     "metadata": {},
     "output_type": "execute_result"
    }
   ],
   "source": [
    "X.max(axis=1) # applying the method per row"
   ]
  },
  {
   "cell_type": "code",
   "execution_count": 136,
   "id": "0f1b6f3c",
   "metadata": {},
   "outputs": [
    {
     "data": {
      "text/plain": [
       "array([ 0,  4,  8, 12, 16, 20])"
      ]
     },
     "execution_count": 136,
     "metadata": {},
     "output_type": "execute_result"
    }
   ],
   "source": [
    "X.min(axis=1)"
   ]
  },
  {
   "cell_type": "code",
   "execution_count": 137,
   "id": "951ef608",
   "metadata": {},
   "outputs": [
    {
     "data": {
      "text/plain": [
       "11.5"
      ]
     },
     "execution_count": 137,
     "metadata": {},
     "output_type": "execute_result"
    }
   ],
   "source": [
    "X.mean()"
   ]
  },
  {
   "cell_type": "code",
   "execution_count": 138,
   "id": "c6566afa",
   "metadata": {},
   "outputs": [
    {
     "data": {
      "text/plain": [
       "array([10., 11., 12., 13.])"
      ]
     },
     "execution_count": 138,
     "metadata": {},
     "output_type": "execute_result"
    }
   ],
   "source": [
    "X.mean(axis=0)"
   ]
  },
  {
   "cell_type": "code",
   "execution_count": null,
   "id": "bf56828d",
   "metadata": {},
   "outputs": [],
   "source": []
  }
 ],
 "metadata": {
  "kernelspec": {
   "display_name": "Python 3 (ipykernel)",
   "language": "python",
   "name": "python3"
  },
  "language_info": {
   "codemirror_mode": {
    "name": "ipython",
    "version": 3
   },
   "file_extension": ".py",
   "mimetype": "text/x-python",
   "name": "python",
   "nbconvert_exporter": "python",
   "pygments_lexer": "ipython3",
   "version": "3.8.11"
  }
 },
 "nbformat": 4,
 "nbformat_minor": 5
}
